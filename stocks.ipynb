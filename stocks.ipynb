{
  "nbformat": 4,
  "nbformat_minor": 0,
  "metadata": {
    "colab": {
      "provenance": []
    },
    "kernelspec": {
      "name": "python3",
      "display_name": "Python 3"
    },
    "language_info": {
      "name": "python"
    }
  },
  "cells": [
    {
      "cell_type": "markdown",
      "source": [
        "**References:**\n",
        "\n",
        "\n",
        "1.   https://medium.com/@agarwal.vishal819/outlier-detection-with-boxplots-1b6757fafa21\n",
        "2.   https://codeburst.io/2-important-statistics-terms-you-need-to-know-in-data-science-skewness-and-kurtosis-388fef94eeaa\n",
        "3.   https://www.simplypsychology.org/normal-distribution.html\n",
        "4.   https://conjointly.com/kb/descriptive-statistics/\n",
        "5.   https://www.investopedia.com/terms/d/descriptive_statistics.asp#toc-what-is-descriptive-statistics\n",
        "6.   https://towardsdatascience.com/understand-q-q-plot-using-simple-python-4f83d5b89f8f\n",
        "\n"
      ],
      "metadata": {
        "id": "BZyRwZHarlSv"
      }
    },
    {
      "cell_type": "code",
      "execution_count": null,
      "metadata": {
        "id": "IN5RzlrP4kt2"
      },
      "outputs": [],
      "source": [
        "import pandas as pd\n",
        "import numpy as np\n",
        "import matplotlib.pyplot as plt\n",
        "import statsmodels.api as sm\n",
        "import seaborn as sns"
      ]
    },
    {
      "cell_type": "code",
      "source": [
        "data=pd.read_csv('/content/stocks_closes.csv')"
      ],
      "metadata": {
        "id": "sTjfhSgQ4msv"
      },
      "execution_count": null,
      "outputs": []
    },
    {
      "cell_type": "code",
      "source": [
        "data"
      ],
      "metadata": {
        "colab": {
          "base_uri": "https://localhost:8080/",
          "height": 424
        },
        "id": "r0QDUNWF4y_r",
        "outputId": "877cb5ac-348e-4b6c-a870-b53a9b5bd679"
      },
      "execution_count": null,
      "outputs": [
        {
          "output_type": "execute_result",
          "data": {
            "text/plain": [
              "     Unnamed: 0    ALXN    WMT   NWSA    COST    DPS     WM    EXC    CRM  \\\n",
              "0    2016-08-12  133.44  73.89  13.51  169.04  97.23  66.67  34.94  81.63   \n",
              "1    2016-08-15  136.07  73.32  13.65  168.73  97.00  66.23  34.63  78.92   \n",
              "2    2016-08-16  133.76  72.89  13.68  168.41  95.21  64.97  34.23  77.96   \n",
              "3    2016-08-17  133.06  72.93  13.76  167.96  95.89  65.41  34.58  76.32   \n",
              "4    2016-08-18  132.43  74.30  13.75  167.75  95.64  64.92  34.71  76.91   \n",
              "..          ...     ...    ...    ...     ...    ...    ...    ...    ...   \n",
              "247  2017-08-07  138.33  81.28  14.34  156.95  91.06  75.39  38.22  90.50   \n",
              "248  2017-08-08  136.04  81.59  14.24  157.75  90.31  75.34  38.21  90.26   \n",
              "249  2017-08-09  136.85  81.61  14.17  156.86  90.32  75.23  37.70  90.12   \n",
              "250  2017-08-10  132.30  80.66  13.68  156.64  90.38  74.81  37.74  87.63   \n",
              "251  2017-08-11  132.93  80.40  13.43  156.65  90.38  74.61  37.50  88.29   \n",
              "\n",
              "       AXP  ...     MAA      LH   NAVI    TSN    HCN     PNC    UAL    WRK  \\\n",
              "0    65.38  ...  102.15  140.05  13.49  75.37  78.36   85.00  47.10  44.47   \n",
              "1    65.63  ...   97.15  139.77  13.82  75.09  77.75   85.63  48.01  44.00   \n",
              "2    65.30  ...   94.01  138.89  13.91  74.25  76.67   85.67  47.99  44.86   \n",
              "3    65.68  ...   95.02  138.24  14.54  74.38  77.00   85.78  48.18  45.49   \n",
              "4    65.63  ...   94.30  138.71  14.56  75.03  76.89   85.46  47.60  45.57   \n",
              "..     ...  ...     ...     ...    ...    ...    ...     ...    ...    ...   \n",
              "247  85.85  ...  104.02  158.21  14.55  66.90  71.92  131.11  68.39  57.16   \n",
              "248  85.94  ...  104.36  157.43  14.48  65.02  71.94  132.36  67.79  56.56   \n",
              "249  85.69  ...  105.09  157.75  14.15  64.66  71.24  131.73  67.06  56.14   \n",
              "250  84.56  ...  104.48  156.40  13.70  64.87  70.60  128.99  65.24  55.23   \n",
              "251  84.29  ...  104.02  156.21  13.68  65.55  70.40  128.05  65.87  55.61   \n",
              "\n",
              "        AMP    PKI  \n",
              "0     95.60  54.41  \n",
              "1     96.85  54.61  \n",
              "2     96.54  54.71  \n",
              "3     97.22  54.91  \n",
              "4     97.17  54.96  \n",
              "..      ...    ...  \n",
              "247  147.29  65.80  \n",
              "248  148.80  64.03  \n",
              "249  147.95  64.25  \n",
              "250  143.79  62.95  \n",
              "251  143.36  63.93  \n",
              "\n",
              "[252 rows x 505 columns]"
            ],
            "text/html": [
              "\n",
              "  <div id=\"df-3dea19a3-2c9a-4a11-93ac-93b361404202\">\n",
              "    <div class=\"colab-df-container\">\n",
              "      <div>\n",
              "<style scoped>\n",
              "    .dataframe tbody tr th:only-of-type {\n",
              "        vertical-align: middle;\n",
              "    }\n",
              "\n",
              "    .dataframe tbody tr th {\n",
              "        vertical-align: top;\n",
              "    }\n",
              "\n",
              "    .dataframe thead th {\n",
              "        text-align: right;\n",
              "    }\n",
              "</style>\n",
              "<table border=\"1\" class=\"dataframe\">\n",
              "  <thead>\n",
              "    <tr style=\"text-align: right;\">\n",
              "      <th></th>\n",
              "      <th>Unnamed: 0</th>\n",
              "      <th>ALXN</th>\n",
              "      <th>WMT</th>\n",
              "      <th>NWSA</th>\n",
              "      <th>COST</th>\n",
              "      <th>DPS</th>\n",
              "      <th>WM</th>\n",
              "      <th>EXC</th>\n",
              "      <th>CRM</th>\n",
              "      <th>AXP</th>\n",
              "      <th>...</th>\n",
              "      <th>MAA</th>\n",
              "      <th>LH</th>\n",
              "      <th>NAVI</th>\n",
              "      <th>TSN</th>\n",
              "      <th>HCN</th>\n",
              "      <th>PNC</th>\n",
              "      <th>UAL</th>\n",
              "      <th>WRK</th>\n",
              "      <th>AMP</th>\n",
              "      <th>PKI</th>\n",
              "    </tr>\n",
              "  </thead>\n",
              "  <tbody>\n",
              "    <tr>\n",
              "      <th>0</th>\n",
              "      <td>2016-08-12</td>\n",
              "      <td>133.44</td>\n",
              "      <td>73.89</td>\n",
              "      <td>13.51</td>\n",
              "      <td>169.04</td>\n",
              "      <td>97.23</td>\n",
              "      <td>66.67</td>\n",
              "      <td>34.94</td>\n",
              "      <td>81.63</td>\n",
              "      <td>65.38</td>\n",
              "      <td>...</td>\n",
              "      <td>102.15</td>\n",
              "      <td>140.05</td>\n",
              "      <td>13.49</td>\n",
              "      <td>75.37</td>\n",
              "      <td>78.36</td>\n",
              "      <td>85.00</td>\n",
              "      <td>47.10</td>\n",
              "      <td>44.47</td>\n",
              "      <td>95.60</td>\n",
              "      <td>54.41</td>\n",
              "    </tr>\n",
              "    <tr>\n",
              "      <th>1</th>\n",
              "      <td>2016-08-15</td>\n",
              "      <td>136.07</td>\n",
              "      <td>73.32</td>\n",
              "      <td>13.65</td>\n",
              "      <td>168.73</td>\n",
              "      <td>97.00</td>\n",
              "      <td>66.23</td>\n",
              "      <td>34.63</td>\n",
              "      <td>78.92</td>\n",
              "      <td>65.63</td>\n",
              "      <td>...</td>\n",
              "      <td>97.15</td>\n",
              "      <td>139.77</td>\n",
              "      <td>13.82</td>\n",
              "      <td>75.09</td>\n",
              "      <td>77.75</td>\n",
              "      <td>85.63</td>\n",
              "      <td>48.01</td>\n",
              "      <td>44.00</td>\n",
              "      <td>96.85</td>\n",
              "      <td>54.61</td>\n",
              "    </tr>\n",
              "    <tr>\n",
              "      <th>2</th>\n",
              "      <td>2016-08-16</td>\n",
              "      <td>133.76</td>\n",
              "      <td>72.89</td>\n",
              "      <td>13.68</td>\n",
              "      <td>168.41</td>\n",
              "      <td>95.21</td>\n",
              "      <td>64.97</td>\n",
              "      <td>34.23</td>\n",
              "      <td>77.96</td>\n",
              "      <td>65.30</td>\n",
              "      <td>...</td>\n",
              "      <td>94.01</td>\n",
              "      <td>138.89</td>\n",
              "      <td>13.91</td>\n",
              "      <td>74.25</td>\n",
              "      <td>76.67</td>\n",
              "      <td>85.67</td>\n",
              "      <td>47.99</td>\n",
              "      <td>44.86</td>\n",
              "      <td>96.54</td>\n",
              "      <td>54.71</td>\n",
              "    </tr>\n",
              "    <tr>\n",
              "      <th>3</th>\n",
              "      <td>2016-08-17</td>\n",
              "      <td>133.06</td>\n",
              "      <td>72.93</td>\n",
              "      <td>13.76</td>\n",
              "      <td>167.96</td>\n",
              "      <td>95.89</td>\n",
              "      <td>65.41</td>\n",
              "      <td>34.58</td>\n",
              "      <td>76.32</td>\n",
              "      <td>65.68</td>\n",
              "      <td>...</td>\n",
              "      <td>95.02</td>\n",
              "      <td>138.24</td>\n",
              "      <td>14.54</td>\n",
              "      <td>74.38</td>\n",
              "      <td>77.00</td>\n",
              "      <td>85.78</td>\n",
              "      <td>48.18</td>\n",
              "      <td>45.49</td>\n",
              "      <td>97.22</td>\n",
              "      <td>54.91</td>\n",
              "    </tr>\n",
              "    <tr>\n",
              "      <th>4</th>\n",
              "      <td>2016-08-18</td>\n",
              "      <td>132.43</td>\n",
              "      <td>74.30</td>\n",
              "      <td>13.75</td>\n",
              "      <td>167.75</td>\n",
              "      <td>95.64</td>\n",
              "      <td>64.92</td>\n",
              "      <td>34.71</td>\n",
              "      <td>76.91</td>\n",
              "      <td>65.63</td>\n",
              "      <td>...</td>\n",
              "      <td>94.30</td>\n",
              "      <td>138.71</td>\n",
              "      <td>14.56</td>\n",
              "      <td>75.03</td>\n",
              "      <td>76.89</td>\n",
              "      <td>85.46</td>\n",
              "      <td>47.60</td>\n",
              "      <td>45.57</td>\n",
              "      <td>97.17</td>\n",
              "      <td>54.96</td>\n",
              "    </tr>\n",
              "    <tr>\n",
              "      <th>...</th>\n",
              "      <td>...</td>\n",
              "      <td>...</td>\n",
              "      <td>...</td>\n",
              "      <td>...</td>\n",
              "      <td>...</td>\n",
              "      <td>...</td>\n",
              "      <td>...</td>\n",
              "      <td>...</td>\n",
              "      <td>...</td>\n",
              "      <td>...</td>\n",
              "      <td>...</td>\n",
              "      <td>...</td>\n",
              "      <td>...</td>\n",
              "      <td>...</td>\n",
              "      <td>...</td>\n",
              "      <td>...</td>\n",
              "      <td>...</td>\n",
              "      <td>...</td>\n",
              "      <td>...</td>\n",
              "      <td>...</td>\n",
              "      <td>...</td>\n",
              "    </tr>\n",
              "    <tr>\n",
              "      <th>247</th>\n",
              "      <td>2017-08-07</td>\n",
              "      <td>138.33</td>\n",
              "      <td>81.28</td>\n",
              "      <td>14.34</td>\n",
              "      <td>156.95</td>\n",
              "      <td>91.06</td>\n",
              "      <td>75.39</td>\n",
              "      <td>38.22</td>\n",
              "      <td>90.50</td>\n",
              "      <td>85.85</td>\n",
              "      <td>...</td>\n",
              "      <td>104.02</td>\n",
              "      <td>158.21</td>\n",
              "      <td>14.55</td>\n",
              "      <td>66.90</td>\n",
              "      <td>71.92</td>\n",
              "      <td>131.11</td>\n",
              "      <td>68.39</td>\n",
              "      <td>57.16</td>\n",
              "      <td>147.29</td>\n",
              "      <td>65.80</td>\n",
              "    </tr>\n",
              "    <tr>\n",
              "      <th>248</th>\n",
              "      <td>2017-08-08</td>\n",
              "      <td>136.04</td>\n",
              "      <td>81.59</td>\n",
              "      <td>14.24</td>\n",
              "      <td>157.75</td>\n",
              "      <td>90.31</td>\n",
              "      <td>75.34</td>\n",
              "      <td>38.21</td>\n",
              "      <td>90.26</td>\n",
              "      <td>85.94</td>\n",
              "      <td>...</td>\n",
              "      <td>104.36</td>\n",
              "      <td>157.43</td>\n",
              "      <td>14.48</td>\n",
              "      <td>65.02</td>\n",
              "      <td>71.94</td>\n",
              "      <td>132.36</td>\n",
              "      <td>67.79</td>\n",
              "      <td>56.56</td>\n",
              "      <td>148.80</td>\n",
              "      <td>64.03</td>\n",
              "    </tr>\n",
              "    <tr>\n",
              "      <th>249</th>\n",
              "      <td>2017-08-09</td>\n",
              "      <td>136.85</td>\n",
              "      <td>81.61</td>\n",
              "      <td>14.17</td>\n",
              "      <td>156.86</td>\n",
              "      <td>90.32</td>\n",
              "      <td>75.23</td>\n",
              "      <td>37.70</td>\n",
              "      <td>90.12</td>\n",
              "      <td>85.69</td>\n",
              "      <td>...</td>\n",
              "      <td>105.09</td>\n",
              "      <td>157.75</td>\n",
              "      <td>14.15</td>\n",
              "      <td>64.66</td>\n",
              "      <td>71.24</td>\n",
              "      <td>131.73</td>\n",
              "      <td>67.06</td>\n",
              "      <td>56.14</td>\n",
              "      <td>147.95</td>\n",
              "      <td>64.25</td>\n",
              "    </tr>\n",
              "    <tr>\n",
              "      <th>250</th>\n",
              "      <td>2017-08-10</td>\n",
              "      <td>132.30</td>\n",
              "      <td>80.66</td>\n",
              "      <td>13.68</td>\n",
              "      <td>156.64</td>\n",
              "      <td>90.38</td>\n",
              "      <td>74.81</td>\n",
              "      <td>37.74</td>\n",
              "      <td>87.63</td>\n",
              "      <td>84.56</td>\n",
              "      <td>...</td>\n",
              "      <td>104.48</td>\n",
              "      <td>156.40</td>\n",
              "      <td>13.70</td>\n",
              "      <td>64.87</td>\n",
              "      <td>70.60</td>\n",
              "      <td>128.99</td>\n",
              "      <td>65.24</td>\n",
              "      <td>55.23</td>\n",
              "      <td>143.79</td>\n",
              "      <td>62.95</td>\n",
              "    </tr>\n",
              "    <tr>\n",
              "      <th>251</th>\n",
              "      <td>2017-08-11</td>\n",
              "      <td>132.93</td>\n",
              "      <td>80.40</td>\n",
              "      <td>13.43</td>\n",
              "      <td>156.65</td>\n",
              "      <td>90.38</td>\n",
              "      <td>74.61</td>\n",
              "      <td>37.50</td>\n",
              "      <td>88.29</td>\n",
              "      <td>84.29</td>\n",
              "      <td>...</td>\n",
              "      <td>104.02</td>\n",
              "      <td>156.21</td>\n",
              "      <td>13.68</td>\n",
              "      <td>65.55</td>\n",
              "      <td>70.40</td>\n",
              "      <td>128.05</td>\n",
              "      <td>65.87</td>\n",
              "      <td>55.61</td>\n",
              "      <td>143.36</td>\n",
              "      <td>63.93</td>\n",
              "    </tr>\n",
              "  </tbody>\n",
              "</table>\n",
              "<p>252 rows × 505 columns</p>\n",
              "</div>\n",
              "      <button class=\"colab-df-convert\" onclick=\"convertToInteractive('df-3dea19a3-2c9a-4a11-93ac-93b361404202')\"\n",
              "              title=\"Convert this dataframe to an interactive table.\"\n",
              "              style=\"display:none;\">\n",
              "        \n",
              "  <svg xmlns=\"http://www.w3.org/2000/svg\" height=\"24px\"viewBox=\"0 0 24 24\"\n",
              "       width=\"24px\">\n",
              "    <path d=\"M0 0h24v24H0V0z\" fill=\"none\"/>\n",
              "    <path d=\"M18.56 5.44l.94 2.06.94-2.06 2.06-.94-2.06-.94-.94-2.06-.94 2.06-2.06.94zm-11 1L8.5 8.5l.94-2.06 2.06-.94-2.06-.94L8.5 2.5l-.94 2.06-2.06.94zm10 10l.94 2.06.94-2.06 2.06-.94-2.06-.94-.94-2.06-.94 2.06-2.06.94z\"/><path d=\"M17.41 7.96l-1.37-1.37c-.4-.4-.92-.59-1.43-.59-.52 0-1.04.2-1.43.59L10.3 9.45l-7.72 7.72c-.78.78-.78 2.05 0 2.83L4 21.41c.39.39.9.59 1.41.59.51 0 1.02-.2 1.41-.59l7.78-7.78 2.81-2.81c.8-.78.8-2.07 0-2.86zM5.41 20L4 18.59l7.72-7.72 1.47 1.35L5.41 20z\"/>\n",
              "  </svg>\n",
              "      </button>\n",
              "      \n",
              "  <style>\n",
              "    .colab-df-container {\n",
              "      display:flex;\n",
              "      flex-wrap:wrap;\n",
              "      gap: 12px;\n",
              "    }\n",
              "\n",
              "    .colab-df-convert {\n",
              "      background-color: #E8F0FE;\n",
              "      border: none;\n",
              "      border-radius: 50%;\n",
              "      cursor: pointer;\n",
              "      display: none;\n",
              "      fill: #1967D2;\n",
              "      height: 32px;\n",
              "      padding: 0 0 0 0;\n",
              "      width: 32px;\n",
              "    }\n",
              "\n",
              "    .colab-df-convert:hover {\n",
              "      background-color: #E2EBFA;\n",
              "      box-shadow: 0px 1px 2px rgba(60, 64, 67, 0.3), 0px 1px 3px 1px rgba(60, 64, 67, 0.15);\n",
              "      fill: #174EA6;\n",
              "    }\n",
              "\n",
              "    [theme=dark] .colab-df-convert {\n",
              "      background-color: #3B4455;\n",
              "      fill: #D2E3FC;\n",
              "    }\n",
              "\n",
              "    [theme=dark] .colab-df-convert:hover {\n",
              "      background-color: #434B5C;\n",
              "      box-shadow: 0px 1px 3px 1px rgba(0, 0, 0, 0.15);\n",
              "      filter: drop-shadow(0px 1px 2px rgba(0, 0, 0, 0.3));\n",
              "      fill: #FFFFFF;\n",
              "    }\n",
              "  </style>\n",
              "\n",
              "      <script>\n",
              "        const buttonEl =\n",
              "          document.querySelector('#df-3dea19a3-2c9a-4a11-93ac-93b361404202 button.colab-df-convert');\n",
              "        buttonEl.style.display =\n",
              "          google.colab.kernel.accessAllowed ? 'block' : 'none';\n",
              "\n",
              "        async function convertToInteractive(key) {\n",
              "          const element = document.querySelector('#df-3dea19a3-2c9a-4a11-93ac-93b361404202');\n",
              "          const dataTable =\n",
              "            await google.colab.kernel.invokeFunction('convertToInteractive',\n",
              "                                                     [key], {});\n",
              "          if (!dataTable) return;\n",
              "\n",
              "          const docLinkHtml = 'Like what you see? Visit the ' +\n",
              "            '<a target=\"_blank\" href=https://colab.research.google.com/notebooks/data_table.ipynb>data table notebook</a>'\n",
              "            + ' to learn more about interactive tables.';\n",
              "          element.innerHTML = '';\n",
              "          dataTable['output_type'] = 'display_data';\n",
              "          await google.colab.output.renderOutput(dataTable, element);\n",
              "          const docLink = document.createElement('div');\n",
              "          docLink.innerHTML = docLinkHtml;\n",
              "          element.appendChild(docLink);\n",
              "        }\n",
              "      </script>\n",
              "    </div>\n",
              "  </div>\n",
              "  "
            ]
          },
          "metadata": {},
          "execution_count": 3
        }
      ]
    },
    {
      "cell_type": "markdown",
      "source": [
        "# univariate analysis"
      ],
      "metadata": {
        "id": "KaF68LeqfcHm"
      }
    },
    {
      "cell_type": "markdown",
      "source": [
        "the aim of univariate analysis is to examine the properties of a random variable's distribution. Three main properties are to be explored:\n",
        "\n",
        "\n",
        "1.   distribution\n",
        "2.   central tendancy\n",
        "3.   dispersion\n",
        "\n"
      ],
      "metadata": {
        "id": "cQOWnUZbL8d0"
      }
    },
    {
      "cell_type": "code",
      "source": [
        "#we will work on the first stock (ALXN)\n",
        "ALXN=data.iloc[:,1]"
      ],
      "metadata": {
        "id": "Q5nbd6Eofbo9"
      },
      "execution_count": null,
      "outputs": []
    },
    {
      "cell_type": "markdown",
      "source": [
        "**1-the distribution**"
      ],
      "metadata": {
        "id": "QyinUyicf2tF"
      }
    },
    {
      "cell_type": "code",
      "source": [
        "#method 1: dataframe.plot()\n",
        "ALXN.hist()"
      ],
      "metadata": {
        "colab": {
          "base_uri": "https://localhost:8080/",
          "height": 283
        },
        "id": "F9jEQwykNX_-",
        "outputId": "7b2e02df-5cdb-4e11-caf8-f538845aa1b2"
      },
      "execution_count": null,
      "outputs": [
        {
          "output_type": "execute_result",
          "data": {
            "text/plain": [
              "<matplotlib.axes._subplots.AxesSubplot at 0x7f6160a32d90>"
            ]
          },
          "metadata": {},
          "execution_count": 5
        },
        {
          "output_type": "display_data",
          "data": {
            "text/plain": [
              "<Figure size 432x288 with 1 Axes>"
            ],
            "image/png": "[encoded data removed]"
          },
          "metadata": {
            "needs_background": "light"
          }
        }
      ]
    },
    {
      "cell_type": "code",
      "source": [
        "#m2: with plt (and we will continue with it)\n",
        "#plot the histogram of ALXN with 50 bins\n",
        "\n",
        "plt.hist(x=ALXN,bins=50,density=True)\n",
        "plt.xlabel('ALXN values')\n",
        "plt.ylabel('frequency')\n",
        "plt.show()"
      ],
      "metadata": {
        "colab": {
          "base_uri": "https://localhost:8080/",
          "height": 281
        },
        "id": "tCIqgczPfpHX",
        "outputId": "b53edec9-561d-482b-c93b-069408e7da6b"
      },
      "execution_count": null,
      "outputs": [
        {
          "output_type": "display_data",
          "data": {
            "text/plain": [
              "<Figure size 432x288 with 1 Axes>"
            ],
            "image/png": "[encoded data removed]"
          },
          "metadata": {
            "needs_background": "light"
          }
        }
      ]
    },
    {
      "cell_type": "markdown",
      "source": [
        "Let's change the number of bins to 10 and see the effect"
      ],
      "metadata": {
        "id": "rZkilCA_NrZx"
      }
    },
    {
      "cell_type": "code",
      "source": [
        "\n",
        "plt.hist(x=ALXN,bins=10,density=True)\n",
        "plt.xlabel('ALXN values')\n",
        "plt.ylabel('frequency')\n",
        "plt.show()"
      ],
      "metadata": {
        "colab": {
          "base_uri": "https://localhost:8080/",
          "height": 279
        },
        "id": "TZ7B9sLAuNWz",
        "outputId": "93aabeff-7f74-4834-e90c-22d8b1d43d08"
      },
      "execution_count": null,
      "outputs": [
        {
          "output_type": "display_data",
          "data": {
            "text/plain": [
              "<Figure size 432x288 with 1 Axes>"
            ],
            "image/png": "[encoded data removed]"
          },
          "metadata": {
            "needs_background": "light"
          }
        }
      ]
    },
    {
      "cell_type": "markdown",
      "source": [
        "the higher is the number of bins the more precise is the distribution of ALXN."
      ],
      "metadata": {
        "id": "J83SrE9KNzaZ"
      }
    },
    {
      "cell_type": "markdown",
      "source": [
        "**2-central tendancy**"
      ],
      "metadata": {
        "id": "TRvqk6ybiX1L"
      }
    },
    {
      "cell_type": "markdown",
      "source": [
        "the central tendancy is an estimate of \"the center\" of the data. There are basically three metrics that contribute in this estimation:"
      ],
      "metadata": {
        "id": "vEm18LFUOAWN"
      }
    },
    {
      "cell_type": "markdown",
      "source": [
        "\n",
        "\n",
        "*   mean\n",
        "*   median\n",
        "*   mode\n",
        "\n"
      ],
      "metadata": {
        "id": "DeFoNcZviZra"
      }
    },
    {
      "cell_type": "code",
      "source": [
        "ALXN.mean()"
      ],
      "metadata": {
        "colab": {
          "base_uri": "https://localhost:8080/"
        },
        "id": "XYYleaO1hZhY",
        "outputId": "682c9005-5e32-49f2-8575-6c292ec3e7f6"
      },
      "execution_count": null,
      "outputs": [
        {
          "output_type": "execute_result",
          "data": {
            "text/plain": [
              "124.36416666666665"
            ]
          },
          "metadata": {},
          "execution_count": 53
        }
      ]
    },
    {
      "cell_type": "code",
      "source": [
        "ALXN.median()"
      ],
      "metadata": {
        "colab": {
          "base_uri": "https://localhost:8080/"
        },
        "id": "TOGDxoBlhZj6",
        "outputId": "2c866d43-6392-409f-f935-a79d092dbf41"
      },
      "execution_count": null,
      "outputs": [
        {
          "output_type": "execute_result",
          "data": {
            "text/plain": [
              "125.07"
            ]
          },
          "metadata": {},
          "execution_count": 54
        }
      ]
    },
    {
      "cell_type": "code",
      "source": [
        "ALXN.hist(grid=False)\n",
        "plt.axvline(x=ALXN.mean(),ymin=0,ymax=60,label='mean',color='k')\n",
        "plt.axvline(x=ALXN.median(),ymin=0,ymax=60,label='median',color='r')\n",
        "plt.legend()\n",
        "plt.show()"
      ],
      "metadata": {
        "colab": {
          "base_uri": "https://localhost:8080/",
          "height": 266
        },
        "id": "wu9_EzrphZo0",
        "outputId": "62467d2e-e48b-42d7-eacd-1b50190eda1a"
      },
      "execution_count": null,
      "outputs": [
        {
          "output_type": "display_data",
          "data": {
            "text/plain": [
              "<Figure size 432x288 with 1 Axes>"
            ],
            "image/png": "[encoded data removed]"
          },
          "metadata": {
            "needs_background": "light"
          }
        }
      ]
    },
    {
      "cell_type": "markdown",
      "source": [
        "**3-dispersion:**"
      ],
      "metadata": {
        "id": "tclpvmawnNcG"
      }
    },
    {
      "cell_type": "markdown",
      "source": [
        "\n",
        "\n",
        "*   standard deviation/variance\n",
        "*   min, max, quartiles\n",
        "*   boxplot\n",
        "*   skewness\n",
        "\n"
      ],
      "metadata": {
        "id": "eAOAcfZez3FE"
      }
    },
    {
      "cell_type": "code",
      "source": [
        "#variance\n",
        "ALXN.var()"
      ],
      "metadata": {
        "colab": {
          "base_uri": "https://localhost:8080/"
        },
        "id": "oXT4VK68hZtw",
        "outputId": "cba2ef02-ae05-4b82-f192-85bfee148821"
      },
      "execution_count": null,
      "outputs": [
        {
          "output_type": "execute_result",
          "data": {
            "text/plain": [
              "72.72849611553784"
            ]
          },
          "metadata": {},
          "execution_count": 56
        }
      ]
    },
    {
      "cell_type": "code",
      "source": [
        "#standard deviation = sqrt(variance)\n",
        "ALXN.std()"
      ],
      "metadata": {
        "colab": {
          "base_uri": "https://localhost:8080/"
        },
        "id": "_4B238BDhZrU",
        "outputId": "8b8c93e9-c381-4e35-966c-7358460ec2d5"
      },
      "execution_count": null,
      "outputs": [
        {
          "output_type": "execute_result",
          "data": {
            "text/plain": [
              "8.528100381417765"
            ]
          },
          "metadata": {},
          "execution_count": 57
        }
      ]
    },
    {
      "cell_type": "code",
      "source": [
        "# central tendancy and dispersion metrics\n",
        "ALXN.describe()"
      ],
      "metadata": {
        "colab": {
          "base_uri": "https://localhost:8080/"
        },
        "id": "tH3befPshZwK",
        "outputId": "0e27d6f9-12e1-4f43-b750-87ce754b6fb5"
      },
      "execution_count": null,
      "outputs": [
        {
          "output_type": "execute_result",
          "data": {
            "text/plain": [
              "count    252.000000\n",
              "mean     124.364167\n",
              "std        8.528100\n",
              "min       97.700000\n",
              "25%      119.992500\n",
              "50%      125.070000\n",
              "75%      130.082500\n",
              "max      144.770000\n",
              "Name: ALXN, dtype: float64"
            ]
          },
          "metadata": {},
          "execution_count": 58
        }
      ]
    },
    {
      "cell_type": "code",
      "source": [
        "#boxplot\n",
        "plt.boxplot(ALXN,vert=False)\n",
        "plt.show()"
      ],
      "metadata": {
        "colab": {
          "base_uri": "https://localhost:8080/",
          "height": 265
        },
        "id": "2RmpUfFjhZyn",
        "outputId": "f7eaf913-5c3d-4d4e-f414-34ad735d21f6"
      },
      "execution_count": null,
      "outputs": [
        {
          "output_type": "display_data",
          "data": {
            "text/plain": [
              "<Figure size 432x288 with 1 Axes>"
            ],
            "image/png": "[encoded data removed]"
          },
          "metadata": {
            "needs_background": "light"
          }
        }
      ]
    },
    {
      "cell_type": "markdown",
      "source": [
        "the boxplot visualizes:\n",
        "\n",
        "\n",
        "*   min & max values: the most left line & the most right line\n",
        "*   1st quartile Q1, median & 3rd quartile Q3: the three vertical lines inside the box\n",
        "*   outliers: the circles that are situated below Min (and above Max)\n",
        "\n",
        "Note:\n",
        "\n",
        "\n",
        "*   Min = Q1 - 1.5 IQR, where IQR=Q3-Q1\n",
        "*   Max = Q3 + 1.5 IQR\n",
        "\n",
        "\n"
      ],
      "metadata": {
        "id": "p7DuDGneW25P"
      }
    },
    {
      "cell_type": "markdown",
      "source": [
        "![image.png](data:image/png;base64,iVBORw0KGgoAAAANSUhEUgAAAkkAAADsCAYAAABgzjJAAAAgAElEQVR4nOydeXwV1d3/3zNz93uzA0kghEVZFEVQFKrUHUSkSrWtglaRtvq0P5enm9raxar1Ea1V69K6VKlPFbXaoj4ioojQAgpUoeyyyR4ge3Jz15n5/ZGck7mXGwghQBLO+/W6yV1mzpxZ7pzP/W5Hs23bRqFQKBQKhUKRgn6sO6BQKBQKhULREVEiSaFQKBQKhSIDSiQpFAqFQqFQZECJJIVCoVAoFIoMKJGkUCgUCoVCkQElkhQKhUKhUCgyoESSQqFQKBQKRQaUSFIoFAqFQqHIgBJJCoVCoVAoFBlQIkmhUCgUCoUiA0okKRQKhUKhUGRAiSSFQqFQKBSKDCiRpFAoFAqFQpEBJZIUCoVCoVAoMqBEkkKhUCgUCkUGlEhSKBQKhUKhyIASSQqFQqFQKBQZUCJJoVAoFAqFIgNKJCkUCoVCoVBkQIkkhUKhUCgUigwokaRQKBQKhUKRASWSFAqFQqFQKDKgRJJCoVAoFApFBpRIUijagG3b2LYtnyvahm3bWJYln5umiWmax7hXCoVC0YgSSQrFISAGcsuyUkSS86FoHc5jlUwmpTiKxWJHXCipc6VQKFqDZqs7hUJxQMSArWkalmXJ14ZhYBgGtm2jaZpc3vlc0TrSj+HR3G4ymUTTNAzDUOdOoVCk4DrWHVAoOjqGYQCQSCSoq6sjFouRlZWFpmnYto3L1fLXqL0G//YUES21JX4vHW2hUFNTw7///W969uzJ4MGDsSyLLVu2sGvXLgYNGkSPHj3aZTv79u0jHo8DzZakUChETk4Out56o7o4fq05J8fqmCoUivZBiSSFopUYhsHnn3/O3LlzmTBhAsOHD8fj8ew3YDqfm6aJruvSArVixQp8Ph+nnnrqfgOnGLid7QByfV3X5WfitXO5TO2Jvjk/tyxLCr/0dsQ6BxMNlmVhWZYUiM51na4sYWmzbZvFixfj9/s5/fTTZRuaprFy5Uq+973vcdVVV/HQQw9hWRZ/+9vfeP755/nDH/7A+PHjM+7TofQX4Pnnn2fr1q3Yti2XLy4u5swzz+Tcc88lGAym7J849tDoDtR1HV3X5TadxzH9WDqPkeifWEecC+e5gcZrJV1wHysLm0KhaETFJCkUrSQajbJz507eeOMNNm3ahNvtloPkgdxtwj1XXV3NPffcw+OPPy4HS/FfrCcG03ShZBiGHHQzkclrLtpwxvukD+Qivkq0kan9TG0nk8mUhxAemqZhmiaJRIJkMim3aZomP/3pT3nkkUdkG+L93NxcLr74YoYMGQKAy+XCtm3q6upIJBIp2xX9SyaTcv3WRgzMnj2b1157jerqaqLRKMlkkgULFvCrX/2K119/nbq6OrmN9DbTj6EgkUhgWRaJRGK/vorjKa4RcYycYte5XKY4rEzLKRSKo4eyJCkUbUDXdfmrXwyS0DiQ1dbWomkawWCQQCBAJBLB7/fT0NDAtm3bSCaTxGIxaWXxeDwp1pyGhgYikQgul4usrCy5TcMwME2ThoYGXC4XHo+HSCRCZWUlubm50hJiWRbhcJhIJEIwGMTj8ZBMJkkkErjdbtlv0Y4YiIWVJB6PYxgGbrc7ZZ8rKysJh8NomkYoFCI3N5dEIpHickwkEnL9eDzOnj17pDtrx44deDweamtr8Xq9MqZrwIABPPLIIwd0W4pjo+s6kUiEuro64vE4WVlZZGdnA42Cz2nZSUccz9/97nfk5+djGAarV69m2rRpPPjggxQVFTF27FhM08Tj8chjUVNTI/epqKgIwzDkfgvhEolE5LkqLy8nEAjg8Xgy9se2berr64nFYrjdbnJycgiHw/tZqcTzaDRKTU0NiUSC/Px8QqHQAY+TQqFoP5RIUigOk/nz57Nhwwb69OnD6tWr+eKLL/D7/YwePZrLL79cDqJvvvkm+/btI5FI8NRTT2GaJqWlpVx88cV069YNXdd57733WLhwIZWVlQQCAc466yy+9rWvSVERiUSYOXMmyWSSc845h/fff5+VK1dy2WWXMWHCBEzTZOHChXz88cfs3r2bbt26cfPNN/PZZ5+xZ88epk6dCjQO5DNnzmTo0KGcddZZQLPA+7//+z8KCws555xzCIVC2LbNG2+8wfLly6XQKSoq4vLLL+f000+XIquiooK5c+fi8Xjo1asXCxcuZM2aNVx66aVs2rSJ6upqtm/fzsMPP0wwGCQ3N5cbb7yRvXv38s477zB48GAuvPBC2Zf0DDRN09i4cSOzZs1iw4YN1NbWUlJSwhVXXMHw4cMPKJAAadnSdR2/34+u65x88slcddVVLFiwgFWrVnHJJZdgGAZ1dXUsX76cBQsWsGPHDmKxGH6/n29961ucffbZuN1uotEoLpeLDz/8kC1btvD1r3+defPm8c9//lOeu/POO49u3bqlWIRef/11Pv/8c6qrqwmFQkycOJG9e/eyZ88err/+eoLBIJZlUVdXx6pVq5g3bx47d+4kkUgwYsQIJkyYQGlpaftdwAqFokWUSFIoDpOPP/6YV155hZEjR1JcXExeXh5VVVU8+uijlJWV8Z3vfCcltgWgvr6eaDRKQUEByWSSnTt3MmfOHD788EOCwSDFxcUkEgkef/xxPv74Y/74xz9Ki8KMGTPYsWMHn3/+OS6Xi+zsbHRdJ5FI8P777/PCCy9g2zb9+/fHtm2mTZvGf/7zH+rq6rj++utxu93s3r2b//3f/+XrX/96ikiqq6tj5syZnHbaaQwfPlwO2IsXL8YwDPr3749pmmzbto1f//rXTJw4kZtuugmA2tpaZs+ezYYNGzjhhBMIBoP4fD50Xaeurg63241pmmiaRm1trbSkbd26lUceeYRJkyZJkSQQ2WcAy5cv57HHHqOqqooTTzyRPn36sHXrVv7nf/6HiRMncsMNNxz0XIkYMV3XU9xnInZIWHEqKytZsWIF27dvp7CwEE3T2L59O4899hjLly/nO9/5jrQ2zZo1i5kzZ7JhwwZpGdq0aRMLFixg48aNXHfddRQXF5NMJvn73//Oc889R3FxMX379qWhoYEZM2bwn//8h8rKSiZPnoxlWZSXlzN37lxmzpyJ2+2mpKQEv9/Pe++9x0cffcSDDz7ICSecoOKVFIojjBJJCsVhEolE2LZtG1dffTXf+c53KCgooK6ujjPPPJMnnniCb3zjGxQWFnLRRRfx5z//md69ezNlyhR0XScYDJKXl8err77KI488wte//nUmT55MaWkp4XAYt9vNI488ws9+9jNKS0sxDEOKpYKCAq688koKCwtxuVxs3LiRF198EcuyuO222xg+fDimaXL//fezcuVKioqKUmo7CaHmxDRN4vG4jI8S7qTvfe979OzZk1AoRFVVFVu2bOFHP/oRb7/9Nt/73vfkYB2Px/niiy+44IILmDx5Mnl5eTJY+9VXX6Vnz57ccsstRKNR6Y5KJpPU19dLMeQkmUwSj8cxTZMXXniBnTt3cscddzBo0CDy8/PZuHEjP/vZz/j73//ON77xjZTg63Q0TSMej8tjEI/HWbNmDa+88gqhUIgzzzxTxlTl5+czduxYxo4dS2FhIR6Ph/LycqZOncqjjz7KN7/5TQoKCmQ71dXVJJNJpk6dSs+ePVm3bh33338/M2bM4OSTT2bcuHGsW7eO559/nlNOOYWrr76aYcOGUV1dzdKlS/nLX/5CQUGBjOfasmULM2bMoFu3btx+++307t0bl8vFW2+9xf3338+yZcvo06fPfi5RhULRviiRpFAcJvF4nOzsbEaNGkXfvn3RNI3s7GwGDx7MsmXL2Lt3L4WFhWRlZUnrQ7du3QgEAliWxb59+5g7dy4VFRUMHDiQYDBIXV0doVCIG264gb/97W+88MIL/PrXvwYaY2uKioqYNGkSvXv3xufzAfDuu++yfPlybrnlFs4++2z8fj+apnHHHXfwr3/9i0gkgsfjAcDtdsuHwDAMXC6XfIhYKZfLRb9+/di6dSvr169n3759JJNJcnNzqa2tpaysjOLiYtnOqaeeypVXXsngwYOl8PF6vTKeKT8/H9u2SSQSxGKx/SqXO11thmEQCAR4//33+fDDD/nJT37CiBEjpJjIzc1l/PjxvP7666xbt44zzjijxfMk4rmmTp1KdnY2pmlSV1dHTU0Njz32mMy6MwyDrKwssrKy2L17N5988gm1tbUA+P1+ysvL9wuyzs7O5sYbb5SWtlNPPZXzzjuPJ554gtraWnw+n3TL3nHHHQwbNoxQKERWVhYFBQX07duXeDxOIBAgHo+zZMkSqqurueGGGygsLCQej5NMJhk1ahSDBg1i4cKFXHLJJeTl5bX9wlUoFAdFiSSFog04A2tt25YWE4Ft23Jwc6byC6Eigm9jsRhbtmxhy5Yt1NTU8NRTT/HSSy9h2zaBQAC3201tbS3Lly9H0zSZZZWdnU1JSYl0swGUlZVRV1dHSUkJgUCAmpoacnJyKCoqYtCgQSxdujQlqy59ChBntpgzwyuZTPKzn/2MRYsWyUBsaIxBKikpoaGhIeXY9OnTRwZTiyKNws3W0NAgn4uAb7Et53aFC0y4KefPn8/u3bv561//ynvvvSe3WV9fTzgcpqGhga1btx5UJNm2TU5ODjk5OfK49ujRgwEDBuD1emVZg4aGBubNm8f06dNZu3atdMfV1tYSDodT+ifW6dmzJ4FAQB5Lv9+fUj1848aNNDQ0yGtFuBJt2+aUU07h888/R9d16uvrWbduHRs3buSRRx7hmWeewefzSSvX8uXLiUajsuaTQqE4ciiRpFAcIs5B3DAMGeMiKjY707nF82QySTAYxO/3y9pKgBQ5tm1TVFTE5MmTGTBggKyZY9s2U6dOJSsrS4oaZ1yNs06RSEcXwiIrK0um6Durg4u0f/G+6Keu6zILTliAkskkL774Iq+++iq//OUvOfPMM9F1ndraWt58800+/fRTYrEY0Fz7x+1271e3SFiMAoEAXq+XaDSK2+2Wlq1Mgdq2bRMOhwmHwyQSCfx+P9/+9rfp378/0WhUWqKysrLQdV1agg6E3+/nrrvuoqioiEgkQllZGb/4xS/44Q9/yJ/+9Cd69+6NZVl88MEH3HvvvZxzzjl897vfJTc3F8uyePnll3n99df3uw4APB6PPO+iREEsFqO6upp4PI7b7cbv9xMMBuWxSiQS0sIljnlDQwN1dXX069eP22+/nezsbOLxOF6vV1rQiouLUzIfFQrFkUGJJIWiDaQP6pmKQIrPRRZUNBqlvLyc/Px82Y7b7aZ///4UFxezdu1ahg4dyoUXXkg8HpcDqK7r+Hw+uY30BzQKlNzcXHJzc+VA7RRSa9asweVyScsHNKbrV1ZWSsESi8Wora2loaFBiifDMJg9ezannHIKkydPJjc3F9u2+fLLL0kkEhmLJ4r+OI+FSP131gzyeDzU19fj8Xjwer0ygw+Qr71eL36/n759+5JIJCgqKuL0008nKysLl8slrSlCbB0Ml8tFYWEhRUVFJJNJ+vfvz5QpU/jRj37Eq6++yl133UUymWTlypXs27ePM844g7Fjx6JpGnV1dSnFIUW9IyGQhXtSuAldLpf87/F4KCgoIBaLUVVVJQVrIBAgHA6zbt06eVyCwSB9+/Zl69at9OnThxEjRkgroihFcKDYK4VC0X6oYpIKxRHGWX27oKAAXddpaGigvr6eSCQig7pDoRCff/45+/btkwNwdna2TMN3uVwpsUTpdYWGDh1KaWkpH374ITt37pTvP/roo6xZs0a6uHRdJycnh0GDBrF27Vrq6+tl7Z+33nqL5cuXSwuU6Pvu3bulRUPUYXrrrbcwDEPGRIlYpkwZVz6fj9zcXHbv3g00ux6FWEgvlJn+etKkSQwdOpS7776biooK6W6KRCIkEglqamoyBn47Sa9enUwmaWho4Oyzz6a0tJQFCxZQVlZGVVWVrD9VV1cnrXc1NTWsXLlS1jQS1jmnGBKiyRnbJfbj61//Ov369ePhhx/myy+/JJlMEo1GWbp0KZs3b5b7nZuby7hx42Sw+ubNmzEMA6/XK9uurKykoaFBTdKrUBxhlCVJoWgjmVxE0Fz0USDiVLKyshg5ciRz5szhjjvuIC8vj5NOOomLL76YsWPH8tlnn/HHP/6RFStWMH78eLxeLxUVFUyfPp2HHnqIUaNGSdediE9xCqVzzjmHK664gieffBK/38+ll17K3r17efjhh+nbty+AjJ/p1q0b48eP55577uFXv/oVY8eO5dNPP+W9996TsTfCjXbhhRcyZ84cLr30Um666Sb27NnDxx9/THZ2thQakUiE2tpaamtrU1yA0ChGXC4Xp5xyCnPmzOHHP/4xubm55OXlMWXKlJSK385jC8iyAcFgkN/+9rdce+21fPOb3+Sqq65i1KhRVFRU8Mknn1BeXs6DDz5Ir169Dnre3G43mqbJ7Lq8vDzGjx/Pm2++ydy5c7nmmms444wzKC4u5u2338bj8eDz+XjrrbfYvn074XCYWCwmswCj0SixWIxYLJaSERiLxaSYSyQSnHjiiVx33XU88MADjB8/niuuuELWlhoyZIgUoMFgkMGDBzNu3DieeOIJ9uzZw8SJE8nNzWXnzp0sXryYK664gquvvvrQLliFQnHIKJGkULQSv9+P1+uVQbQCr9dLTk4OHo9HxvaIrLHs7GzpUsnLy+MnP/kJ9fX1vPzyywBMmDCBU045hZNPPpmHH36YqqoqZs2axaxZs4BGgREIBKQFyjAMsrOzqaurk+JDEI/HmTJlCqtWrWL69Ok8/fTTWJbFk08+yaJFi1iwYIG0pvj9foYPH05xcTEvvfQSzz//PAMHDmTSpEksXryY4uJiaSG65ZZbePTRR1m4cCELFy5E0zROPPFE7rrrLv70pz9RX18v3V75+fnk5eXJ+CzhlgK47777SCQSvPjii2RnZ5OTk8OUKVNkrSfhUhIZbeIYiv+jR4/mv//7v/nd737Hr3/9a9xutxQVl112mQwob4msrCz8fn/KMUsmk2RlZTFp0iTmzZvHvHnzuOSSSzj77LO56aabePbZZ7n11lvxeDwMHTqUc845R1ZDF9a+QCAgi4E6swVzc3MpLi7G4/GQSCTwer384Ac/YOXKlcyZM4fHH3+cQCDA3XffzUcffcTmzZulO7Rbt25cd911VFZW8sYbb/DZZ58BjYHq+fn53HjjjYd6+SoUijag2cpeq1AcEGcw9MGmvhDB016vl0QigcvloqqqCr/fL9cT8TMixkXXdRmEK6wSAqdYAGTgtXOyVYGwLhmGwb59+zBNk7y8PLxeLzfddBPz5s1j+fLlskCksCrFYjEqKipSMvTEdkR7zqKOYj+cmXDCFSQG+ZaOkYipEe49sbwQb8lkUgZ+m6bZYh2gPXv2YFkWgUBAWuoOVjMoHA4TDAZl3SWny8wpeqPRqBSItbW1RKNRQqEQmqZJl1r6OmK9ZDKJ1+uVQffiWMbjcSmu08Wtbdv07duX7OxsVqxYIc8lkJIdJxDxSOL6UgUlFYojh7IkKRQHQWR9JZNJfD5fyqSqTksJNNcaEuJH1AUSQdjCfZRMJmWWm2VZch41n88nB2hoHEBjsRher5eGhgYCgYDsh8iYEjgFnAgSFmIjGAymBPuKficSCQzDoKCgQGbICXeUiKkR7zm31dDQIPufLojSXwuBJYKbASmGRCA0IF1gQpylx1yJY2EYBj169EgREqJQpBA96Yhjb1mWtPiJAGtAusf8fr/cT8uyCIVCBAIBbNvG7XbL45VeJkH01+fzZZwTT4iqXbt2UVNTAzRaJrOzs/noo48Ih8NMnDgxpZ9AyrXgxLIsVUhSoTgKKJGkUBwAMQgK8SOeO3FOaSEEk0jvFpYFMbCKdUUQtXgtKlCn4xQCYsAU/53p86JfzsHf7/dLseZMMXfijJ8SKeZCbAlx5syIE30ShTBF/0RJAWe/BA0NDbKdZDIpg49FXI/P50spU9BSppo4vuniQLxO72c6zulH0ksUiPncnMdEnBvnspFIRLoG0/sGjdYdcWzEtkSwvGmabNiwgbvuuovq6moZAO/xePjpT3/KD3/4QymSxHrpwebQPNGvQqE48ih3m0JxlMg04KV/7vzvxGltaS1CMJmmyVtvvcXWrVu5/fbbM1ogDnQbcLobnf0RU5tkqtfjbC8SiaBpmhRK4nOnwHKWM8iEM0jeWV5AuOyEBSq9nUxlGQ62rbbS0vlzuhPr6+t599132bBhA1VVVXTr1o0hQ4YwduxY6QoUIsmJcqkpFMcGJZIUig5Ce4okMSgLVxkg3XUH2vaBEMJI4HQ3Cbeb07WW3mfnsunbbWm/hJVLuLfS3ZuZLCrpcVrO9zIJ1fYUIJnOoei72JZlWUSjUbKzs0kkEkSjUSk0xf62JPYUCsXRRbnbFIoORnsMiMKCJOJootHoIYmTA/UpHo+zbNkyevbsSb9+/aRbUWR9iXgcp8tITMobDofJz8/H7/fvlyUI7NdXEQPkbFP03zAMamtrWbZsGcOHDycnJ6fDiIlMAsfpCnW5XDKAW9TBaml9hUJx7FAiSaHoIKRbag63LWFlMQxjPxdOukWltdvWNI2VK1fy+9//nh//+MeUlpZiGAb/+c9/mD9/PhdeeCFDhw5NKaC5YsUKlixZwpo1a9izZw+lpaWUlJRwxhlnMGrUqJR4rS+//JKPPvqIXbt2ySw3j8dD9+7dOfXUUznttNPQdZ14PI6u6+zcuZNf/vKX/L//9//41re+1WJWXXse27YggvhFPJHL5ZLuQdE/8V8JJIWi46BEkkLRgWhpMD/UgdM52IppTZxkclO1ZhvhcJinn36asrIyBg4cKMXYsmXLeOKJJ+jevTvDhg0DGq1Af//733nttdeor69n2LBhDBw4kEgkwty5c3n33Xf51re+xVVXXSXdTbt27WLGjBkkEglGjhyJx+MhHA7z+uuvU1paykMPPUT//v1ldmB2djbdu3fnb3/7G1dccUWL7sRM+3gkxEi6e8/5vnN7B5tG5WDxawqF4uigRJJC0cE41laPTCQSCTRNY+HChcyePZsbb7yR/Pz8FFcSpMYOffzxxzz66KMUFBQwdepUGZwMsHDhQl555RV+//vfo+u6rLwt0vzPPfdcbr/9dkKhEHV1dfzxj3/k2Wef5a233uK2226TGWii6OK0adNYtWoVZ5111jE7Ru2JEkgKRcdA5ZEqFB0QYXnoKO4XkeL/0ksvEY1GmTBhgiyM2FI8zcyZM9m4cSPXXnstl19+OX6/H13X8Xq9XHjhhXz/+99n9+7dvPvuuzJ+yjAMWUMpFAqRnZ1NXl4e11xzDQUFBcyaNUvOYxaPx/F6vZx88sl069aNOXPmHItDk5GOdv4UCkXbUCJJoVAcFLfbjW3bfPTRR5x55pkMHTpUpu6n118ShR337NlDfn4+Q4YMIRAI4PV6U8oP9OrVi9NPP52dO3eydu1amRlnWRaRSIT6+nps296v6nhDQwOALIaZn5/PiBEj+Ne//sX69etlnzL1SwkXhUJxKCiRpFAoDoqu64TDYSorKxkwYACBQGC/dHwne/fupb6+nv79+5OdnS3bcOJ2uzn99NOJx+NUVFRIl50QU8KqBI1WqT179jB+/HjZjpj6JTc3lz59+lBWVsaGDRtk26oitUKhOFxUTJJCoTgotm1TWVlJMpmkZ8+e8v1MFhnLsqivr6ehoYGSkpL9xIqIW/L5fPTu3Xu/z6LRKNOnT+eTTz7BMAyqq6vZtWsXEydOZOLEiXi9XhnY7HK58Hg85ObmUlNTw969e4/MAVAoFMclypKkUCgOiqZp1NTUYJpmyrxpYvoNJ2JeMY/HQyQSyThViLAQhcNh+Z4QPoFAgGAwSFZWFqFQiPr6esrLyxk4cCC5ubkkk0lZlFGk0ouaSfF4/AgeBYVCcbyhRJJCoWgVXq+XYDAoJ/gVsT8iK008TNMkLy8PwzBYu3Yt1dXVKe3EYjEA6urqWLJkCT6fjz59+sg2TdPka1/7Gk8//TQvvfQSn3zyCddeey3Tpk1jw4YNcg49kUUXj8dJJpMEg0E5/5pCoVC0B0okKRSKVtG7d29M02TLli0p02eIQonOgGifz0cgEGDjxo3s3LmTSCSS0pbb7aasrIxFixZhmiYFBQXEYjGi0Si2beP1esnOziYnJwefz8dPfvITevXqxdNPPy0Dw53B2WL6lZycnA5XPkGhUHRelEhSKBQHRViHcnNzWbx4MdFoVLq7PB6PFEuimrTH42HChAkMGjSI5557jn379knxIgKu33nnHcLhMN/4xjfIzc2VU4+k4/f7OeWUU5g2bRqzZ89m2rRpeDwefD4flmURj8fZuHEjJ510EsOGDZMxT+nZbQqFQnGoqMBthUJxUMR0H/369WPVqlXU1tbKDDdonuBWCCXLsrj22mupqKhg2rRpXHPNNfzXf/0XhYWF7N27l7/85S+sXr2a7373u3z/+9+XgdyBQCBl3rd4PC6rU5933nnous4LL7zAlClTKCwsxOPxUF5ezqpVqxg2bBj9+vWTbj9d11XlaoVCcVgoS5JCoTgoIkD7tttuIxgM8vzzz0uBFA6HycvL44QTTpCTzIo51374wx9y8803Ew6Hue+++5gyZQq/+MUvWLhwIWeddRYPPvggfr8fy7IwTROXy0VJSQk9evTA4/HI+COAUCgkpypZuHAh0GjhWrx4MZs3b+aCCy4ADn3yXoVCoWgJzVYOfIVCcRASiQSGYbBv3z5+8pOfsGLFCubNm0dWVhaGYUj3WygUkuJExAx5PB4sy2Lbtm1UV1fz2muvMX36dE466STeffddOa+ccJPV1tbi9XrlfG5Oqqqq8Hq9co62vXv3cvXVV5OVlcWbb76J2+2W2XQt1XBSKBSK1qLcbQqF4qCIWkd5eXlMnTqVRx99lJqaGmk58ng8GIaxn/VGFIQ0TZPS0qRHZzYAACAASURBVFL69u1L//79icfjrFy5kn/+85+MGTNGLq/rOt26dWuxH3l5eZimKS1b9fX1BINBvva1r8mq4MfCgqTcegpF10RZkhSKDoQYbOvr6zEMA5/P1yEGX6cICIfDbN++ndzcXIqKigDkFCUihV9kvDk/q6+vx+fz4Xa7SSQSfPHFF+Tk5KQUp4SDW4BECQGXy0UkEmHXrl2ccMIJGIZxzMRKLBYjEomQnZ2tLFgKRRdCiSSFogORTCZxuVy89tprFBUVcfbZZ3eI6TWc4iPTLSP9s0MRKm0VNk5hdqzZs2cP77zzDt/61rcyugk7Qh8VCsWho37yKBQdCBFP87e//Y158+aRSCSOcY8acQ7y6RPFZvqsrW0fCk5r1bGmqqqKGTNmyMl3FQpF16BDiqT0X6qiou/R7oN4KBRHC13XZUXreDyurr9ORCwWOyb3KoWiJQ73Wmyva7kzfyfaHLgdi8Xwer2ykNvatWuJRCL4fD4GDhzIgAED2hRPIaY1cE5gKczqolbL/fffTygU4r//+7+xbZuKigqeeeYZ+vfvz9VXX41pmtJFIQI8nW20FDMQi8UwDCMl7Vi04UTsU0f5FavoOog6Q263W11fnQgRNO4sZaBQHClM06SiooJVq1axZ88eAHJzcxkyZAjFxcW4XC45hjoFyoHuKc5pgcSUP86xcuPGjTz77LOcddZZXHXVVcRiMZYuXcq6deu4/PLLKSws3K898aPBOX63tG0Ryyi2KYwUx9ql3uZvstfrJRwO89JLL/GPf/yD3bt3A403i6KiIiZMmMCVV14pAztbg23bci6oRYsWsW7dOsaNG0e/fv2IxWLSvP7nP/+ZHj16cMsttwBQW1vLc889x1e/+lUmTZqEruskk8mUA9yaQcflcqVcFJliJZRAUhxJRAFEcZNS15lCoUhn48aNTJ8+nfnz51NZWQk0TgU0YMAAJk2axJgxY/D7/Yd0DxFzMU6fPh3DMLj88svJy8uTn+/YsYMnnniCKVOmcOWVVxIOh/nss8/44IMPuOCCC6RIco7jol1RYLYlA4UwiKS/1xHuf20WSZFIhMcee4zXXnuNIUOGcN1115GTk0MikWDWrFk899xzLFy4kJ/+9KcMGzas1e0K5btmzRrmzJnD8OHDKS0tlZ+ldL5pBvCCggKmTZuWomSdVXuFmk1XxukIpZvuZusoJ0txfNCZTdMKheLIkUwmWbp0Kffeey+apjF58mSKi4vRNI2amhpefvllHnjgAXRd5+KLL5YV7Ft7T7Esi/nz52PbNuedd17GJARoHBNDoRDjx49n6NChFBcXp3wmLFnpE19Dy9mrLSVwHOvyGm0SSYlEgnnz5vHcc89xxhln8Nvf/paePXvK6QPOPPNMHnroIV555RVGjRrFgAEDCAaD+7WTKRNGCJ9IJEIkEqGmpob6+vr9XBDOdQOBAOeffz6hUEi+LwRPNBqlqqqKuro6vF4vBQUFhEIh2Ya4gCoqKgiFQrIAXlZWVspnNTU18nXv3r3xer1tOXQKxUER1iRF50L8WlYo2hsxVtXU1PDWW2/x+eefc+eddzJ16lQ5FkWjUbp3785dd93F448/zllnnZVx3G0Jy7Koq6ujsrISn89HIpEgHo+3uLzL5aJfv36UlJTg9/tTPtM0jVgsRk1NDbW1tfTo0YNAICCFEqSKpYaGBioqKsjJySE7OxtArtvQ0IDX6yUvL49QKHRAt92RoE0iybZtHn74YWzb5s4775TzJQkR0atXL6699lrWrFnDggULuOyyy+jevTsLFy7kscce4/nnn6ekpES2tW3bNu655x4uuugixo8fz/Tp03nyySeprq7mZz/7GcFgENM0ef755xk0aJCMMYLGA71z505uvPFGhg0bxrRp0+TNasGCBfzhD39gx44deDyelKkSxo8fTyKRwOPxcPnll1NTU8OQIUNYvXo1pmnyta99jW984xu8/PLLvPfee5imic/nwzRNioqK+NOf/kReXl6HSM9WdD10Xe8wNZLaghB5x4vYS//VfKx//Sq6DqIsSDKZZOXKlbzxxhuMGTOGyZMn4/P55HfM5/Nx0UUXcdddd3Hffffx/PPP8+Mf/5hgMMhXv/pVBgwYwIsvvijbjcVizJw5kw8//JCbb74Z27Z5/PHH+fTTT0kkEqxdu5ZgMMiECRP40Y9+lBLfa9s2sViMd955hwULFnDnnXfSq1cvdF0nHA7z4IMPMnfuXDwejzQ8DB48mBdffBFd14lGo/z73//mySefZPTo0cyZM4ft27dz0UUXcfvtt1NRUcGDDz7I+vXrCYVCRKNRotEoV1xxBffdd99RPf5tEkm6rvP555/To0cPhg8fDjRbg+LxOJqmcfrppzNkyBBmz57Ntm3bKCoqYt++fSxfvpxoNAo031ii0Shr165lyJAheL1eLrzwQtatW8cnn3zC5MmTOfXUU9E0jZ49e2a8EcViMdauXUv37t3leytXruSpp56iqqqKm2++mSFDhrBjxw5++ctf8vOf/5yhQ4dSWFiIZVmsWLGCyspKGhoauP766xk6dCihUIiFCxfy5z//mdGjR3PdddfRo0cPysvLmTdvnooXURwRxPfHMAzC4XCns0w4XdXHi0CCRut6JBKRiSYKRXshYnUaGhpYtWoViUSC8847T4aXOK83v9/PueeeS25uLosXLyYWixEMBvn3v/9NMplMade2bfbs2cO6deuora1lyJAhTJ06lW3btuFyubj22mvJycmhb9++ZGVlpVS6F+Ere/fuZePGjXJaomQyySuvvMI//vEPhg8fzpQpU8jJyeGpp57iww8/ZNasWYwbNw7DMCgvL+fNN99kzZo1nHnmmdx66634/X5qamp4+umn2bRpEzfddBOnn346iUSCZcuWHZPvVptjkmpqaujdu7fM6hB4vV55ELOzsykrK6OysnK/ySqh+SYqzG6GYRAMBhk8eDB9+vRh8+bNjBgxgtNPP51AIIBhGCnmOifCD6ppGuXl5UyfPp1ly5Zxzz33cM011+D1eolEIiQSCe666y62bt1Kz549pTmxb9++vPrqq/Tv3x9d16mrq2P27NkkEgkuvvhixo8fLwPSxo4di67r8qaoULQXwmVtmiZLly7lkUce6VTWyuNRJIlq4slkUmbIqh9QivYmFovJKvWDBw/OuEw0GiU7OxvbttmyZUuL42UmCgoKGDlyJKFQCJfLxQUXXEBpaal0b7ndbvkwDCOlhpvH48HtdvPBBx/w4osvcs011zB16lQKCwupr6/nscce44EHHuDmm29mzZo1+Hw+/H4/eXl5jBkzhp///OdkZWXhdrtZvnw5a9eu5dJLL+Wyyy6jd+/eAAwdOvQwjl7babO7DRoPmigFAM2KVhxUl8tFTk4OHo8H27YJBoMHvHmIjDS3253ianCq2JYQCtcwDNasWcNnn33GSSedREFBAZs3b8a2bUKhEP369cPlclFeXo5hGDQ0NEhz5oknnijb8/l8FBUV4fV6WbJkCSeffDInnXQSOTk5mKZJNBrF7/cTjUblBJ0KxeGSTCbldV9eXs6SJUs61TQXx6NIAmQRyUxZOgrF4SDmSBTPxfUVjUb3i40VoSbxeFyWvXEivp/iniJCZJzldsTUQT6fT2aKiyl/nJYk50PMz7hu3To2bdok44/Wr18PNM65WFpayp49e1ixYgUjRowgGo0SCoUYNWoUOTk5Ujd069aN7t27M3v2bEpLS7n44ovp0aOH1AFH25Xdpm9zPB4nFArJgCpB+s3c6/Xi9/sJBoO43W7q6+sJh8PYtk04HJZBZSJeSNM0eQIMw5C/oG3blhdGuslQIIrvQWP12x07drBt2zbmzZsnD76z0FtFRYXctkh9dNaJ0HWdcePGsWTJEl566SVmzJjB4MGDmThxIpMmTSInJwefzyd/+SsU7UkymeTyyy/nzjvvlDPeKzouW7Zs4ZprrpH3MRWTpGgvhEDyeDz07duXJUuWyHkQIfXHiHDVG4ZBfn6+9PSI2CAgpbyIMEaIa1Wk7sfjcRKJREpGuNPdlm6wEK9FKM0vfvELHnzwQRlLFAgEsCyL3NzclO3n5uZSWFiYklleVFTE9773Pe6++25uvfVWvF4vI0aM4J577uGUU06Rx+No0aafqIZhcNJJJ5FMJtm6dSvRaDTFrBeLxdiyZQtLliwhNzdXphEmEgmZvRYMBqmtrQWgrKyMuro6GhoaUkzVzmDwRCJBIpFIOUnixIgCbuLEGoZBPB7nggsu4O2332b16tWsWbOGdevWsX79etavX8+VV14JIAOyRRtiu4ZhUFJSwrPPPsv27dt5++23ueCCC3jllVc4++yzWbx4cRsPuULRMi6X64BuZUXHRNRiUyjaG2EV8vl8nHbaaVRUVDB37tyU5CWBrussXbqUsrIyhg8fLkVQbW0tXq9XuoOhcdxsaGiQ6fnhcFhaRFtjBRZWJGfhSdM0icViPPTQQyxatIjVq1ezfv16vvjiC5YuXcqnn37KWWedlbGsjtimy+VizJgxLFy4UIYc5OTkcOmllzJmzJh2OaaHQptEkqZpXHjhhcTjcebOnUttba2M94nH41RWVjJ37lw2bNjAmDFjZCabCLzet2+fDCgzTZO6uroUy5HYRl1dHfX19QApdY6EUhYXh8hay8nJwe120717d0444QQqKiqIx+OUlJRQUlJCz5495SMvL08qbNGGs9JnbW2tVMUFBQWcc845/PKXv+SZZ54hLy+Pjz76iLKysgOmSCoUiuMTZUVStAemaUpDgcvl4uSTT+bEE09k0aJFLFq0iFgslrJ8ZWUlr776Kh6Ph7Fjx0qjRF5envT8aJpGIpEgGo1SXl5OLBYjmUzi9XoJhUL4fD4ikcgh/VATrr0+ffrQvXt3kskkeXl5FBUV0b9/fwoLCxk0aBD5+fn7CTCni154k4SxY8iQIdx4443MmDGD/v37s3bt2sM/qIdIm0SS1+vlzjvvZPTo0dx999386U9/Yt++fVRXV1NeXs6MGTN44IEHsG2bcePG0aNHDyzLYvDgwWRlZfHKK68QDoeprq7mP//5D0899ZSshSQOViAQIBwOs379erZv305FRUWKYjUMIyUGyrIsampqgMY6TTfeeCN1dXX8/e9/Z/Xq1VRVVVFdXc2uXbtYvXo1lZWV0rIVj8dl0Dc0+3U3bNjAokWL2LVrF/F4nIqKCrZv304ymaRbt27S5aZQKBQKRXuj63qKdblXr17cd999bN68md/85jcsW7aMsrIyqqqq2Lp1K3fffTfvvPMOP/pRY5kbITpGjhzJtm3beOaZZygrK2Pnzp3MnDmTt956S06j43K55Hi2bds2vvzyS7Zv305VVVWKl8X5HJqt37FYjDPOOIOvfOUrTJ8+nXfffZeKigpZe2nHjh28/fbbMsSlpR8S27ZtY8GCBXzxxRdUVFRQVlZGeXm5DPY+2rQ5wjArK4uf//zn7Nixgzlz5rB792569uzJnj17WLVqFQMGDGDy5Mmccsop8mD27NmTUaNGsWjRIv7yl7/g8XgoKyvD5/NRWFhITk6ONN+NGDGCkSNH8uGHH7JhwwaCwSC33XYbPXv2JDs7m4KCAkzTlHOtFRYWSouVruuMGTOGXbt28fbbb/PAAw8wdOhQ/H4/ZWVlrF27lmeffRaXy0UikaC4uJicnBzC4XBKQcqFCxcyc+ZMhgwZQmlpKdXV1Xz66aeccMIJjBkzRhWUVCgUCsURIb3YsmEYhEIhTj31VL773e/ywQcf8Jvf/Ibhw4eTk5PD+vXr2bp1K+eccw7nnnsebrdbWqJ++tOf8pvf/Ibp06cTjUapqalh/fr1FBYW7ic+Ro0axc6dO/nrX/9KXl4eI0eO5Morr8Tr9dKrVy+CwaC09gQCAUpKSvB6vbjdbk488UR+8IMf8MQTT/Dcc8/xxRdfUFxcjK7rrFy5kvr6eq699lpZBLqoqCglrte2bcrLy3n55ZfRNI2BAwcSCASoqKjAMAyuu+66o3sSAM1uQwqKiGZ3u91UVVWxZMkSFixYQFVVFVlZWYwcOZLzzjtPCg5hpREutFmzZrFkyRK8Xi9nnnkmo0eP5p///CcnnHACQ4cOlVlqZWVlrF69mt27dxONRuVcMq+++ip5eXmMHz8el8tFfX09b7zxBr169eKiiy6SEfmWZbFu3TrmzJnD5s2bcbvdDBgwgFNPPZWvfvWrcl9eeeUVsrOzueKKK4Dm2Kl9+/axbNkyPv30U/bu3UtWVhYDBw7k0ksvlTWW0ud7Uyjag4kTJ3LaaaepwO1Owpdffsl1113Hyy+/TJ8+fY51dxRdgExuKUCOb1u2bOGDDz5gy5Yt2LZNfn4+F154IcOGDZPxQSLhye128+WXX/LGG2+wadMmBgwYwLhx47Asi82bNzN8+HAZDgOwYcMGPv/8cxoaGhg4cCCjR4/myy+/5KOPPmLQoEGMHDmSSCTCpk2b2LFjB6NHjyY3NxdoFHV79uzhs88+45NPPqGmpoa8vDxOOOEEzj//fJnSv3XrVv79738zYsQISkpKpFsxHA6zadMmPv74Y3bs2EE8HqegoIAJEyZw0kknHfX7YZtFkhAyziwO4cf0+XyyQqhIr3fOApxMJolEIvj9flwuF7FYTJrsAJnmJ9xewt9pGIaMlBdmP+FzdZYqd2bIifZE9pqIX3KWG3CWMRDLO4PbBLquE4/HpfATbj4lkhTtjRJJnQslkhTtzYFEkijCLMah9DHIOT6K+B5neYCWwkREkpSw7iQSiZQJaoXoMk2TRCIhx0IRTyzGXrGO6KfIpBN6QGxLGFyc/XNmswvXnlM7HGwO1vamTe42p+AROyGyO7xer9wBYWVxZqlB4w4HAgG5nPBRCpzVrJ1xQuJAQ2pZAKdAcl4czow18VoIPOdJOJDbLN136oyFEimVagJcRXsjblbHU62hzoy4v4nYkaM9v5Ti+ECMmcJIIQwV6decs16XMyFKxDi1RHqdL6cwcwoTTdNkELizLI8z+Uks5/F4UmonOtsQn4t10meycI6t4vt1tMfaw6565lSFmUgXO4L0E5ppHfHcuQ2naGppe+KiEAdYKNZ0MeX8PF2kOT9P77czwDy9XIFCcTgIy2RWVpa8CSk6Prqu0717d1mXJr12jUJxqGSazF3gFC2Hen0drNipc2wVhaAP1LdM7aUbFlpDpv1IF2bHgi5fGvZAB7YlYdPak9ERTqCi6yCsnJqmcf3119OtWzeVHNBJyM8v4JZbbyMrJwfN5cIGbJoGN2w0NNQdQnG4HAvL8vFeHLVNMUmZaOmX08EsTIeCGEAOdd1M0yQcyHrV2vbasq5C0RKN15WGuJyc/vuuht300JoenRobTMsGXUPXICl2rOlDvUkgdYl9VRx1WjtEH+1xKJOFqyvSbtFPQrxkEh+ZHm1B+F6fe+45Pv7440Pqm/P/4dLVLwrFsaHxu9H82rLsY/LL8WhhmUlMM0m77qF97B5SBGlgARY2lrQnNS7Tlc+n4sjQ0hjaHmPqoVBfX8+zzz7L/Pnzj6vruN0sSUcD0zTZu3cv48aNo1evXsyaNavV6x5sN9tqnWrLugpFRmywbRqFUvolZds0XnIattY0Ljf9T2nAYblwvt6fg9k1xOif6d1GB9KBWnR+atlgW6BhNYkIG03XU5ayrebNNX6dmg6Gc8MH5RjZamwby7bQDAPNaLQkJbXm42egodvCmnT8ui0UnZv58+czadIkRo4cyZtvvtnuxoeOSqey5WuaRiQSYdeuXXK6kmPZF4WifWmSHlbTQ76wwWqUJlIEOC8/zZbri4+k0EhBa17OThcUzufO9uzmzzXQtCaXYFNvmoWJjmY3W1IkloVm2WCbaCSx7QSWncBlGODyAz5I6mhm82bQzKZ9Sp1Es3Ucxe+lODSWjW41niM0F7qVRNcB3XGMNHGk1H1D0TnZu3cvFRUV7Nq1KyV5qavTqUSSruv4/X58Pp8KaFV0QTTQwYwnqKmooqGuHs1MomM36aCm2DocViRNBAg7BVKqnUdvGqAbhZGw6KSJJCmabIfoklsDdGzA0uymbadF2ci2U0WabVnYlo1tm6AlsLUI+T1cxJIJrJiXZMSDHfVhW432LkuzGh+6haV17JuwZoNua43iyLTRDAPd6yZhaAS65eINBdHcrqbzY6AikhSdGVHHSNd1WXD5eKDT7WU0GiWZTB5ygT1l+VF0bBrFhwboOixf8RnLF3+Ktz6G13QGv4Ct2aALXaOh6xqpViMLLcVV1WSRcbh8xOtmHCLJ2ZYUKlqTOLOxpEgS6zUvqjUF5zTbmpoflmZiuSuYcssoYtEaFs/fSNmmCEYkF91yoQGm5iKJG0tv3E7HI3V/dbvRleY2XFi6RkVdLa7cLIafezZfueB8kvI4NFrblFBSdFbq6+tl/TZnZndXD+DudCLJNE2Z5aZQdBVsx1/N0DGTCZINDfT3ZZOTdFp4bGzNxtabRJWuo0k3mGjMaornaVrPtqTZaX+RlGJzItXF5bAq2U2xUJoQL864JGHFstFsW8ZUNYumxvBlS7NI+jTc1kY0T5g8XxVWQMNv6BimgWHbmLhJaj4sjY4rkhxWM93W0GwNw9BJ6hpGIkZtLIKWiKEbGjpWU5yZEIsdcqcUioPizBI/nsbfTimSjhdfqOJ4pDk02mXaDC/pR6FpAJYUSWiWQyQ1ZbakiSTNdgzIaZYkaQdqgyUp1d2W2m+t6YEmnov2rMY4I5JEgxZacgfukEbvgiwKk/nkWifiNl24LBvbdmHj6RQiqfFV054aOlFsdtfVsKpsO4bdHHiuaXb7pRErFIqjSqcVSWq+NEVXw3aIDB0LAxO/Br70IO2UoOxMPxjSAq4zLpYpD83xmdxGuitPvJ0etwQyyFz0M8VSZYGWRNfiYIVB91IQysOsz8Jda+C2XU1iTm9lJltLODLmDmnpltc4WDvSoWjb+CybRDjiaLzR0tS8IWVNUig6E51WJPXo0eNYd0WhODyco69mNwX4Nqa2aSTRSGDrJs0B1Zb8HM2SbizsRpealmblSAms1kj7jLSxOlN2W0uddqTna05BlkGcoTX11QQ9RlKP49IsiMXR4kmshijuhAVm0z7ZGmDSalK6neY+PIgWSY0LTwtYdxrTNMeeac6PmvfRtnU0y0aLm9hJszGwTDNoDHh39iv9+CgUnQMx3U76tDuZ6EruuE4lksS0Dcrdpui6CHebJa1KtlOISJebcGM5rDeyyBI0j+aZBuVMN7C071TGe5wjEFtzPE//3GmkcgoXzcLWzMZlTAvdBl3oPmcbrf16ZzBypXwsjFktfLYf6e85DGnisKbagZojyTS7OZC7MRJJB/kQQdvqvqXo/HQlAdQaOpVIgsapGoS7TU0Pouia2GhNAcEtj6uZRIp4X4gSZ4B202u5+FH4rtiZMrrSvrNHvhdHgWYhqDUJIlPTQWsSSTYO8aqEkqJzYlmNv2Y0TTuuwl061Z7atk0sFlMxSYouT6NV4kAioiW3Tdrr/Uwp6RltbURaiJyP9M+clpQMy6W0R4fXDxqZLVBa2jM75bmWtsvtdPwViqOM04tzPBkkOpUlSdM0YrEYAIZhHOPeKBTtR7NGaIwr0u3MA3IqmsNwJJ5kEistvG4zGX1PpPq/mrYltqlpLW/fTotz6ogIb2cLcewH0n7NHD8Di6LrIUTS8TIdiaBTiSRA1khSIknR+XEOoY6gbEDDbqpx3dLy7bDtg97j2vMm2Mq2WrNYmw+DMxo7vZ0OLNAUig6A0912PNGpRJKmaTK7ze12H+vuKBSHQbqpSGS2Nf6XhRntlpZvpz60SFe7EXYCf55C0YERIul4o1OJJGgsAWCaphJJii5Cevp8WgZZixlcTjeaeJleAqCF7TnrLKUIL2ebmTaaIfjYuT3NGaidKRZJO7BvKkM3Mu77Ieu3Fixy+x3b1jXcitxAhaLLYZrNpTlUCYAOjGVZmKZ53EyupzgeyCCODlgsEvYP0BbvHbq/ys5Q4LAx9iaTgHIKpfQ+6KkZdc4A7pRA79b3LlMMUNtIF6NiA+mLZDquZNSHGdtQKLoopmlK8ZNparCuJIycdDqlkUgkAPB4PMe4JwrF4ZKexi8UQbqYaINoyvi+Q3FoosZPYx0mDbtR5KSsmmatajWZMt8OQSSl7bq2n5BpKw4RmqkUQsr7aZ8pFMc5wpKUSQx1VYEEnVAkCTWr3G2Kzk26ew2aRUSTULI19rN8ZIytOZBA0vZ/S7YkXHo2ti1mqxefaS2tdnDspmw2sQ/aIYikTMlvbelDxlYcVjqNzK7J9NpSraDrDg8KRTPpJQC6sjBy0qlEkm3b0pKkstsUnZtM1iLx9FAsL6219qTFIh0WB+iTLJzojENKLwFw4PXTbV8pbR8uYh611sRGtbrNNGuXQtEFcWa3HU/WpE4lkgDi8Tiapil3m6ILkMkV1vReq2oaHepNqT3Di1uzbec+tDZeKgPtntTXhn4cT4mACkUGDuRu68ookdSEs0iWQnH0SRcRhyEqFAqFop0RrjZd14+rsbJTiSRRJwna391m23bGrDklnhTHjvSA7vTnLS3f2nabX2a6wvd/72Dti3gpLe11pufp/5s/b/u3bf/+afL9A6WntcBhf+3TMwIVis7L8TglCXQykQTIYpLpc7cd7omzbZtkMgmghJLiKCIsRibIgpIWaCZoVtoydtrzVBrDbQ4gAmxk4HJqcn+G+AKxfMrKB0MERltNM41YTa4tq+m5hW1bcko3TcR061rjbrdBx2TsQ0svNfHn0IOzD4h2oC4fSNQqFEeeWCyG1+s97HbEOKhpWsY6SV11jOwyIulwEDUffD6ffE8EiYuLwjCMLnsRKDoYUqEc+uDamgIBqdrnSF3TLWXkZSrsmL7sITTt5GC7IrIFU5Y7/P0/SFm9gy6hUBwJ+bAGMwAAIABJREFURDaa2+1ulx/6ztpIx5PhoNOJJBFh73S3He7JEoIrHo9TXl5OPB6nV69eeDweaV1SKI4sadlg4v8REzEKhaIrI8a1SCTC7t27CQQC9OjRo80GBiGMdF1vVyNFR6fT7akI3D4SJQDKy8u59957ufzyy3n//ffl+8dTTQjFUcROF0Lpqf/p19xhRuukzf2WaWvHRbi4Ep+K4wTLsnj33XcZPnw4jzzyyGGJG+HFOd7Gwk5nSYpGo2iaJn2s7XnCXC6XvAgMw5DmReGDPd4uDsWR5CACaL8SABrYLURYtwo7JRLpoM0cKw9Ra2LDDwv1HVYcP4hMtNra2pS519qCcN8db+NgpxNJkUgEy7IIhULt2m6mOKfj8YJQHE0yxe20MMdYq9fv4qgQH4XimOAsJnk80elEUjQalSLpeDtZiq6Eneb+ShNI+6WXpS+fvl4XUQ5KBCkUHRKnZ+V4otOJJBGTJNL0lbVH0flJn8etqRRAy9n++y+fUUCREntzwG9JRxImLabiZfi8pWUUCkW7YllWxpgmZzmArjgWd4rAbedJcIqkoyWQjkf1rDhaZBBIWvp7B1lvv+X3X68zXb0pe9CZOq5QdDGEi822bSmS0usk2ba936Mr0eEtSfF4nPnz56NpGueccw6xWAzLsggEAiSTSf71r3+Rm5vLkCFD1Hxuik5GuqBJLxiZvlzTcy2TQGqh/f0KNHZ81WGn9Vk7mGVJoVAcEZYtW0Z9fT2jR49OKSYZjUbZvHkz4XCYM844A8Mwupw4EnR4kRQOh3nttdfYunUrzzzzTEpMUkNDA3fccQcDBgzg2WefVSJJ0YnIZPVJq6wtih+2FKB9QIHkXF402/EFUgpNu+88OgqF4uhg2zbPPfccq1atYsaMGUCzZWnv3r089thjeL1e+vbtS/fu3Y9lV48oHd7dlpWVRTQaZenSpaxbt47a2lri8TiRSIRf/epXrFq1iuLi4mPdTYXiEDlAZSL7AJ9lXK6ldg9Aazx6xwjNbn7AcVK7SaHoYGiaxqBBg1i9ejUPPfQQ8XicZDJJZWUlf/7zn1mwYAFZWVl4vV7i8fix7u4Ro8OLJJfLxWmnnUa3bt2YNWsW9fX12LbNypUreeGFF+jTpw+33HJLu8xNo1AcXTKJobSq2wdb105btz0LJXYAAZUyQ0sHE3MKRVfnsssuIz8/n3/84x+Ew2FcLhc1NTW89tpr+P1+xo4dSzAY7NJenA4tkizLIh6Pc9111zF8+HBeffVVvvjiCwKBAA899BDRaJTf/va39OvXTwVWKzo5h1v7Wl3/CoWi/TBNk5KSEkaNGkV1dTWzZ8/GNE02b97M9u3bGThwICNHjsTlcnXp8bdDiyRorBhaXFzM1VdfjdfrZe/evcTjcfbu3UtJSQnnn3++XE6h6HpkqLydyT2XbkFKt0S1xQpzjP1cXeO2q8xfis6JbdtkZWVx5513UlBQQE1NDZZlYRgG2dnZXHDBBXK59GreXemq79DKQtd1OT3IhAkTKC0tBZotTE8++SQ5OTkZq2UrFJ0DpxJpqo+EBZoJmOwftqyl3YFajknS7ObHfoqnAysQGY90qEXHOyR243QyCkUnQ9d1bNtm0KBBPProo0SjUaAxBOb666/nhhtuwO/3y0lv02mpMElrHh2JDq8sxAnw+Xyce+65hEIhLMviK1/5CmPHjsUwjC5t6lMcD6Rdv0IhaOkCKX35FuKZMlqeMnxHWvLwdfSvU0e9m+5Hh++gQtEiQvj4/X4uu+wyAAKBAD169ODb3/42fr8foMXU/64gkKATiCQn9957L6eeeiput5snn3zyCPlCG09TV635oOioOBSK7fjf6iDsjq5sFApFZ0OMr36/n0suuQTTNCktLaV///7HuGdHjw5fJ8mJ1+vlD3/4Azt27GDIkCFNnofGmjIHGiJsu3EpXdOEBEqrsWfLtiy70Z0nHhqgK2uV4kjgFECa+HMgk46om5TpeTr7VZFUKBSKJuwMNflt+Sz9I9u2eeHFF3jzjTc5//zzHUYEUWFbQ9Mb17QtYQnvVDaYFungIklUH256ZduMGDGCESNGkEgmSJgJdN1A1/Tm5VqYR8bGxgJMLHQ0NBoFkAUkTROv4SUWj2FaJjRVFdU0DR31G11xJGjJhdbEfiUAtMZrW2th+ZbEUIoQs1v+7KD9O0p0+hgkhaKDsV+1/UYRI4wHaKChN42QYKBhWkmSCROPx0M8kcDr8dGjqAe33norALFYrGl8tWmIhDEMNz6vH6tp+hLN0LvMuNlhRZJtWyRtE0PX0TEAaGhoIBqNomkahtsgHG0gLy8Pn8uHaTeKH6BpMHD80m56O2kl0XSdBEnCNdUk4jEsTcNwucjJzkFzaWiGhtvrxu3xyEl027wPh7h8e15Uh7LtY7Xd9tz2sTzWRxYhllJ/MKRyON78znMkgFQDmkKhaBM2NrZmY2Fho2FjEYk3EIk2oCVt3JqOho7X2wPTjgCNnhiwicfj1NfXU1lZidttEAh60QxIYgE2ScvEbXQNKxJ0UJFkN7m/LNskaSWoqaghUh9lw4YNVFRU4PV6KepZhC/kI5Qdwu/ykTATuF0exICRnjMEFrqusW3PdhLJONs3bqSqsgJT08jOzSMrK5uc7Fxsw8bEPOx6fOn3cTGMHSgu9kDDYFu33RG2yxHedvp2nRzpfW4/WnKzOd/LpA4OEvLYsXby4HRWEWTbaAdx+ysUx5JGt1jzo/GrZlNdX011bS1l+3ZTtrcMO5Igxx+id8/exKIxCosLARuTBLX1DezaXsaesj1UV1djWnG6dc8lt6AbJaV9/z977x0eR3Xv/7/OlC1arVbFkiVZNrbliptcABuDwWDiBDAQanJzDSEQHhJSgXvT7xN+SRwgxSHkAgmEb5JrSAJxIJgWB4hjmsHGGFxwr6ou6to65ffH7oxmV7sqtmVJzr79jLW7M3PKzJnzec+nHYr8ReiyCaeRe8qgJEmWGQwJ6hrqeHPdGzS1NDGstJjc0X5iUY0th7YS6YhwuOko58w5hzxvXoITWzCTvklINHY08c831tARC5OT68Zf4EM24XDrYQ4drkGVVI40HkEzYphojhaZKVI1k79Hsrg2HcKrqxjLLL7jFsNOm2+6K2SZEkUXGmIm/Z9efHatO16l8+iEfdox2EVGPxlH29PU2421O3Gaidmlv8J+zvpab1d0V69VZ1czbc/1ZtrnNBEn/3VeCWHfZxNDNjDQE6PWREggSYLOtqXeyZTfU01pdlXpzHg9tX+AWUryre1+f6ZjTik0dDOGpKhIcgzTjKIbMQzdQJJdIJkYhplGbnQ3f6T5LjId5/wtlWU6xmRvr1OPawL2NG6O49xMp2Tsc2of0/S5t2+6oqd2dz/39O1cx2/dju0T6W/ni5UQAlV1AyKRy8i0/wkkgtEgGz/YyK69u1G9KoHCPJQClcOhZvZs3YsWinL1kusoDAwjEgnzzPPP0BpuIa8wnxx/LsIUbK/dS+u2D6maWsW8c87Fp/qG7LtOOgwekpR0z+OXuLmliQ+2bqLFaMZf6SPiDhMSISRFwTvSR14owM69O/Hm5HD+7PMQCZuqszhr2LSGWtmwcQNt4SCFI4cTVmM0E8OrmbgDHrz5ubz71noO1BxE02PEtBBggBlD1wwkSY3PM0KQtEx5knByTC7CwEwIPScF6GxTYhBjDfn4506ClEk4xs8wzcTxIlX7YKb867leSBbYzjoTPnmJY1M9tDLX2/UeZK7XTNtfYfPSTr1g6iRg1WzYZaSSM+uTcLTCRCTqBRIq4t7V66i7S+4hkbIP+7MVXNBJWpKJLBiYpo4pdPs0IZkIKTG+LPLahQg5f+8Fm+h2qZPUfQM3xaWZCgY3hAZSB7LLDVIIzQii6zE0TcMlAwh0h6NrJwzH527mEuu7M+K2yz1PHfXO7+nGayaYdH0mkjpL0phPJSJJCa66Oxe6LKmTjv06r1uX6wMn3l/ANEA4+9xNm1P73Jf+drleaZ65473HSf2VwJQBGV0HRXGjKm5kWcY0wRQGJgYxYhysOcTu/btRc1QCRXkYskGrGibmMRC5CnpziM27NzNr8hw2bHiPuuZahp85DFdAIqh1IOtufL5ilNwcDtYcYvj+/UwefyZKb677EMHgIUldYHL46BHq6mvJGZaDaZiYhgGyQ/RJEvmFhWzYsIGq6TPIVX0YSRNP4jhg3/597Ni5g7zhhahulSAaJiaG0DFE/KzS8lI0zUSSfIQ7XDQe09BCJqAgyzLY0XG9aX1iMIq47df6rfNFwSG4zYSTuABJxAWD5Jw7nOUmnhvTBMNM/t5Zr2nX3X29IISUVGdSvXYdCSc/I/kZTn3IjURfzcSElvRIm8lERSAl1SmEoyQRn7fidRvxBzvptqaQJGFiJCYUM7VerGSK1m8CCdHZZymlXtOqu7PPmertAuf8Jjr/WvfW/l3ECZMAEInJTFLRJXALcJvQ1uijtVHFNCSQYqQScFuQdfvWn27S7g1SJ+FTC+f9MyFZAzMICZNAxqX4MYQLLRYlGpKJRVU62kw6YnEORcwa4M7OnKDfRm9v5/Fcs96UnancEzm3J/RX2SdyLQf6PqQrOzHpx7QI9fVHkCQpsb5a54GRWJT6hjqQoLR8OBE9goYWl4fCwDB08vx+Nn2widL8cja8t54JM8ZheGPoRmc5QpjkFxRwuKWOXbt3UT68nIK8fE4X1+1BSZIsbURLWzMGJhJSXHVtxFmyMCUw4oLG5/NRq2vENA1DtTQKzvf1OFrbWjEMA0VVMEwjIadMEHH/I1lSyPX78eb4aWoJsm9vM5v8NehBCUV1I0sqCAkz6cane2uJ77cEt00aUs5ykgZIECWHcBIZtQek0QikqTeFqHQemUIa+lIvgOmc2J3tcPQ3bb04Mj8fT72pfbba0dd67auQOMKI193renv5dpp6rFOLJAwEcbMa6CB0NEnHkAwUw8CvqOzbEaWhxsTQZZDDdI5ma2T3RJDsDjjOGyJwXLJOjV/SrkEGBdQcJFMlFm6n8VgMc0cdOYX7iQovkuZFMrx0Md+almY2jdajy7jrhaYJSBofqWX3uGiyVY+DhHdBT8+DVXfXl9Vuz03bNmef0/XX2Ufru+Oa9qq/pPS3F9qgtP09jnP7fI8NuvY33f1NlClF0EUttTV1RKJRTCOuQTIT/0eiESKxKC63CyGJeJS43tkXVVIxQhptra3s3bsHSRLIkkQkomHoIEkKkikQpomhayAErW1tNDU1kefzI8mDkl70GYOyFyLxT4tpRCMRYlE3OTledDORuyjxHKsuF1qHhizLSJKEho6CgjWwnKJQVVRkRYkPEEPHlBNDRegIIeF2uTHNDtxuF5rWSjQSQQCyoiArMYQUstQAgFODI+zazCSNTuKf2alJ6uwfySTJEqBmXIOBaXRLGqzJVjhMbVZZ8fyD8QchtV773NQ1vqw2mybCdGoorJffROlCSiJ2OMoyE6Szs79p6Nlx1xvX/6SrF5HQ+ohe1pu4ziQ0ZAJLTRVX7YjEIQKRud74DXT83nUCN60+Yt3T+Pmm6SBJJsSXHzHQZQ1d6KiYeGQXhlwPchNggOEmyRxgT+rWlTpeGtHTsanC4BRhEGqLeoRhomkxJElCkWWCwSChUJiYJFCIoRB0PK84SHOqULeQRoD22hTTCwGaERbB6SVJShX0wjq/lwQrY5+th9RZbm9IUuKannbmtu76m+4em2Bo6ISRJAUw0HQ9bg1ICFBJCLxeD6qqEgyGMBQDU7bmPYEiKfh8XgxDtwlSsCOI7JIxYlrcogdIZny+NAwDLRZD1zuVFacDBiVJikPgy8lFkmRkIeNS3ISNMBgi8RyaqC6V5o5mvF4PbrfHFmBxwZYcbVJQUEgkGiUWiyGiAuFNOFIKA8OEjrYOYtEYwWAIl0tl1MgKJk4Yg2SAywOyC1u+AvZ4Tt1swW8/DxnISoYFSK1UOCLjgwfpJypHvQmyka7etOTMUSq2hqNv9WKRJFuL1U29qefaJWeaXIEuZCW5qHi9Rpp6O0ll5np7e60d9SZdWz3NhIZ9Xjy5WlcBEG9XXCDpsoYuaci6Ro4EzTV5ROt9SLIA0xWvAz0+mZsmlsmus5pEHX0Oy8x0/AARJDK3aNDCNEGLEdNAVmSKS4opnXIm06ZNxVC9qDIowkgh3KllHEe9vb1Qp7Lsvty8vrZrMJSdaYo43nO7w4n2V0A4UsrhowdQZDeSJCGEBMJECIHLpSJJEh0dQVSPG0MY8TQ4kMgRKGFoJi5FZczoM9j84WYi4Qj5cgBVcROOxjCM+NwnJ5YPy/MHCAQCyJLcx84OXgxikgTlZWWMGT2GhsYGQu1BJJeMJGQkU0IyJLRIjGNHjnHevPnISN0OqjGjxzB+3HjqWo6g6AqYclxdqLuQDEE0otNQW48vx0XMEyKvQCevKIZkKng9AqFynLN3L99mTtp5Q/VcODEfDQEc74N5PO12Hn9yHqO4Mt1E6Dp+vw+vx51wXHZqFR1/M7Yni1MKYQDh+AuaFMbl1igs8lA4zI2hgiqB0sP81Pc6+3h8XwT0iQjn/mpXf/a3r+Ufr+I29dyecDLKljwMG1aI2+1KKU7gUtwUBAoIdYRweT3kDwsQM6JxN0lToEWi1O47wKyq2QwrKqZybCWHGg4xbOQwoloMl+TC0OK+wqFoCI/Lw9gxY8gPBBIJnk8PDGqSNKywmKrpVaz+52qONRyjaPgwZFVBmDLClDi4/yAjSss5Y+QoWwGZCW7hZt7Zc/nTc3+hOdRG/shiXG4VxQShmYTa2xhRVk5FeTktR44gqUFkVxuSCboZQETlZEWCSN5OmB/0A07kpedk13sq6h6oepPNE05zg1M1juN7wiTgiBa0zlIQIMuYGMS0aPxXO8Qrg8bruJJ69WbADpTKPH29wvovo2AeqAfQAJHQ8okIBmE0vR1Nb8OQfQhT6WxdX5rY7bHdmdus7w4NaJL2uKfynWQ8dZfzpHRjqLtzUyvty6SZpr/C2R7n9+OZjDtN7n1rs+OZ7PO5PSGlz7aDnkjzPf091mMQ08JoWgxEfOmQeHZtUFEYc8YYJk2YxL5D+wl73aheBVmP69aPHW4k1BZiVtUsPKqH+fPm89KrL/HRlu2MGT8WRZFRZAlDN2lva6e8pILx48ajKnGXl9Mla9jgIUlJ1zN+lxVkhheU8vFFn6C6vpot27fQ2nYMj9uLPyePWVWzGFE6gmGBYuILjei2+EkdjAY6Bf4Crrr8Cqobatm1ezuH99QgDCgrK+O8cxegRWKs+9fbmLrA0GU87rzES7tkh8J32+6UYzIZcNJ2mc75/0SHVnf1djdH9me93dU9UPWeWN2p5jWnQMr0FpV5MrPCci26JMkGqkvEBW+SWbM7k6RVR0ozbfTl7a6nq9qf6Kw37f0RXQ5Ls/NUIHVkWdfXQEgmbo9CROhgCiTL/JCmeb3Lu5dKgtIJ6x4K6rXWR/RwQHf1pL4Y9OXc7pCuv859qdenr5A4vjb3V3+dZVtw9jF1zkkDE2QlHuEWjUYSR4oEfZEwMPEpPubPnU9l5Tj2HNjLger9hENh8vPzmD2ximHzChleUIphgj83wJLLl7Cvbh81dbU0Hm4iFtEoLS7l7NlnMar8DPye3BPob7e9GTAMHpLkgHOKlJEpySuhIK+AyspKQuEwAgmvOwef4kNKDG7DjK/F1t2EI4CSQAnDAkVMGTmG5sZGdCETKCpEQ6etuTXu3W8ITEMgrMsj6PNafb0RMan6BRiYATJQg3Lo1NtbuptJgGUoMuUHkVhdEAyEMJAkiL/hWhN4Bk1SUjt66t1gm4JS0QdilvbN/RTDWgLJlOm8V/F5SJKJ31MjHvkTn5u6NrLvi2f39LbWh9NOzsH9cH5fyz8Z9Z0ooelv9PHV0j4knrPP+tEO/EmsY+pXc8kp91FePoJprdMxQxECOT5cfhcSAjduhFAwMSjJL8EXyGHs6Eq0hKx0K278Xj8e4bEVFMejyxusGJQkqRPC/icj45NzCfjyEcQj2eI3wcQ0dKxopO7Lit84BQWvN5+cMh+GkJGFi5AZJCSCaDGDWFSL52UyTXsOPH1ueRZDEn3OgpzFqUNCi2QmkviZcuf302h5hiyGKuLzhmkma9s6A5xARsaPC1+eDynPQAZiRIgQJUoMNSGHJWQ8IgfV68GFGxUXEaIYphXRdnoRJBjEJEk4PkkIdMA0DWQhIyETMSKYCc97TCklHD5zqfFhER8squQFQAPcwoVkSghTYOgGpmlimCZSYlz1/W1vYAdKb+s+2W0cOtqh0wkZpiUz9ZjBiNS2D0VPBhGfg0wT29fM8o0xhUNsnKiqa+hdmSwGA7o3BcZ1SiZRogDIdC5cIqOg6zoxPRSPeJMFQpKQEWjoaISQkHELd8Kqc/qN0kFJkjonFSsXjISKiiwUjMQ/j+QGV+ImJ3LuWC/bpoiTGmeywgSXRqJz2QnsVJVxw54wwa26kCUJSQikhIr8eKa2oUCQsvUOIZiZNKV9UcEPkiuVusaUafnz9OJJO9GVp/sDKb61wuykfp0WtpPli5NFFseLZJ8mYX+OxwUL4nkEpcQWNx4L4ikDEloiEywHXSEk4okCnO4AYJxm2qRBSZI60bmQRWruns4bLOzcQpJTiCT5MVqDQqSc2zkFGZgIU6AqCrIkIwmJzoVOs8higJF2EKabipzfU0lHrz13TxDWw2cSj/gyOz/bh2Rqe2/aNAifyDTBTfFlfyDZVy3NiVlkccqRKv86X1PixF4gi/i6k0ISCZ9cYdOgTmksuiw/cjoRJBjkJKnTwcxas9hMM6d0rovVc1nJBCl1fzzFeuImZ30JshhU6I1PUl+EcH+P73iUXhxWRuPEln20sshiUMGysJjQSfhNkYHey11fCJIsN6cXBjVJ6oRwqK37tYYsshhgiDSbcx90ZRmZfF56mxghtfzjhNO53LZ9p0blWS86KSY3y+zWXRMGo6nNCaeZzZkdolucqj71w/3O4rRCqmm4J+N+Ek5G7ppBiiFCkuLIaney+PeA5aPjyDth+yRJJC8emkqkzORd3Qrp7jJIHS/MlM+Wmc3hrGPV51zg1epf6mTbJXlhKlJ/GzjzlUWOnN2MGyMS30zoTAyaemZ/oqe0EVlkEUdWxnbFkCJJWWRx+iNFs5IqxJIEbaoGqS+aJKuufoBTjWJX4Wxjd/X26f01Zf9g8+9Jo/mz75/zh/6EU4vXkzk2KyCzyCIVWZKURRaDDhkIUkazGml+s7Q4GaqwD+9P5+0s0iKJl/QnMUmXgDQTQcsSpCyySIcsScoii0GDTFqUFJNTUjoApwDshpik9efpSyRcb9FbrU+qtixVg0bycb32rzqVWprkqpJC/50cdVBYunqq7DR2KskiixNAliRlkcWgQHdkINWnxXlsL8hNWq1UOpwgqbAcr7uTt7ZjaE+bhXTaNGdbUwnSwPko2YQoySepp4O7PeokIUt+ssjieJElSVlkMaiQTtPSE3odSnWK4dAUidS+pIl6O2WkoX/g5H+D9Y5kkUUWfUMfl23NIossTg36ShQGozjOpCVykCKRjiSlK6c36CmXVD8iwQHtnnTjez84MSQamUUWpxxZTVIWWfSIvgqQ4xE4JsRXKEwUoYHQ4yTCzvCWJrw+SfuSxjenR85wEp13xcnSBvXVf4oM+04hYUosYSSsv1auGWEiMBO/dT2nnxvl+Jz1Ocoii+NBliRlkUWv0N8CxiIYVg4knSTSZB+TerxT+KWmBuglhNlLs15vkKi/iwqlL+VnIkm91RQNtFYtYV4USb8MEEfJQJ6zyCKLXiFLkhzIJtLKYuCR4pPUKww0KcgA20lHSoliS0kymWR2G8KwTG5OnySRogDMIosshhSyPklZZDGocDwk6WSgN75BfUFPkWpO12YnURqiEClXz9H1wb6aShZZZJEZWU2SA8OHD+enP/0psViM3NzcgW5OFv926Ckf0PGe2208vuMQM2VXH6V7lxQFx4t05w5hAtVjrNup8k3KsrV/R1x66aXU19fj8/kGuilDElmS5IAkSfj9/oFuRhZZMKCRWseNVGGcQSsmyGBeG2r9zQwnLYr7I3VHlE4FeckSpH9XuN1uhg8fPtDNGLLIkqQsshhQZMoX1FeS1NuIr1OMLnmSnBovh5nNdPgnDTWy5AgkTPVJOiHlYBZZZDHgyPokZZHFQMB+sU91Wk4lCZk0Lj1pBnoiHKeCjPQmwi2lHV3yJqVqYAavRiTV92gI0r0sssgiBVlNUhZZDBSc0V02MpGDdGRBojNlQIZUAbYmIw25GLSO0plC1p3pDTKRpsHapyyyyGIoIkuSsshiQNCDtkh0d2zqgUMhd1BvkUn/0l37RS+O6X+kck6R5rcssshiaGHASJJpmn3KS2Sa8dkm3Tl9LSuLLAYPToZRpofotaEmqZ3tHQpNty4z8aYLMxtPNlTRkywZzLJmMLdtKGPAfJI0TUv7u2maGIZhkyIAwzDQNA1d17s9xzrGMIy0x/WEcDicsY6hglgslvTdMIzjvh5ZnCrEJzYz6XNvJzvL/CQ5Pjs2y5N4UCFNO08obUAa/6vUok7GJcjU3HSWzJNQXRYDh1T5k+5zb8pwltMfMAyDaDSKpmmnpL6TCetaprbZ6stgwSnXJG3fvp2amhouuOAC2traeP/995k4cSIlJSUA7N27l61bt6KqKtOmTWPEiBEYhoGu6yhKvLmvv/46jY2NSJLEkiVLkCSJxsZG1q9fj9/vZ+7cuRiGkcSqe2LYR44cYdWqVZx33nmMHz9+SDLyVatWUVpaypw5c9iyZQsdHR3MmTPHvm5ZDEZ0kiITM+F1Eyc8Zo/Eoad8QiL550GhUbJCv1KIXK9JUi/SBghHyiYzzfcTaXbm3VmcBhBC0NTUxJo1a5g+fTrl5eW88847jBs3jopdIswqAAAgAElEQVSKCgD27dvHtm3bcLlcTJ482f7dibfeeovDhw/j8Xi4+OKLUVW1X9q7Z88ePvzwQ6ZOnTok5VY4HGbXrl1omsbMmTPZvn07R48eZcqUKRQUFAx084AB0CT97ne/4ytf+QqmaXLo0CG+853vsHPnTgzDIBQK8c9//pO7776bu+++m7Vr19qaHUVRUBSFYDDIN7/5TW6//Xa+/vWv22y0tbWV3//+9zz77LNAV3baHUzT5MCBA/zsZz9j27Ztg4rF9gbWNbjjjjtYuXIlR48e5ZFHHuHBBx/MapGGFDrJQs8EaYgj4yM2RPvsMLPZeTkdZrgsBj/C4TAQJx5f/epXWbNmDa2trSxfvpzXX3/dPu7tt9/my1/+MnfccQcvvPACsViMWCxmy41IJML3vvc97rzzTr71rW/R1tbWb23etGkTv/71r9m8eTOSdHLFua7r/SYLdV1HCEFjYyN//OMf+b//+z8ikQjPP/88v/3tb6mtrQXoYlUaCJxyFUNbWxt79+61B9bevXuRZRlZljFNk6amJg4cOIAsy9TX1xOLxXC5XMiyDMC7775LXV0dR48etbVJALm5uVx22WUUFBTYF7W3NlohBGVlZSxdupSxY8ee9MHWn3D2taamhsbGRiKRCNXV1XR0dGCaJpqmZbVJgx49JGDMYtAi6Y6l+iRl8wAMGciyTCQSQdd1GhoaaG5uRgjB4cOHOXbsGBCfZ0OhEAcPHkSWZXbt2kVLSwsFBQUIITBNk4aGBt59911kWaampgaXy9VvbZ40aRLXXHMN48ePR9d1W06eDFjWGKtf0GmRMQzjhOSkRX4Mw6C+vt52k2lubqauro5oNGofdzL7dDwYEMmpaRput9u+8NYgEkIQi8UYPnw4hYWFbN++nQMHDjBu3Dggzj5///vfc+WVV/LXv/6Vw4cP24zU6/Vy9tlnJ7HflpYWGhsbKSwsJBqNsmvXLoLBICNGjGDChAl2vYZhEAgEWLx4MSNGjAAgGAxSV1eH1+vF4/Fw8OBBO7X72Wefjdvtpq2tjf3793PgwAF8Ph9VVVXk5+cjhEDXddrb2zl69CiFhYXk5eXZfliSJHHw4EEKCwttlWJ1dTVtbW2MHTuWQ4cOcejQIWKxGGPHjmXMmDFEIhHq6uo4dOgQ4XCYCRMmUFZWhqqqCCEwDAOv14ssy7bWTVVVJElCkqST/gBlcSLoKjVNxz+BSTy0fwC1gMLsu3DvwgjMTtaQlA8qg+9Ur5cj6a0TkNn19+MJhEtJ9dR5qpn2kCyGNiyfGEmSUBQF0zRxu91JpKGwsJAJEyZQW1vL9u3bOffcc4G4T+hLL73ElClTkGWZjRs32tr8jo4OJEmipqaG/fv309HRgdfrZcKECYwcORJZltE0jXA4zP79+ykpKaG4uDjpRb+pqYmjR49SXl6Oz+djxIgRLFiwgIqKCnt+r66uxjRNioqK2LVrFw0NDaiqysSJEykvLycSidDQ0MDu3bsJBAJUVlaSn58PxGXhkSNHaGxspLS0lEAgYNet6zr79++35ZLL5SIYDNLc3Izf76etrY1du3bR1tbGpEmTGD9+PABHjx5l27ZttLW1MXnyZMaOHYuqqkSjUVs5EovFCIVCRKNRTNO0X+plWR5wE+IpJ0nt7e1IkoQsy0iShGEYRCIRe78syxQXF7NgwQL279/PRx99xNixY4G4mnPt2rU8/PDDvPjii0nCv6WlhSeeeAK/389dd92FpmmsX7+elStXcskll7Bp0ybWrl1La2srxcXF3HfffcyePZtQKGSToOXLl/P5z3+e888/nz179vDoo49SVFSE1+tlzZo11NTUEAgE+MIXvsDll1/Ob37zG1avXk1NTQ0+n48FCxZwzz332OTrjTfeYMWKFXzmM59h8eLFCCFs/6lly5axaNEiPv3pT6NpGr/4xS/Ys2cPn/vc5/jtb3/L/v37Afj4xz/Ol7/8ZTZv3szjjz9OTU0N4XCYiRMn8qMf/YjRo0fbbNsaTNb1NQyDYDCYNNCzGACYKV8y+AaZNjky4zmU0qohTmEK5z77MHWX8ynVuTrVF6k7v6RMeZMcRWU8qyul6dOUm5I9O6sUOn2hKIo9R2uaZls4hBC2vLLkjc/nY+HChezbt4+33nqLqVOn4vF4aGxs5Omnn+b666/ngw8+4MMPP7RfYjVN47333uOBBx6goaGBWCyGoihMnz6dz372s5xzzjl2HStWrKCuro777ruP0tJSDMPg6NGjPPTQQzQ0NHDXXXcxZswYNm7cyN///neuvfZazjnnHACeeeYZDhw4wPz58/n1r39NTU0NBQUFTJkyhe9+97vs27ePxx57jB07dqCqKgsWLOCmm26yfZo2btzIk08+yd13383UqVPt66PrOsuWLUNVVR544AGEEGzevJmnn36a6dOns3PnTtasWUNLSwsTJ07kG9/4BgUFBfz0pz/lgw8+QJZlSktL+fa3v83s2bNRFAVN0+wXectiZL3gQ5x0WoqAgcIpJ0lXX321zTCLi4v51re+xRlnnGHvt1R4c+bMIRaL8corrzB//nxKSkpYuXIliqIwbtw4YrFY0oXr6Ohgw4YNjBkzBogP+KNHj7Ju3Tr27t3LkiVL+NrXvkYkEmHFihX84Ac/YPny5YwYMYJoNEpDQwOvvPIKl112GRBn7OvWraO2tpbLL7+cT3/600iSxLZt2/jVr37Fa6+9RmlpKZ/97Gdpb2/n4MGD/PGPf+Sss87iuuuuQ9M0amtrefPNN7nsssswTdMmT+3t7bz99ttUVFTYDunvvPMO77zzDqZpsnjxYnw+H9XV1bzzzjt88Ytf5Mwzz+Siiy6iuLiYvXv38uijj/KXv/yF2267jUAggKZpfOMb3+Dcc88lLy+PG264gebmZiRJyoaGDimkU32kqj9OIVHKotdIonqW8iz72A0ZWHNkWVkZ3/nOdzjrrLPweDx84QtfYNq0aUnHmqZJRUUFsViM559/nosvvpjZs2fz3HPP8dFHH7F8+XK2b99u+ypFIhFcLhc+n4/FixeTm5tLTk4O4XCY5557ju9973ssW7aMuXPn4vV6ufDCC7npppsAuPfeeyksLOT555/n2Wef5frrrycQCNimvbfffptzzz3XjmTeunUrL730EtXV1Vx33XXk5OSwa9cuHnnkEY4ePUpJSQmXXHIJV155JW+88QZPPfUUI0aMsElSU1MT//rXv7j55puT3DlkWWbdunXk5eXZsqyhoYE///nPbN26lcWLF3PnnXcSi8V49NFH+fa3v01ZWRnTpk1j0aJFKIrCzTffTGtrK48//jgjRowgEAhw1VVXEY1G8Xq9XHzxxcyZM4fS0lKAfjVV9hanlCQZhsHChQtZuHAhmqZRVFTE0qVLbZOTFcoIUFRUxIgRI3jqqaf46KOPCAQCvPPOO0ybNo3S0lKEEKiqal9Ei5U6HZU9Hg/RaJTCwkKWLFlia6R8Ph9f/vKX2bRpE2PGjLHfDtxuN16vF03TEELgdrtpb29n8uTJ3HDDDSiKQn19PatWreLll19m1apVVFVVAfGIh7Vr1/LKK69w/fXX2+TEMoE5YZkai4qKCIVC5ObmUlhYaKsYb7zxRlwuF83NzbS0tPDQQw8xf/58Pv/5zyNJEq2traxfv56//e1vXHvttQQCASRJ4otf/KLNwi+44AIMw8Dj8dihoUPJ1+rfESLpk3CkBEjNMD2UCdLJ8LXqY/+d1Z1AdFumIoRjhzBFV5+kLIYMYrEYpaWl3HHHHeTk5CBJEpdddhlerzfpOEvTVFlZycqVK9m3bx+zZs3i1VdfJT8/n+LiYnRdR5IkIpEIeXl5AMycOZPp06fbWiorbc19993H7t27mT59Oi6Xi4ULF3LppZeyatUqJEniK1/5Cj//+c+ZPn06n/rUp8jLy7PlhTP0XwhBKBSivr6eSy+9lBtuuAG3201NTQ1vvvkm69at4wc/+AGXX345gUCAMWPGsGnTJnbt2kVraytutxtN0+z+WvLUMAwURSEUCuF2u5NkSSQSobi4mOuvv57y8nKi0ahtRfnqV7/KtddeS0VFBaqq8sQTT7BmzRo2bdrEyJEjyc3N5aKLLrKv57x58xBCkJOT0+/3urc45Zqk3NxcW52pqqptC7Xg9GSfM2cOK1eutO2gbW1tfP7znycWi9kmJQuWOtR58wzDID8/n8svv5yRI0cmlRsOh9m2bRuf/OQnkWUZl8uFoihJPk2maTJr1izOPvtsW/1XWlqKx+MhPz/fNnVJkkRJSQlVVVVs3LiR9vZ2cnJy7DeISCRin69pmv12EY1GUVXVTnHg8Xi46aab8Hq96LpOIBCgvLycsrIyxo8fb/fX7/cze/ZsO3QS4hq4wsJC2yHO8o3KdG2zmqVTiCT/nowiNum7gcAQp3OUW7rw/z6mAMh0uBXy7zjc7Obw3sIkfcop0yZFVh9Sc1ZlMZSgqqqdkkbTNPLz8+251/JJUhQFl8vFueeey3PPPceePXvYtWsXu3fv5rrrriMvL8+WU0II+wU+GAzyz3/+k9dee43GxkYg7rNz5MiRpDQ3pmlyzz33MHLkSH75y1/a5qof/ehHjBgxwm6P5fwMnVYYIQTTpk1j7ty5uN1uIC63Ro0axc6dO1mwYAF+vx+A8vJyzjzzTILBIB0dHfh8Pjv3kjPnoCU7FEWx/Yh0XScSiVBWVsaFF15oa39UVaW8vBy32838+fMpLy+3zZZLlizh73//O2+99Zadvsfn89nl+3y+fryzx4dTSpIs7YqluoNkYW35KFkOclVVVUycOJGPPvqIf/3rX8ycOZOZM2ficrnsqC3LlKRpmr1Zv1lkxOfz2QPINE08Hg+GYRAOh+1jrXZYTmNWW3Nzc8nNzbXbaB1n2U+tmytJkq0+jUajNhO2Bpqzn9FoFEVR7MSPmqbZDmslJSVJbwYWgbMGu4WcnJykMq1+OPvp/JvFQCKNA3ESROJf/DMQJ0iJ7bi1H0nnWczhVI2HTB7TmfyQ+qjuSXc9BWAK+2yLGJ2MHju9qbrQXNHZINMiSFYSz+zLyJCAcx635IHli5T6QmlFe0WjUcaNG8fcuXPZtm0bXq8Xv9/P5ZdfbmtirHlZURRaW1t59dVX+e///m8kSaK8vByA5uZmOjo6aGtrIxQKEQgEkGWZUaNGcfPNN/OLX/yC2tpabr75ZkaOHGm3x5ItqXO8EILc3NwkU5WluQLwer22nJBl2ba4OK0Nlhy2yrZ8h51JoK1jXS4Xfr8/iaRZQUMej8eWpwB5eXmYptklLcJgfmkf1PaX/Px8brjhBjZu3MhLL73EJZdcQl5enq19sTQwFqu1Nov9On/rC1nozxsmyzLRaDSJ6J1opvAsETod4CRK8eSSRiqx6HPm7AxRZL3ZTrAvndoUB0wpQxSbM5qvF1vSwsDOyLke+t6rdqe5Xj2eK8CUMJFszZ+caJaUpGXKYrAjHSFKB8saomkan/rUp2hsbOT73/8+F110EaNHj+5ynq7r7Ny5k/vuu4/bbruN9evX8+yzz/K3v/2N7373u4wfP55oNGq/DFvnf+9736OtrY2WlhZeeuklgsFgP/S6ezijxUOhUFKUn/Vi3p3MzLRvqMitQU2SVFVl3rx5qKqK1+tl/PjxtLW12aGDqdEHzg06o7ycZrl0y3Sku1m9zSuUidhkGgCWhktRFLst1sOW7tjetmEwM/EsekZctAqMBGEwiWuTdEF8k0R8E46/aTepc5Oc3wW6JKFLcu82cSKbkvgr2e3SJAlNkjGEAoaIb3T2x5AFhkzvNutaSBK6JKFJ8T5qwvosoyXaokly577ENdES5xqpm7A22d6c5euSiJdhb4n+IkOizpgkYSDiPM4wkUyQsgTptIOu67YFoKKiArfbTTgcZtGiRV1cSCA+R7e2ttLa2sqcOXMIBAJ2epkjR47Q3NxMfn6+rf3RNI3777+fF154gfnz5/PDH/6Q+vp6nnrqqbTtSbckyclepqSjo4NIJJJkgrPcXLojk5n2DRWZdcp9krq7MB6Ph4KCAlwul30jiouLeeKJJzhy5AilpaX4/X47OWJzc7N9bigUQlEUotGo7SekqqqtSYLOQWMYBm63m9zcXJu0tLe32zZW6DQNqqraxfFaVVVbnWn1x/IvsnyPZFkmEAgQi8VoamoiHA7bbx+PPfYYmzdv5oorrrDVnVbop2XztdrrcrnsnBIWkbIcsjs6OjLmP7JUwkNlIGZhmYbiYzSqaxxrbSaITlCS6NSY9FSCcHwzHdYey2zXl/FwPGMn7kdlWiYoYdrKGFMo6KZCrukCzUDTBO26Sdg0EaYB6KT32XK0o4uWq1Pb1rneXbpUBPG/oosRzqk5Mzp/c55tOrVWDn8jUyCQEEi4JJmWaIigZBITEI1EE4fLyfcgzfXKYuCRbr5MN39ajti6rieFpt977738+Mc/prS0NMmvyJJJra2tdvqb3bt3c/755wNxp+ctW7Zw8OBBOjo67Kjt1tZWHn74YWRZ5vHHHyc3N5ddu3axbNkyKioq+PjHP25bICzCZskPTdOSZBNgR4+5XK4kVxCL6BiGYZ8zYcIEhg8fzgcffMDMmTPtPj/88MM0NzfbEeTW9bDKd15Ly9SW6lZjOYYPpZx9gyoNs67rhMNhm8RAnBD4fD68Xq8dFSbLMqqqEggEkga3qqr4fD46OjrIzc21j7WIh2Ubtsx1Ttuu5V/krNd6U0iFLMvk5OTQ1NRk57DweDzk5ubidrspLCwEYN68eVx11VX87Gc/Y9WqVZSVlbFr1y6mTp1KRUUFHo8HiA+0UaNGsWXLFlu7ZG2hUAhd1/F6vSiKQjgcRlVVYrEYeXl5dhmWCS+LoQlLbEtImKaOqrooKClme+1BavROjxfbNCXSaDBTTEPCJgWJGvpkRuutiarrOfFWJnokTEwRxZRimCIGrloWnl8KwTYONcWormtEiuUkTI2xjGUmfe+zs7eVeypx/cyU8pLIVTr/KOe5TpIkISWIkiQkQlqM9liUqASyooKigpIlQacDLP8cS/hDXLMCccFfWVmZlB3aesEOh8P4/X5yc3O58MILufLKK/na177GihUrGDlyJFu3biUQCDBhwgRUVUXTNFpaWrj11lvJzc3lxRdfZMyYMUiSxA9+8AM2b97MT37yE2bMmEFZWZktE50+qJa/q5MkuVwuOjo6kl7kIW5Ci8ViyLJMOBwmFotxzjnncPvtt3Pffffx+9//nnnz5rFnzx4qKyvtdD1OmWn5zTphmibBYJBgMJikzWpvb0/ydxoKL/GDiiRJksS4ceO44IILyMvLs4mMdVMtIqBpGlOnTmX06NEAdgbUqqoqysrK8Pv9mKbJ8OHDmTdvHkVFRXY0nXWDPvaxj1FSUkI0GkUIQUVFhZ25FGDYsGHMnz+f3NzcLuGf8+fPt9lyW1sbfr8fl8vFuHHjmD17Nk1NTfh8PkaNGsXXv/51FEXh9ddfJxgMcvXVV3PNNdfw85//nMmTJ9ssffLkyTQ3N1NUVGRH6RmGwdixY1mwYIFNvFRVxTRNpk2bxnnnnWevN5QlSEMdcZogoRLTNXTNxJXjo7a9HZdmJHxbuvPBiZfRSQDMFPpwvD5NfYXllyMBBqbQQcQSJEnH1DRQR9JkNHGwo5m9LWEkLewgSamJI9MQmi4kB+LEMVObdBDptFSdbbZha9uc5aZqphLGUVMgdBCmAB1MSaAJE3d+Pl6/H9TBLwCy6B2sl2Yrsvn8889nypQptmywXD4saJrG5MmTufTSS+3fc3JyWLp0KXv37qWmpoaDBw8yd+5cFi5cyFtvvUVpaSk+n49169bh9Xr53//9X8aNG2fLv4KCAu666y5eeeUV9uzZw/DhwyktLeXCCy+krKzMTl0ze/ZsSkpK8Pl8NgnRNI3zzjvPzmqdk5ODLMuUlZVx5pln0tbWhs/nszVR119/PTt37uSNN97gvffeo7KykgceeIC77rrLfkm3nMvPO++8Lov8jhs3jgsvvJDy8nLbWqOqKmPGjOETn/jEkFqMV5iDyHvKikyzboKVAdXaZ5nN3G63HbnmcrnsfBTOxXAtWOpIp4e9RWycpMvpq2Qdmxr1Bj3bUSORCG63O8nE52yP5WTuLN+5Do6lubJImLXsCnSmOYhEIrY50Po9nfqyu1s7VAbo6YHeOORb98oA0+Dgnr3EgkE8soRsxn1bkp2V06FTuIvE4V2IUr+ad0QiuixBlETchGZrkSQNU26lsDSKonhoPZZDsMWDGctDEhICje7NbRm0SsJy/M5wXYSObcpL5+CdUbME3TmHC1MgmQLJAC0Sn2OEIuH256H4cvEMKwI11e2zpxQQWQwUejtfWi/WzjQ0TtOVNafruk4oFMLlctnaJ0tuOU11libIIhLOBMDBYBBd1+0Xf6stqW4W1ppyluXEGekMca2XJT9cLheRSAQhRJeX61gshqbFkCS5i8nOGSRl1eGMVHdeP8sq5Ha7kzRXQxGDhiQ5m5Epn0+6UEfoXGwvneC3BmA6wuPcn1qH8/h03/sLVnvS3RZneH9qf7KkZzCjD1GLplMjYoLpJEU9+CWli8RKTQPQ3yQpKbItYRYUUSAGRBNbjLgSOxfwgalm5n2p6I4fdts0Z0RcujanfLetlN1E0dk/J4iWfY7AdkSSRErbsiTpdERPOegyya50+9Kdm65Mi6Rkkl/OYzLtz9ROp3zpTq6m29+TX9dQw6Aytx0v0mWSTjdou4s4y3TOQCF1cEPmKLaBbmsWJxEiRWBbKiEb3WiSRKrWJWlnmt96Ql/fn1LrkBJtUhw0Qwa8ib/uuONz4rRet+54XutEHwJ5LdckSLmm1s5EA2wuJJJvi3UPnbzpOJqcxdBEf+gdeks2uksgfDLRW5lzOsimQUmS0hGEkwlrwDn/OuseKAwSpV4WA4ruyE13prbUYzMc2tshJuz/kn8z0jQxtfyk/QITJeFCHo/S6/yceDnBSHgFJZxPk6hFGi1PT4/oiTxGqeem6Q8Od/jUpjk/Wnerv/V3WZwcDJTWoy/yztnGE5EXJ7OvvXVFGaroF5LU24vm9HC3Igcs05mlHbJ8ciwbrxWp5vTVSYeeBl5qQizLJmylDnDmP0o3KGOxWEZnacsvyVlXOm1XMBhMCse07MhWmoJ0uZqc5kMLVkqE1OMymeOsMrJruZ0qnMjkkUoS+lCPJamPoymGbqLpOqqiIGRscmSaYOjxZ0NWpPTldfnNyhRkpTJwps0UyCnRZQLQ0ZGJ+zoYvWQ9XZRuGdvTQyGpPtq9OCydQTWD3roPjcmiv2HNjZa/jTWPpvNldWafdkZ3Of1znC4gfSENlp8q9E5uOmVX6vHdJSV2muhS/ZYsOPvh9LG1UgVYvrKpPlF9kSmWk7nzumXqS7r6TiVOupS0iI+Vu+HDDz+koaGhyxowEHeA6+joIBgMJiWFtEiRdSEtBzmnk5jlGN0dUgeSc7PyFlnp1q3BbjmZZbppgH18OlgDxbnfWgLFgtV252C2+mud76w3HA4n5UhKbZPTaV3XdXu5EydZbW9vZ8uWLdTV1WU1Vqcc4gS2vpR18qqWlLjGRljzUmKmEDIISULIvSVIVpESEjISCjIycuKbjKClvY1339tATX09AJFYlC1btnHk2NE0nege9pHCsfW1++nONbtuEsl5xVO8l7IY5IhGo2zdupXa2lp7rTLADuU3DMPOXQTJFghLxllzqXOOhuPTqljKgVTSkOoflErIrDZbbeyp/NSAoFQ4y3KSJafscQY6ZSJbhmHQ3NycJPssWGkKrKCp1HQ7lqLAusbr1q2jpaXluFelOBGcVE1SqkPxm2++yZYtW7j88svtRIq6rrN582b+8pe/EIlE8Hg8tLW1UVJSwvz581mwYIEd3dbW1sa//vUvPvzwQzvR42233cb48ePtZT0s9GVQCiFsTU8sFuNnP/sZra2taJrG2LFjufHGG7tdaE9RFBRF4Tvf+Q6apiUNgkAgwBVXXMGsWbOSNDmrV68mEAgwb948WwPl8/lYtmwZgUCA22+/3b5+kUiEl19+mddee82OSIjFYowdO5aLLrqIKVOm2GVv2rSJp556yo4GbGlpoaSkhFmzZrFgwQI7+2soFGL16tUMGzaMq6++elAuJJjF4MGTT/6RLVu2cMUVVzB92nS8Od7Em7XM7j27eOSRR/B6vSxevJgFC84/obp2797Nj5ct45ZbbqF48WLq6up4/vnnmTd3HgsvvLCHs7vYw/qAnqiM6Poxg5NRKoXri/4vi4HBxo0b+cMf/sC1117L3LlzbUH/zjvv8MYbb9DQ0GCTFkmSmDFjBldeeaW9lqamaaxatYrXX3/dTuBomiZjx47llltu6bLepoV0ssppCehOG+MkSHV1daxdu5bNmzfT0dGBEIKbbrqJqVOn9igPd+/ezW9/+9skrZJpmnzsYx9j/vz5BAIBmzTW1tbyxBNPcOeddyYRo507d7Jy5Uouvvhi5syZY5Oabdu28Y9//IOjR4/aZFNRFC6++GIWLVpktyEUCvH4449z+PBhhBB2JOCkSZO46KKLqKioQJIkotEo7e3tLFu2jG9+85sUFBR027eTjZOqSXISpObmZlauXImqqragVhSF999/n29+85usXLkSn8/H5MmTqaio4L333uPee+/l73//u31sW1sbzz77LC+99BIbNmzg4YcfZseOHV3qOx7Wbg1KTdNYsWIFL7/8Mq+++ipPPvkkHR0d3UaZWef+9re/5fXXX8fj8SRt1oO1efNmVq5cSXNzM1u3bmXr1q0cPXqUZ555hoaGBoQQPPbYY3aqedM0OXr0KE8//TT33XcfO3bsYMSIEUydOpUjR47w4IMP8pOf/CTpGmzbto1HHnmEgoICSkpKGD58OJs3b+b+++/nxRdfBOJvTH6/n9LSUrZu3crevZBisJoAACAASURBVHuz2qQsusULLzzPgw/+kieeWEEw1EEw2IEsx6eLZ599hl/+8gEefPCXrFv39gnVYwLHjh3j/U2bOHr0KJjgcruZNHEiZWWlvTg7jd5GOPd3tw6c83wr47e1pTuWtAotQVIe7iwpGiJ45ZVXqK+vp6ioyF4wvLW1lXvuuYcf/vCHtLa2ctZZZ1FZWcmmTZt44IEHeOaZZ5JSzRw7dgzTNBk1ahTDhg1jw4YNLF++nD179qQ1i2WKFGtvb6e6ujpt8uLUudrSBh07dozVq1ezatUq3nzzTf7whz+wY8eOJAuCM9WMs5yamhqeeeYZGhsbcbvduN1uPB4PLpfLTovzwgsvUF1dTTAY5MUXX6StrY333nuPp59+GkVR2L9/P48++iibN2+2zWIbN27k3nvvZfXq1bhcLqZMmUJpaSnPPvss3/zmN+PPOHG529rayssvv8yGDRsIBAIUFhaybds27rvvPh577DEOHz5sJ6qcPXs2Tz31FGvWrDlp97+3OOk+SdaNePnll3nzzTdZtGiRbdMMhULcf//91NXV8eijjzJ16lT8fj+RSISZM2fy2GOPsXLlSqZPn05ZWRnDhw/ny1/+MtFolGPHjrFnz56TnnNBVVWWL1+OruusXr2a999/vwuTTxe+admrx40bx1133YUQwl4Spbi4GMMw8Pv9CCF44oknePXVV8nNzaWtrY0zzjgjyb4ai8VstWJ9fT0PPPAAY8aM4fvf/z5jx47F5XJx3nnn8be//Y2nnnqK5557jpKSEoqKimw/qqVLl9rLrGzatImbb76Z1atX8x//8R92Xozzzz+fdevW8Y9//IORI0eeckaexeBFqmo9Go1y9tlns2bNGq6++mpbM9rQ0MCTTz7JokWLWL9+va0Wt7Sd+/btY+tH2zh27BgjR41i9qxZDCssQjeN+NIIbg8f7dzBhvXr0XSdqqoq2tvbkaWEOV2JZ7MvLy+PZ81PtK22toaPtn1EdfUhFFmhuKSE+fPPxTB1/Ll+IpEoNTV1uBQ33hwPH3zwPtXVhxg3rpKqmVX4c/0Oh/A4RLf6Hifdyb5QnG7Ys2cPBw8eZOHChVRWVgJx0vPjH/+YAwcOsHz5cnux2nA4zOzZs1m5ciW/+MUv8Hq9XHnllQgh+MQnPsGSJUsoKiqira2NhQsX8pWvfIVVq1ZRWVnZKz8aIQQ1NTU8//zzXHPNNXaSZMukl0mzNGrUKG6//XbbleKhhx5Km/ImXYi+JEn4/X4++clPcuGFF9omRmdOp+HDh7N27Vo++ugjDh48yH333UdVVRWjRo0CsJfKsjRF77//Pg899BC1tbXccccdXHLJJQQCAcLhMNOmTePHP/4xd955J/fffz+5ubkEg0FcLhfjx4/nlltuQZIkLr30UpYtW8YTTzzBokWLKC0tRZIkCgsLmTJlCr984AE++clP2gTUuShwf+GkkyTDMAgGg3zwwQcoimJnkAbYu3cva9eu5Utf+hIXJtTo1kCYN28etbW1PPLII7z11lt86lOfQlVVzj77bAzDYOvWrfh8vpPuvOVyuVi8eDHHjh3j3Xff7eKkZyF1oGmaZpMSWZbtteCg00eooqKCwsJCnn76aQ4cOADAtddey8c//nE7U6szYSbABx98QGNjI//1X//FmWeeaf9eWVnJjTfeyIYNG3j99de5+uqrCQQCdhtcLpetsRs9ejS5ubm2L5gkSbjdboqLi3G73bz22mssWrQoS5KySAvLSXLy5MkcOnSIp59+mjlz5mCaJmvXruXAgQN86UtfYtOmTQC2b9+mTZt46KGH2Pj++yDFx+TMqiq+/e1vM3rUGZhAw9Ej3HrrrbQ0t+DxeCgaVkTl2LFIsoQsK5imSV1dHX/+81N84hMfZ+SICnQB3/vud9n0/iZcLhdHjhzB7XZz222f5wtfuB1ZUmg6Vs+vfvlLjhw5yrDiYbz55hu0t7fh9Xq45/+7h8suuwwlUb6NLi/1qaQp1T07i6EOK0DnnXfeoampifHjx9uk4L333uNPf/oTt9xyC9deey25ubn2mmZVVVUcO3aMP/7xj2zYsIGrrroKiBOJWCxGNBrF4/Ewbdo0VFW1tUJW2eng9N9tbW1lx44d9nqkpmnaPqqZNFB5eXnMnj0b0zRpbW213Ti6sxI4g3yshdVjsRg+n88OIrL8gyZNmsSwYcN4/PHHqa2tpbS0lLlz51JWVgZ0JjG2XEI2btzIunXr+NznPsfixYuTVolYsGABNTU13HXXXVxxxRVcdtllti+Soijk5+djmvGVJKZMmcJbb71Fa2ur7ZIjSRKXXHIJP/zhD+0lVzIFJp1snHSSJITg4MGD7N69277I1mKAH374IcFgkKuuusp2/LJIj6IoTJs2jby8PN5//32uv/76AYu+6skUZTny6brOCy+8wK5duwiFQpSWlnL++edzxx134Ha7effdd3nyyScZO3asbefdtGkTa9eu5Vvf+hZjxoxBVVU7Yi8ajfLGG29QXFzMRRddZLfF2goKCjj//PNZsWIFtbW1jB07llgsZhNTy+F93759NDc3s2DBgqSIQbfbTX5+Ptu2baO2tpYZM2b0+7XMYmjCNOPZ7OfPn8/q1av50Y9+hBCC73//+1x99dXMnTs3KZrl7bff5n/+53+oqqriV//7KwoKCqipqWHZsmW89NJL/OfSpUiSxK233orH7eYX/+//oaoKe/ftY8WKFfE8jZJAEXHfxYbDDTQlBIah6yz9z6V89qbP2i9de/fu5Y477sCluvjSl75Ec3MzdXW11NTWcOVVS/iP//gUJibPPvMMT/35KSZOmMikSZNO2zDlLHoHi5Bs2rQJRVEoLy8H4uP9H//4Bw0NDVx33XVdyI0kSQwbNoxhw4ZRV1eHruu4XC5isRh1dXW89tpr7Nq1iw8//JBYLMZNN91kk45MsPxPrYhqy9fV2ue0mvQlRUB3pMEZvVdfX8/3v/99fD4fqqpy/vnns3TpUlsDdu+999LW1sZtt91GdXU1BQUF/M///A9z5szhjjvusNeBUxTFljs5OTnMnTvXJkhOXHbZZdx+++28/vrrXHvttba/kZX9W5IkXn31VdasWcOoUaPIycnB7Xbbc8ySJUu488472b17NxMmTMA0zX7XIkE/kCRJkjh06BC1tbXMmjWLQCBg3+CdO3fi9XopKCiwHblDoRBerxdZlvH7/RQXF9PU1EQoFOqzc3F/McrUMq1Iu3PPPZfKykpmzpzJ9u3bWb16NY8//jh+v59bb70VVVWZNWsWF110EdFolPLychYuXMhrr72G3+8HSFoSJRqNcuDAAfx+PwUFBV0iEBRF4YwzziAUCtlp5q1B8p3vfAe/38+uXbs4cOAAZ5xxBp/5zGe6OLdb9VpEL4tTj/4ap6mRjydSR0dHB62trVx33XW89NJLVFdX4/f72bFjBw8++CCyLCet5r1nzx4aGhqYPXs2s2bOQlFVJp95Jjt37uLNN9/iqqs+yZEjh3n77bdZuXIlZ82eTUcoSGVlJU1NTWzZvNkek76cHDweD0bC90OWZC648AIUWaG5qQmPx0NBQQEF+QW88o9/8KU7voQvx4dpGpwxaiQf+9gi/H4/kiQTi0W598f30tBQz8SJE4/rmsRNfgZCSCkmup6RpWSDC7IsEwwGaWpqYsSIERQXF9sm4+rqaoqLi/F6vbY7hRPWAupNTU1Jy04dPnyY5557jg8++IBgMMiNN97I2LFjM7bBMAza29tpa2ujra0Nl8tFQ0ODvRUUFCCEsH1cnUShJ/REpsLhMB6Ph4qKCv7zP/+T2bNno2kazz77LL/5zW9oamria1/7GqNHj2bMmDEsWrTIXr7riiuuYOzYsXz44YdA51JhVlBVLBYjJycHr9fbxQdKURSGDRuGoijU1NQAnRaX9evXc+utt9LR0cHWrVtRVZW7776befPm2fOLYRiMGDGC/Px8Dhw4cErXfuuXPEkdHR00NzcnhbLruk5eXp69sN6xY8fw+Xz4/X6bDFi+Ps4QemcooEUmMuUdsjRTr776Kg888ADhcBghBAsXLuTGG2+03xr6CqttVs4IS03685//3Gb/S5Ys4YILLuBzn/scq1ev5uabb6aqqooZM2bgcrkoLCxElmUKCwu54YYb8Hg8SX2zfJK8Xi+RSIRwOIzP57MFn5V2oKOjI2k9HCv09GMf+xgej4fhw4dTV1dHWVmZbWtva2sjLy/PfvCsiIMsBgZWegzrbTV1PHdHonra193+vkwqiqLg9/uZNGkSN9xwA88++yxvvvkm8+bNY8qUKdTX19tjNhKJUF9fT3V1NT/96U/51UP/a9cXCoWpb6gnFAry0ssv09rayuzZswmGwximid+Xy4gRI+Ku07qBZsZV8JKQcLncGMT785P7f8Jf//pXGo81kuf3U1tbS3t7Ozlej/38YMYXEc3LzUOWZAzToKiwKBFubIVn9zXuLE6LDNPA0ONryxmGiSRZjrgSQpIwEtdeluSkRJLOWlLFl27oKNLA5H75d4TTdNXR0WEvAKsoip1epqWlhWPHjjFq1KguaWZMM76y/RlnnGETekVRqKqq4g9/+AORSIStW7dy9913YxgGy5cvt18knM+eJEm88MIL3HnnnfZvVjqcd955x25jLBbjrbfeYuTIkcDxv/Q4cwxZc86UKVNYvny5nXNwyZIl/OQnP+FPf/oT11xzDZMmTWLp0qXk5OSwf/9+ZsyYgd/v5+yzz6aqqqpLygGPx4PX6yUajRIKhdK6q0iSRDAYtNehsxzQzzjjDJYsWcKxY8doamoiGAwyYsQI2yXFMsnFYjEqKirYt2+fbZ06FegXkmSp4Cw1mqWOq6yspKOjg+rqambMmGHfMEvt1tjYSE1NDZMmTbKdvS3brCVYrM3lcnVJ+OhcaC8SidgrHgeDwRPqj/VwWTZfp+Ob1V+AiRMnMmfOHDsXkfMm3nLLLUkJIp2JySzhpqoq5557Ln/+859pb29HVVWb0Hi9XkzTZMuWLbbZzCJQxcXFzJ8/n5KSEq688kpmzpzJbbfdxooVK7jrrrtsggSdb1LpoiiyODWwiLU1vnft2sX69es5cuQIqqoyatQoFi5cSG5ubhcfPCEETU1NtLa2Ul1djcfjYcaMGbZ20xki7Ixy6StUVUXXdTweD9dddx0333yzPfHn5+dTV1cHYI9pl8tFXl4eZ511FkXDhhHTOjWVgfx8hg0bhhbTiIUj5Ho7zRDhaPw5NQ2TvLw8TMMgGAoRCoUIh0PEolHq6+pZuXIls2bN4nOfvZlx4yppamrmyiuuwDTMeIZL00x4EQmc3bWdV7usodaXayKQJRkdLZ5IU0B1dTU7duxk7969RGMxCgqLOGfuXCorK22yBHFi1Nzaws4dO/lo+0c0NTbicrk4+5xzqJoxg0gshnuILwA6VGC9hFuyxAp6CYfDyLLMhAkTkpJHpp5r5f1RVZW8vDz7+ZUkiUAgYGvqly5dyq9//WvuvPNOSkpKkmSThSuuuIIZM2bYz+r27dv53e9+xy233MLkyZPxeDwcPXqUioqKE45Eds4NqbAISG5uLqNGjcI04wvlQvyFQ9d1Ro8ezR/+8Ae7LEsWpUbtqapKXV0doVAoyV/IOq+lpQWXy8WoUaNs+SPLMqNHj+baa69F13VKSkq45557eOKJJ5g4cSIVFRX2gsKqqlJfX8/o0aMzrtXaHzjpJEnTNEaOHElFRQV79+6lra2NoqIidF1n5syZyLLMX//6V/7/9s48PIoqX9hv75109j2QBRIkQAKyBZKIEQdEBUdwRx0FZLzjcnVkLjrq6LiMnwvq1bkwDKJyHfEio6IyjCyCIIjEsIUl7CEJIQESyNZLeqvu+v4I59iJAQVxr/d5+km6uurUWarq/Oq3nWHDhsljRKKqyspKzGYzF154oRQwQhN0nQohSAknstGjRzN69GipSQpdcfls8Xq9MhO3SHIpEP8L9WlnhLZI3GinUp0aDAays7NpbW1l/fr1XHPNNfI3n8/H4cOHKSsro3v37sTGxkq1rd/vJzY2lujoaBRFYfjw4WRlZbFq1SruuOMOoN1B3WQy0dTURHh4uHQy1/j+EdeQ1+tl6dKlPPfcc1KFLYToq666iqeeeoqsrCx5fSmKwsqVK5k+fTpHjhyhra2NiRMnMnv2bKxW62mzwJ9NHYVWt7CwEL/fj9frldGqoQhTeXJyMhMnTuTiiy/ussz8YfnExMfh8Xkxmkx43B5UVKwWK4rix+v1YDIYiYyIICIygoiISIxGE1u3biUmJobp06fTu9d5oNcRHRWNUW9oT+zIqXywO0X1fIsA/UAwgEFvwqA3cOhQFWPHjqW+oQF3m5ugGkRnMJCWls5DDz3IbZNu65CB+7lnn2PWrJkyYW27iV3lkUf+xH333acJSd8jqqoSGRlJjx49OHHiRHvE5UmNxejRo5k1axYrV64kOztbbof2+6G5uRmPx0NaWhqAtG6Ics8Ei8VCTk6OFGCET2tmZia9e/cmEAjIyK5vO3c5HA7phN45CaQoOzw8XPqtCqWGcDz3+/3SgiLoqr3p6emEhYWxfft2iouLiYqKkr+5XC5WrFiB1WrtMPfDl9nNDQYDl19+ORs3bmTevHncfPPNpKWlSUVBbW0tHo+H3Nxc+RL3fWThPuee0TqdjuzsbM477zx2797N8ePH5WBkZmZy+eWX8/zzz7N69WocDgetra34fD6WL1/OH//4R/r27UtRUZEsz+PxYLfbcTqdQPtSHna7HZfLJdV1InSxc4cJ09KpogOEANbc3ExTUxNtbW0oikJzc7P0i4L2C+Kjjz5i5syZVFZWyjeSpqYmWltbcTqdNDc38/nnn7Ny5coOTn8ejweXy4XZbD6tXVk4wQ0ZMoTExERmzZrFtm3bZKLK8vJyHnvsMXbu3MnNN99Mr1695MXjdDqltkzkRHriiSeorq6WOS2Edq2uro7u3buTnJx8NsOrcQ4Q6v6XX36Z//zP/yQ/P5+ysjKOHz9OfX0977//PhUVFQwcOJCamhrgywy3DoeDUaNGceedd9K/f/8O5udvKyCFap6EQ6nQdK5YsYJFixYBYLfbO7QF2qN8mpubWblyJc0tLXgVP16/D7vTQe3RIyjBABcUFdG/f3/umzaN4ydzoOzft5+//302brebVrudAO3LoQSUAIFgQKbV8Pv9NNQ3YLfb8Xu8fPLJJ1RVV8kAtI4PbR3oTmYXPlm/YCB4cp+zy4dt0BsJBhXmvDKHvP796d49jffee4/GpkY8bg/l5eUMHjyIP/3pTzz5//6Cz+eVItkVv76Cd959l92791BVVc2u3bt55pmnmfH881x99dVnPlAaZ4XQfsTHxzNs2DB8Pp/0j/F6veTk5PDSSy/xwgsv8OSTT0qhyO12s2PHDubOnUtBQQE33XSTjABrbW2lpaUFl8tFc3MzJSUlzJkzhzFjxpCent6lFkloX4WAJExHwhUldLkuETnWFSJgp7GxEYfDQSAQwOFwyLlMPBvsdjv33nsva9eulVmuW1tb5Rzncrn46KOPmD9/PhEREdInSvgMiYi7rs4fqrGeMGECEydOZNasWSxatEhGp7lcLt544w0mT57MXXfdxbhx4zr0S2gZQnM9ZMgQPvroIw4ePIjf78fj8bBy5Up0Oh0JCQnn5Hr4pnwn0W2RkZEUFRWxZs0aqZYXkQDPPvssTqeTqVOncsMNN1BQUMCGDRtYvHgxQ4YM6RAV4HK5mDt3LitWrMDlcuHxeHjxxReZO3cu6enpvP7661/fwC7WPxOIi2jy5MkcPXqU1tZWTCYTt912G0lJSVx99dXccsstQHtofmVlJWPGjMFsNrN3717uvPNOUlJSGDp0KJ999hm7d+8mLy+PKVOmyAlLaHBOlQY+KiqKpKQk+YaZnp7On/70Jx577DHuvvtuxo0bR0xMDP/6178oKyvjlltuITc3V9Y/NjaWzMxMKf0LAe38889n3LhxfPHFF1xxxRXExMTQ0tKCqqpccsklMheHxvePqqps27aNpUuXcvHFF/P73/9epnsIBAJcfPHFVFZW8txzz/Hiiy/y9NNPExERgdls5vrrr+faa69l165dbNq0ST70xEPtbLPQh9bNYrGQnJxMbGwsJpMJVVXp3bt3BxW62WwmNTWVqKgogsEgBQUF/O53v+O9997D7nAwvGA4QVXl8/Xryevfn5tvupno6CjuuvNO/vjggxgNBoYOzWf5iuXs2r2b9PQMEuIT2kO0fT4MRgOGk2/RhYWFvDJnDk88/hg333QzdoeDt+bPp3//ASQlJgKgBAJEnAx4UFWR/LG9vlGRkV0IkGeeqdvv9/PPhQuJiIjkzflvyoe1P6CQ1aMnTzzxBPfffz//eOMNcnL6cMO11wEwovDLlz4ViIuJ4be//S0zZsxg546dZzpEGmdJ6MRcVFTE6tWrKS8vJy8vT14fl112GcXFxSxYsIADBw5w1VVX4XA4ePLJJ8nNzeWFF16gT58+QHtKm5kzZ9LU1MTAgQNpaGjg448/JhAIcNttt51S0xFqEhf3rUg1ILS3nQWj0HtPmPhaW1t5++23WbBgAS0tLbS0tPA///M/vPXWW0yePJkJEyYQERGBy+Xiww8/ZMyYMYSFhXH06FEWLFjAunXr6N69O2azmfLyctxuN7fffjt5eXkdHNcTT95jnbFYLKSkpMjUMzExMUyaNInm5mZefvll9uzZQ79+/di1axf//d//zZAhQ3jooYdke/R6Pd26dSM5ObmDG8qAAQMYOXIkW7ZswefzSavHkiVLyMzMlHPc97WWm049x6mXhZq+oaGBhx9+mKFDhzJp0iRpwxWmhv3797Nt2zbq6+tZu3YtLS0tPPnkk+Tn5xMRESGT0+3du5f6+nrcbjcREREyGiw2NvYraruvo/MEIsx0q1atkv+LcEyz2UxmZqaMUth5MvpmwIAB0t9q06ZNVFZWcvjwYUwmEwMHDmTo0KFSgwVfZkc9VWKvRYsWkZ6eTn5+vnQehHbt1rZt29i1axcHDx5k1apVDB06lAcffJCcnByg/e3n6NGjVFZWcuGFF3a4aAKBAHV1dRw8eJC+ffuSmJjIRx99xMqVK5k6dSqDBw8+w5HVOFccP36cJ554gg0bNvD4448zbtw4+aDU6XRSw3nXXXcxb948Vq9ezciRIzssMrlr1y7+8Ic/EB8fz5w5c6SPWihdJZE7FaGBEgAbN24kLCxM+gd2xufz8cknn9C7d2+SkpIIBAJERkayZ88evij9gha7nZjoaLJ79aKwoABovyZNZjPbysr4orQUHdAvN5e+ffpQXV1NQkIiPXv2wOPxsm//PhLi40lPS8eg17Nvz162btnCoZoa0tLSuKi4mBMnTuBpc1NYPALF62P3nt0oio/+/fsDwlHUxc5d5ZzXuzeJCZ0f9t9cke7zefh07afc/tvbuf7663nk0UewhZ+MvtWB0WDGH/Sxbt1nXHnllUyeNIW/zZzV3qe0L9Kro12YQ1WpraujsLCQHpmZlJZ80WEctDQF3z2BQIBHHnmEffv28cc//pHhw4d3+L2iooLS0lLq6uo4cOAA77//Pg888AD3338/er1eBtJUV1dTXl7OgQMH0Ov19OnTh6KiIuLi4jo8979uXFtbW6murqZbt24kJCScNjgD2u/ltrY2Dh48yOHDh2UQkMiWfd5555GWliaVE//+978ZMmQISUlJBINB6uvr2b17N5WVlXi9XgYMGEB+fn4HLZI4j6Czue3IkSNs376d/Px8aZkQlo19+/axa9cuampqWLduHdXV1cydO5fi4mLphO1yuTh8+DAxMTGkp6fLPhIasYMHDxIVFUWPHj1wOp0MHTqUJ554gptvvvn7vUfU75ClS5eqM2bMUKuqquQ2v9+v+nw+1e/3q4qiqMFgUC0rK1MnT56sPvbYY+qhQ4dUn8+nqqqqBoNB1efzqcFgUH4Xx4ttZ0IwGPzKR1EUta2tTW1ra1NVVVUDgYDq8Xi+9hxOp1P+39LSoiqK0uF3t9utBgKBU55XfMQ+Xq+3w/mam5tVt9utut1utbW1Vf3b3/6m/vrXv1bnz5+vulwuWe6p2ufz+VSXyyX7zG63qzNnzlRnzZqlnjhx4qz6T+PcsH37drWwsFCdMGGCWl1drXq9XlVVVXndq6qqKoqivvfee2piYqL60ksvdRivQCCg7tixQx09erR6ww03qM3NzXJ76KfztXY6Ol+T4ro81b5ut1tVVVX1eDyqy+VSvV6v6vV6VUVRVJ/iV72KX/Upiur1t7cpoKqqP9B+jwRPfvf4fao/GFADqqoqalD1B9vP6Q8oqi/QXs5XCATVNodTVXx+NehXvvq7qqqKz6v6PG2q3+s+eabAybOqId9P3b6u8Pt96v97+i9qbGy0uvhfH6geT5uqKF5VUbyqX/GpAVVRfQGfumbdGjU6Llq96ZbfqD5FkW32BxR1c9lWdenyZerb7/xTfeyJJ9SCokL11dde69i80/S7xrdHURR5ny1btky99tpr1dWrV6uq2j43if4PHYeGhgb16quvVm+55Ra1sbFRVVVV3rOhhN6/oXPWN7n3RL38fv8ZPZu7uldDv4v/FUVRXS6X2tbWpnq9XtXv98u5VJxX0NbW1qEtofXs3J7Qc4k5LLSsQCCgVlZWqpdddpk6bdo0tampSVXV9ueGx+Ppsq2h86KgpKRE/d3vfieP/z75TqLbBGPGjCEjI4OwsDAaGxvlMh1CUhWOzH379uXFF19k7969cqFWVYTUdgqfDFVPfhunNvWk5C0ic4Tvj3rSRhwaKRd6DvFbqFNfVFRUh/BrUe43yW0h9uncFmFyDAaDhIeHM2nSJAoKCnA6nbjdbunDBO0aJbPZLLVjoh6dFwEuLi4mNjZWhmBqb6w/DD6fD4fDQXZ2NjEx3xVg4QAAHVVJREFUMTIgoPN4JCQkoCgKFRUVHVT00NHp8rsYR/U0CmYRDCEwm83SXBwItPsSGY1GTEYjPqX97VMPoNcTREVPe1ssRhNKMIBKEINOjz8YIGjQ4fe1R8aZLWbcHg9Wi+XLNoooNVXF5/djMYShBgKoqOhPquwNRiP6YPszAvWkB5JOPWlcO7u+0uv1VFdVYzKbSE5KRq83iFa1VyfY7hhuMrb/rlPB7/e1L9YdaO+Xt+bPZ/ny5bic7TmoHv3zo0yYML7DuIrn0g+VSPfnjng+AlxyySXEx8eTktK+RmComSv0nkpMTGTu3Lns37+fhoYGoqOjT+vG0fn4ryM0DYx4jn9TRH1FGfBltHVoW0OzYwtNjhqilQq1QpxJoFPodSqOEfO3eGb17NmTGTNm0NDQgNfrla4nwpQfemxon4iyvV4vNpuNp556SkaUf598p0KSwWAgNze3w/oznTtDDJzFYpEO26fquM6DeboHeVd0Lk9c6AaDQSauNBgMp82UGmpGCy23cx6Mb7q8yam2d/ahMBqN0kTWuczO+4p+EmWKdAUDBgw4Zbs0vh9ChVixnEFX17vBYMDj8RAMBqXvi/AT+CYPsK6iL79u/9B6fN0kLe6DUFNcVxOH2filMKUPEVCEQ3VoniCTof34sJDAh7DOyzqoEHbSzGU4ORnoDO25ib70x9aB3tAuyOjONP1j16gqWCxWggE1ZOHSL+9xNdj+QqdHT1AJYjaZMBtNGAxGgoEAeqOJq8ZPYND5A3E4HOzatYvXX32NoBLg7rvv/trszBrnhtBns8FgID8/v4OjtKDzPRMfH09hYSHQUfgIpXPenm/6IirmwG/DqfyYQreF3qunyzF0KgHw69oSWmZoyhngpAm8HaFEOFVAlU6n61AHi8XS4fjvm+9USBKc6QXwTaXYb/MG/X1pUUInn6/b70zK/LpjNS3Rjxer1UpiYiKtra3Y7Xbpv9D5OqmpqcFoNJKTk9PBX008pEM/54LO2qqfLOdIMOpMz55ZmM0mKg4eZNDgIZj1X0bnQLsQ63Q6Zd4dVVVlPfw+HyNGjGDEiBEyYGTw4MHMmDGD8ePH07t3b+CrGmWNc0tXwv+pXmhPxakm9672+6H5MdShMz81LelPq7Y/UcRNdboL9lxdzN/0Btb4YdDpdCQlJTFo0CAOHz5MeXn5V/YRy/WsX78evV5P3759OwgvoflOQvOenAthSbt2usZgMDBkyBCioqJZt3atTHAX+vH7/TidTplfRphQhGlDLMUkTA3dunWTyXUFWv//cGh9r9EVmpD0I0G7QX85JCQk8Otf/5ru3bvzf//3f2zcuBG32y0zAXs8Hl5//XXWrFnDddddR8+ePWXOEmi30QNyUWSxXWghztTU9pNC9w0+3xEDBw4kPSODFSs+pvSLL+SKAsFgEK/Xy86dO3nnnXdISUlhxIgRcjxE1Cx8aVo5ceIEdXV1WK1WkpKSvrtKa2hofCsMjz/++OM/dCU0NH4pqCdTTSQkJOB0OlmwYAFHjx4lLi4Oi8VCY2MjS5cuZfbs2fj9fl5++WXS0tKkRuLYsWMsW7aMgwcPUlpais/nIyYmhpqaGlwuF5GRkVgslg55WDS+PcFgUC40unLlKsrLy1FVlbi4OJxOJ1u3buXZZ59l586dTJ48meuuu47w8HAcDgfLly9n48aN0py5fft2Xn/9dVavXs3o0aO54447vrecLxoaGmfGOc+TpKGhcXpEBFNtbS0rV65kzZo11NfXY7PZaGtro66ujiuvvJIRI0Zw6aWXAu1OkYqisGXLFh577DH0ej3Hjh3DYDCQmpqKTqdj7NixXH311SQmJkrtxU/N/v9jxu/3y0VHFy1aRE1NjcxDU1tbSzAY5JFHHmHUqFFER0ej1+txuVy89dZbLF++XEaqulwuAoEAV155JcOGDWPIkCE/dNM0NDROgSYkaWj8AAhfIkVROHToENXV1djtdtavX8/ChQv57W9/y/Tp07HZbDKTunpyjafy8vIOYbwmkwm9Xk9iYiLJycnf2+rYv1SCwSDHjx+ntraW6upqfD4fs2bNor6+nr/+9a+MGzdO7qcoCsePH6eqqor6+np0Oh0Wi4WEhAQGDBggFwPX0ND4caIJSRoaPxCdnbEDgQCNjY2sX7+eZ555huzsbGbPnk10dLQm+PxIESkctm7dyl/+8hdcLhfPPPMMhYWFHTIUC6FYmEBPtyaXhobGjwdNSNLQ+JFht9spKSlBVVUuuuiiDolLNX687N27l6qqKrKysujVqxfw1XxVmo+YhsZPC01I0tD4kdA5qaRIwqpNrD9uQpMRKooiE7l2laBQG0sNjZ8Wmr5XQ+NHQugk6vf7tUn1J0L7Qrptcsmi0CzqGhoaP200TZKGhobGt0A8Qk+X/byrdfY0AVhD48ePpknS0NDQ0NDQ0OgCTUjS0ND4ztAU1RoaGj9lNCFJ4xdDIBDA4/HIZTyCwSA+n0/mGxLbxCd0P0VRZDmhod2iXLfbLfcRjrynQmTdPpN6hx77Tei8X1d16mwe6vw9GAzi8Xjkby6X6ytldj5OVVW5VMq5WnxXjFlX9RXbgQ77iPHrHIbfuW1n4j/U1X6h24Sz9qmynXe1MHFXbTrVuTuPTefvYj+32y2XrvH5fPL/ro4T2/x+P21tbV/bBxoavzS0LGYavwhUVaW+vp7du3fLHDZ79uyhvr6esLAwwsPDycrKIiYmBovFQklJCS0tLSQnJ0vhYMSIEaiqSk1NDYFAQIZ519TUsH37dgYNGkRmZiZ+vx+j0djlUhMOh4PNmzfLBJE6nY6cnBzi4+NlPTtPriJiSqzrFhER8ZVyvV5vh3O2tbVhs9nk8WJiDM23pNPppLMxwMGDB9Hr9WRlZQHgcrkoLS2luLgYk8nEwoULmTp1qjw+VCgRUXjBYJAdO3ZgNpvJzMwkPDz8K+05E1+cpqYmNmzYQH5+PrGxsZSXl8uJ3u124/F4yMjIoE+fPjQ1NXHgwAHZXqPRSK9evUhOTsbtdnPkyBHS0tKwWCz4fD4+//xzUlJS6N27t0zoKNrUOS/Vzp07OX78uByH1NRU+vXrh9/vx2w2d+gTnU4ncyAJwUmv1+Pz+WQ/dfZjEmUoitLh3OJ6EMKq2WzGYDDgdruxWq0Eg0E2b97M+eefL7N5l5aWEhYWRlFREXv27KGlpYXi4mJ0Op2sQ2idg8EgjY2NrFixgltvvVXzldLQCEETkjR+Efh8Pnbs2MHWrVsZNWoUW7ZsYeHChQQCAaKiotiwYQMDBgxg2rRpZGRk8PDDD+Pz+Rg8eDBGo5GYmBgKCgoAWLJkCQcPHuT555/HbDazbds2XnnlFe6//35SUlIwGo2nTBRYUVHBvffey+jRo3G5XOzfv59rrrmGe+65R9YzVAuhqioGg0EKM2JdNvH2LyZg8VeUoaoqXq8Xr9eLwWCQmbs7I8LWdTodb7/9NkajkQcffFBur6iooKCgALPZzMMPP8ytt94qJ3GTySTrC0jNTXl5OWVlZdx+++3k5uZ+q3H75JNPePfdd8nKyiIhIYElS5bQ0tIi17IrKSlh8uTJ9O7dm23btvHCCy+QlZWF2WwmMTFRZiGvqqri448/5sYbb8Rms2Gz2Vi0aBGjRo2ib9++UsATfaQoihScVFXlqaeewufzER8fz+HDh4mMjOS1117DZDLJRWvdbrdcCiY0fYNerycYDGIymTpom0TZoekCTCaTHGvRnyaTCavVisfjkQkphQBcVVXFlClT+OKLLwgLC8PlctHU1CTL37JlCzt37mTYsGFYrVZMJlMHzZvBYMBoNGKxWHjzzTcpKCggJyfnW42ZhsbPCU1I0vhF0NjYyK5duxg9ejSKotC9e3fuvfdeEhMTsdlsPPPMMyxYsIDf/OY3ZGRkoNPpGDVqFHfffTfR0dGEhYWhKAr19fVs2rSJI0eOsHjxYjIyMvD5fBgMBtauXUtDQwMej4fzzz+f888/X2o04EtTXlZWFk8++SQAc+fOpbq6murqapKTk9mwYQP19fVy8rriiiswGo2sWLFCajkURaFPnz7Ex8dTUlJCW1sbHo+Hvn37MmjQIJqbmyktLcVut+N2u8nOzuZXv/oVer2ekpISGhoa5PphMTEx5Ofn09bWxoEDB3A6ncyfP5+8vDx69+5NRkYGfr8faA91FwKS3W7n448/luacjIwMCgoKsNlsFBUVsWrVKmpra89aSBJCw4YNGxg+fDjdunXDYDBw//33Ex4eTiAQoLy8nAMHDjBy5EgURcHpdNKrVy/+/Oc/ExYWRlRUlKxrWVkZmzdvJjY2lpSUFC699FI8Hg+1tbW8/fbbmM1mTCYTl19+OWazuYOQGgwGMRgMTJkyhZEjR3Ls2DFGjBjBmjVrGD9+PLt372bLli0YjUasVisXXHABKSkpHD58mH379uFwOFAUhf79+5OYmMjnn39Oa2ur7NMJEyZgsVgoLy9ny5YtWK1WYmJi6N+/PxkZGRw5coSDBw/S0tKCw+GQSUa7desmr7mlS5diNBopLi6me/fuuN1uqTWyWq0YjUYUReGLL77gyJEj6HQ6wsLCKC4uJioqiujoaO644w7efvttHnroIXn9aWj80tHuAo1fBEeOHGHTpk3ccccd6HQ6UlJS5ESoKApWq7WDacjn81FWVsYbb7xBYmIiBQUF5ObmYrfbaWxspLm5mX379mG1WvH7/TidTiorK4mNjWXNmjUsXbqUmTNnSjMatE+4wvdDrOGVkpJCU1MTLpeL7du38/7772OxWAgPD2fz5s3k5OSQl5fHc889R2NjIxdeeCE5OTlYLBaWLFlCSUkJgwcPprm5GZ1OR1ZWFh988AHLli1j4MCBBINBFi1aRGRkJIMHD2bevHmsXbuWCRMmoKoq27Zt46abbmLo0KH4fD5cLheVlZVkZmbidruZN28evXr1IjY2FqvVCrTncPr888955ZVXKCoqoq2tjT179pCcnExeXh7Z2dkkJSXR2NgozUJnYsIRmhaXy4XdbmfQoEFER0cDEB4eDrT7KS1cuBCHw0H//v2libOyspK33noLq9VKbm4u+fn5cjHhxsZGqqqqpC+awWCgpKREXgutra3k5eVJM6pAaJdMJhM2m42kpCSMRiPHjx/H7Xbz/PPP43A4uOCCC6iurmbXrl3cc889bN++nRdffJH4+Hj69etHr169KCsr491335XCeWNjI2PGjKGlpYW5c+eiqiopKSlUVFSwd+9e7r33XtasWcOHH35ISkoKycnJbNq0CZvNxtixYzl06BBut5uqqiqMRiMDBgzgjTfewO/3U1hYiMFgkILt5s2befXVVwkPD6dHjx589tlnNDQ0MGnSJIxGI5dddhnPPvss06dPx2KxnM1tpqHxs0MTkjR+tgSDQWnqOHr0KC0tLdJvR5hD9Ho9LS0t7Nixg4suuoikpCQALr74YsxmMz6fj61bt7J69WpmzpxJt27dGD58OFVVVUybNg2j0ciyZcsIBoOMHz+e6667jl69ejFt2jRpPgmtj06nw263889//hOPx8Pq1avJy8sjLi6OBQsW0KNHD2699VYsFguLFy+mpKSEvn37oigKgUCAqVOnkpeXx+bNm1m8eDHXXHMNd955Jx6PB6/Xi9VqpaSkhF/96ldMnjyZyMhILr/8chYsWEBeXh4AkZGRPPDAA/j9fp5++mm2bt3KrbfeSm5uLn6/n/vuu4/IyEicTqf0/xF9KYS8Tz75hOuvv55Jkybh8XiYP38+69ato1+/fgSDQWJiYnC73fj9/rNaVkVVVex2O9HR0dhstg5CltfrJTw8nI8//phLLrlEmhnT09NlG+vq6ti8eTOBQIBRo0ZxySWX4Pf7ufvuu6VPl9lsJj09XY7Vhx9+SGlpKT179pR+WqLtZrOZTz/9lObmZioqKggPD6eoqIimpia2bt3Ka6+9xvDhw1mzZg0vvPACI0eOBNoFyuLiYqZOnYqqqsyePZvi4mKuvvpqoqKiqK2txWw288EHH7Bp0yYWL15MYmIiixYtYseOHbS2thIIBAgPD+eqq66isLCQ5cuXs3//foqLixk/fjwzZ87kD3/4AxaLhebm5g5+YsKJ3mg0sn79ehITE7nrrrvIysrC4/GwYMECJkyYQHx8PAaDQWqruvJ709D4JaIJSRo/WxRFwWw24/f7sdvtBAIB+RECy/bt21m+fDnnnXce119/PSkpKaiqypQpU6TAVFFRwWuvvcaWLVsoKirCZrMREREh/XwURSE8PJyEhAQABg4ciMFgkOfu7IgbDAZxOp3odDqKi4spLCxEVVX2799P9+7dWbNmjTQfNTU14ff7sVgs5Ofn06dPH1RVxel0EggEuOiii7BYLFgsFinAiGi7ZcuWYTAYSEtLk/4xOp2OjIwMEhIS8Pv99OnTh+3bt3fpr3QqvF4vn376Kampqbz55pvYbDbq6upITEyUWjKj0XhGZXZG+M1ER0cTHh7ewaHdYDBw/PhxFEVh4sSJUpDLzs7mvvvuIyoqCpfLxdNPP80HH3xA7969ga86jLvdboqLi4mLi0NRFFJSUqisrJRmzVCfJJ/Ph9PpxOl0kpCQwKOPPkpeXh5lZWVYLBYqKyuprq6mrq6O2NhYXC4XOp2O5ORkMjIyMJvNHDlyhL179zJ16lSpYUxNTcVgMLBp0ya8Xi9Lly4lIiKCqqoqYmNjpakzJyeH7OxszGYzvXr1Ys2aNdKZ+5vS2NhIS0sLZWVlbNq0STpwi3EKvT80NDTa0YQkjZ8tQjgxm83ExsZiNBqlU7XQiixZsoTa2lr+67/+i169esnQcREFBZCVlcWwYcOorKxk6NChHRyrxf9C+BHbjEYjfr8ft9v9lUiphIQEbrzxRiIiImS0Un19PcFgkNjYWFJTU9Hr9SiKgs1mkwJOZGSkXD1eTGQiSik0tFun0xETEyPbcOutt5KQkCCjpIR/itfrxe/3S63amaDX68nIyCA6Ohqz2UxqaippaWkYjUbpNyXWMDsbxHGNjY1SoASk8LJ06VKKiooYOHCgjCizWq3YbDb8fj/h4eHExcWxceNG6urq5LGdz2GxWLBarfIcwtG9c2Zso9HImDFjGDlypDT5QbtgER0dTbdu3dDpdMTGxlJYWEh2djYbN27sEM0mBOdQhP+TcJ5OT08nPDyc5ORk6XQunMOF4Bla3pkSFRVFcnIyOp2O1NRURo4cKZ3AQ9NfaGhotKPlSdL42SIilnQ6Hd27dyc5OZmmpiagPdx9xowZ7N+/n8GDB9PU1ERpaanMnfOvf/2Lqqoqqqureeedd3jvvffo27ev1AwdPXqUzZs3c/jwYRm2LQQXMTG6XC7pPAxI/xCbzUZkZCTh4eGyfvHx8YwcORKHw4HJZKJfv37ExMQQEREhBaPIyEg5eaekpNCtWzf+8Y9/UFFRwY4dO9i/fz86nY64uDhKS0uJiYmhR48e0gcnNIcPIE2PoYLj3r172bhxI7W1tbhcLsxmM1arFb1ej9frRVVVrFYrN954I2VlZURHR5OcnCx9s6xWKw6Hg6qqKmw221mZ2sTYxcbG0tzczPHjx6V2R6fTcejQIV588UWmTJkit/n9frZs2cK6detoaGigtLSUiooKhg4dSs+ePQkPD2fPnj1s2LCBmpoaFEWRWkBVVaU2TvilhQplQpiyWCxER0fLsVYUhaysLBRFoby8nKysLNLT02ltbaW1tVU6fNtsNoxGI8nJyYwfP55///vfbNy4kaqqKtauXYvT6WTs2LFAu3YrMzNTaqOEJkkI70LQio+Pl2ZNVVVZvHgxBw4ckOa20DoLX7isrCyOHj3KiRMn6NGjB5GRkR20USdOnGDAgAHEx8dr2iQNjZNomiSNny2h4dUpKSkUFBSwb98+UlJSqK+vp7S0lIaGBo4cOcLChQsxGo0899xz5ObmMn/+fF599VVUVcXj8XDBBReQn5+PwWCgqKiIHTt28MADDzBu3Dji4uKIiYmRAlEwGCQqKuorb/rCR8lqtUqBJTSCaOzYscycOZM///nPRERE4HA4ePTRR+nTp48UrPR6PQaDgYEDB3Lbbbfxv//7v9x5553YbDauuuoqMjMzueGGG5gzZw7Tpk0jEAhgs9m47bbb6NevH2FhYURHR0tNWnh4OJGRkQQCAQYPHsy2bdt45pln+M1vfsPYsWOlBkpRFBITE4F2bcT48eOZPn06mzdvBiA+Pp6JEyeSk5NDbW2t9CcKDW8/E0T0VXx8PHv27KGoqIjIyEhUVaWsrAyfz8eAAQOkFsxgMFBRUcG8efOkmXPQoEFcd911REdHy/D3l156idzcXP7617+SlJSEzWbD5/NhMpk6CITi+oF2oddisXTIbwTtQmZ0dDQ33HADixYtYsmSJej1elJTU7nnnnswmUzExcVJocpkMjFx4kSmT5/Of/zHf5CcnExUVBSzZ8/m4osvpqmpiZdeeomoqCgURaGwsJCBAwditVqJioqS/nVms1leC3Fxcdx+++38/e9/Jy0tjd///vekpqbicDjwer1ERkYSFRWFz+fj0ksvpampiXnz5vHmm2/idDoZNmyYTG2xatUqrrjiCumgr6GhoS1wq/EzJvTSDgQCfPbZZyxYsICHH36Y2NhYGhsb8Xq90sRgNBpJTU0lLCyM2tpaWlpaUFVVTjTCiVhRFA4dOkRDQwPdunXDZrPR1NREQkIC0dHReDweqqqqpBNxKG1tbdTV1Uk/FSE8iCiwY8eOUVNTg16vl8kQIyMj2bFjB2FhYfTo0UMKBW1tbRw9epS2tjaZ4DAuLg6Ao0eP0tTUhNfrxWKxkJOTQ1hYGDU1NaiqSmpqKtCeMLKtrY20tDTsdjvHjh3DbreTlJQkNW/CL2jTpk0MGTJEajQOHDggszsLM6FOp2POnDkATJ48uUN0n+BMBKYdO3bwwgsv8Oijj3Leeefh9Xo5duwYfr+f9PR0zGazdEyuq6vjxIkTeL1ezGazHBuhHRLCm06no3fv3hw+fJjY2Fiio6NRFAW73Y7X6yU5OblDUkhVVamrq5OCqthuMBhQVRWHw0FNTQ0ejwe9Xk9ERATdu3fH7/fT2NhIUlKSFPBEPWprawkPD8dkMpGVlSWdrquqqmSCyvT0dBISEqivr8fr9ZKUlITVasXtdtPU1ERMTIw0jR04cIBgMEh2drZML5CWlobD4cDn85GUlEQgEMBut3P8+HFpng0LCyM9PZ3a2lquueYaVqxYQVRUlMzppKHxS0cTkjR+tnReMkJkb87JyZHChkikKELIhdYk1O8EkMKGKFdoFTpnSA7NYN3ZaVsgzDxCEAotU0x6wu9IlCWSJ4osy6ERZ6J9woRkMplkfcX3ztocl8uF1WqV5Ycu4xG6v/B96UobFBo9KExUTqeT0tJSevToQXZ2tvwtlDOZfIPBIJ999hl9+vSRwksgEMBsNuN2uwkLC+vQz6IPhPlQ1Luzz5XoH3GsMOeF+hCFtlkcL3zMjEajHB+fzye/dzXeiqLg8/m+4sskzif6UGj3RL075ykSYx4qvIWmsRD1EW0QfWU0GvH5fAAdzJ/inD6fj4qKCsrKyrj22mu18H8NjRA0IUnjF4MQaqCjw3UooZNi6GR+Niaj09VDCENn4nzbuQ5drRsm/j/benXVzm9SXujaYSJbdahz+5mWF4oQKIVgICZ3IWSEfg91Oj7deTtnuv46QoXiUMfuUL+307WtK2FRnPtM+iM0k3dnzvYaDV2jsCshT0Pjl4wmJGlowLcWMM7mfOfiXOey3l09Cr5puZ0jok533LcR4sTf05Vxqkfa9zG2pzrH6R6zmllLQ+PHi+a4raGBNlF9W77P/vu6c2ljqaGhca7QUgBoaGhoaGhoaHSBZm7T0NA4J3T2kfouz/NjNbdpaGj8vNA0SRoaGueUH1oY+aHPr6Gh8fNB0yRpaGhoaGhoaHSBpknS0NDQ0NDQ0OgCTUjS0NDQ0NDQ0OgCTUjS0NDQ0NDQ0OgCTUjS0NDQ0NDQ0OiC/w8jHqSGyAuSNAAAAABJRU5ErkJggg==)"
      ],
      "metadata": {
        "id": "DUqp0n6DX1C2"
      }
    },
    {
      "cell_type": "markdown",
      "source": [
        "(the image is taken from [1])"
      ],
      "metadata": {
        "id": "aAYMaxXxjlsB"
      }
    },
    {
      "cell_type": "markdown",
      "source": [
        "**skewness**"
      ],
      "metadata": {
        "id": "Rrdcnvgg4c_h"
      }
    },
    {
      "cell_type": "markdown",
      "source": [
        "skewness is a measure of the assymetry of a data distribution about its mean. Three cases are to be distinguished:\n",
        "\n",
        "\n",
        "*   0: the distribution is symetric.\n",
        "*   negative: the distribution is left-tailed.\n",
        "*   positive: the distribution is right-tailed.\n",
        "\n",
        "The figure below is from [2].\n",
        "\n"
      ],
      "metadata": {
        "id": "p66DvVdU4n5O"
      }
    },
    {
      "cell_type": "markdown",
      "source": [
        "![image.png](data:image/png;base64,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)"
      ],
      "metadata": {
        "id": "VMIiVOBHkHs5"
      }
    },
    {
      "cell_type": "code",
      "source": [
        "ALXN.skew()"
      ],
      "metadata": {
        "colab": {
          "base_uri": "https://localhost:8080/"
        },
        "id": "CwS9k3nAhZ1U",
        "outputId": "a5a60283-18de-41eb-b29f-d9b6c7f958cf"
      },
      "execution_count": null,
      "outputs": [
        {
          "output_type": "execute_result",
          "data": {
            "text/plain": [
              "-0.7857421088932329"
            ]
          },
          "metadata": {},
          "execution_count": 60
        }
      ]
    },
    {
      "cell_type": "markdown",
      "source": [
        "**verify the normality of the data**"
      ],
      "metadata": {
        "id": "YwqM7MpIDn0O"
      }
    },
    {
      "cell_type": "markdown",
      "source": [
        "qqplot is a graphical method that compares the quantiles of two probability distributions."
      ],
      "metadata": {
        "id": "5AdldClbDrzX"
      }
    },
    {
      "cell_type": "markdown",
      "source": [
        "In our case we plot our sample quantiles against the quantiles of a theoretical normal distribution. Two cases are possible:\n",
        "\n",
        "\n",
        "*   if the quantiles of both samples are situated roughly on the same line then we can say that our sample data is normal.\n",
        "*   if not, our sample data is not normal.\n",
        "\n"
      ],
      "metadata": {
        "id": "oR0xndpKmkUJ"
      }
    },
    {
      "cell_type": "code",
      "source": [
        "#the x=y red line represents the theoretical normal distribution quantiles\n",
        "\n",
        "fig = sm.qqplot(ALXN, line='45')\n",
        "plt.show()"
      ],
      "metadata": {
        "colab": {
          "base_uri": "https://localhost:8080/",
          "height": 279
        },
        "id": "L-9e-KpvhZ6h",
        "outputId": "40a62c23-00c3-496d-a173-1748ab1c9f7d"
      },
      "execution_count": null,
      "outputs": [
        {
          "output_type": "display_data",
          "data": {
            "text/plain": [
              "<Figure size 432x288 with 1 Axes>"
            ],
            "image/png": "[encoded data removed]"
          },
          "metadata": {
            "needs_background": "light"
          }
        }
      ]
    },
    {
      "cell_type": "markdown",
      "source": [
        "It is clear from the qqplot that our sample data is not normal. The divergence from the normal theoretical quantiles is very high."
      ],
      "metadata": {
        "id": "0WKNB4hMnV0r"
      }
    },
    {
      "cell_type": "markdown",
      "source": [
        "**recall: normal/Gaussian distribution**"
      ],
      "metadata": {
        "id": "1t--Ue0-FfU2"
      }
    },
    {
      "cell_type": "markdown",
      "source": [
        "the normal distribution is the most frequent and studied data distribution. It is defined by two parameters:\n",
        "\n",
        "\n",
        "*   mean\n",
        "*   variance\n",
        "\n",
        "\n",
        "It has also some interesting properties such as:\n",
        "\n",
        "\n",
        "*   skewness=0\n",
        "*   mean=median=mode\n",
        "\n",
        "\n",
        "\n"
      ],
      "metadata": {
        "id": "onHBCOjEpf7s"
      }
    },
    {
      "cell_type": "markdown",
      "source": [
        "![image.png](data:image/png;base64,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)"
      ],
      "metadata": {
        "id": "T-RO3_LQpRiD"
      }
    },
    {
      "cell_type": "markdown",
      "source": [
        "(taken from [3])"
      ],
      "metadata": {
        "id": "MsmugQ-eMQ2N"
      }
    },
    {
      "cell_type": "markdown",
      "source": [
        "# multivariate analysis"
      ],
      "metadata": {
        "id": "lMtjeJIsFkuw"
      }
    },
    {
      "cell_type": "markdown",
      "source": [
        "multivariate analysis aims to study the causality between different random variables."
      ],
      "metadata": {
        "id": "R0NObXFJqOFs"
      }
    },
    {
      "cell_type": "code",
      "source": [
        "#select 10 first stocks\n",
        "df=data.iloc[: , 1:11]"
      ],
      "metadata": {
        "id": "4cuOImq45R3p"
      },
      "execution_count": null,
      "outputs": []
    },
    {
      "cell_type": "code",
      "source": [
        "#checking the # missing values per stock\n",
        "df.isna().sum()"
      ],
      "metadata": {
        "colab": {
          "base_uri": "https://localhost:8080/"
        },
        "id": "Dw57LTqtDjan",
        "outputId": "de524085-0a87-48c6-ce55-dbca1f6720f3"
      },
      "execution_count": null,
      "outputs": [
        {
          "output_type": "execute_result",
          "data": {
            "text/plain": [
              "ALXN    0\n",
              "WMT     0\n",
              "NWSA    0\n",
              "COST    0\n",
              "DPS     0\n",
              "WM      0\n",
              "EXC     0\n",
              "CRM     0\n",
              "AXP     0\n",
              "PXD     0\n",
              "dtype: int64"
            ]
          },
          "metadata": {},
          "execution_count": 63
        }
      ]
    },
    {
      "cell_type": "code",
      "source": [
        "df"
      ],
      "metadata": {
        "colab": {
          "base_uri": "https://localhost:8080/",
          "height": 424
        },
        "id": "vYP6LN5G72rL",
        "outputId": "b412b952-b5b5-40e8-8901-29ab3059d254"
      },
      "execution_count": null,
      "outputs": [
        {
          "output_type": "execute_result",
          "data": {
            "text/plain": [
              "       ALXN    WMT   NWSA    COST    DPS     WM    EXC    CRM    AXP     PXD\n",
              "0    133.44  73.89  13.51  169.04  97.23  66.67  34.94  81.63  65.38  176.52\n",
              "1    136.07  73.32  13.65  168.73  97.00  66.23  34.63  78.92  65.63  179.15\n",
              "2    133.76  72.89  13.68  168.41  95.21  64.97  34.23  77.96  65.30  178.77\n",
              "3    133.06  72.93  13.76  167.96  95.89  65.41  34.58  76.32  65.68  180.30\n",
              "4    132.43  74.30  13.75  167.75  95.64  64.92  34.71  76.91  65.63  183.91\n",
              "..      ...    ...    ...     ...    ...    ...    ...    ...    ...     ...\n",
              "247  138.33  81.28  14.34  156.95  91.06  75.39  38.22  90.50  85.85  129.64\n",
              "248  136.04  81.59  14.24  157.75  90.31  75.34  38.21  90.26  85.94  135.38\n",
              "249  136.85  81.61  14.17  156.86  90.32  75.23  37.70  90.12  85.69  137.55\n",
              "250  132.30  80.66  13.68  156.64  90.38  74.81  37.74  87.63  84.56  135.26\n",
              "251  132.93  80.40  13.43  156.65  90.38  74.61  37.50  88.29  84.29  134.02\n",
              "\n",
              "[252 rows x 10 columns]"
            ],
            "text/html": [
              "\n",
              "  <div id=\"df-8d054a21-2bab-40c7-9a98-9be75b2c8dfd\">\n",
              "    <div class=\"colab-df-container\">\n",
              "      <div>\n",
              "<style scoped>\n",
              "    .dataframe tbody tr th:only-of-type {\n",
              "        vertical-align: middle;\n",
              "    }\n",
              "\n",
              "    .dataframe tbody tr th {\n",
              "        vertical-align: top;\n",
              "    }\n",
              "\n",
              "    .dataframe thead th {\n",
              "        text-align: right;\n",
              "    }\n",
              "</style>\n",
              "<table border=\"1\" class=\"dataframe\">\n",
              "  <thead>\n",
              "    <tr style=\"text-align: right;\">\n",
              "      <th></th>\n",
              "      <th>ALXN</th>\n",
              "      <th>WMT</th>\n",
              "      <th>NWSA</th>\n",
              "      <th>COST</th>\n",
              "      <th>DPS</th>\n",
              "      <th>WM</th>\n",
              "      <th>EXC</th>\n",
              "      <th>CRM</th>\n",
              "      <th>AXP</th>\n",
              "      <th>PXD</th>\n",
              "    </tr>\n",
              "  </thead>\n",
              "  <tbody>\n",
              "    <tr>\n",
              "      <th>0</th>\n",
              "      <td>133.44</td>\n",
              "      <td>73.89</td>\n",
              "      <td>13.51</td>\n",
              "      <td>169.04</td>\n",
              "      <td>97.23</td>\n",
              "      <td>66.67</td>\n",
              "      <td>34.94</td>\n",
              "      <td>81.63</td>\n",
              "      <td>65.38</td>\n",
              "      <td>176.52</td>\n",
              "    </tr>\n",
              "    <tr>\n",
              "      <th>1</th>\n",
              "      <td>136.07</td>\n",
              "      <td>73.32</td>\n",
              "      <td>13.65</td>\n",
              "      <td>168.73</td>\n",
              "      <td>97.00</td>\n",
              "      <td>66.23</td>\n",
              "      <td>34.63</td>\n",
              "      <td>78.92</td>\n",
              "      <td>65.63</td>\n",
              "      <td>179.15</td>\n",
              "    </tr>\n",
              "    <tr>\n",
              "      <th>2</th>\n",
              "      <td>133.76</td>\n",
              "      <td>72.89</td>\n",
              "      <td>13.68</td>\n",
              "      <td>168.41</td>\n",
              "      <td>95.21</td>\n",
              "      <td>64.97</td>\n",
              "      <td>34.23</td>\n",
              "      <td>77.96</td>\n",
              "      <td>65.30</td>\n",
              "      <td>178.77</td>\n",
              "    </tr>\n",
              "    <tr>\n",
              "      <th>3</th>\n",
              "      <td>133.06</td>\n",
              "      <td>72.93</td>\n",
              "      <td>13.76</td>\n",
              "      <td>167.96</td>\n",
              "      <td>95.89</td>\n",
              "      <td>65.41</td>\n",
              "      <td>34.58</td>\n",
              "      <td>76.32</td>\n",
              "      <td>65.68</td>\n",
              "      <td>180.30</td>\n",
              "    </tr>\n",
              "    <tr>\n",
              "      <th>4</th>\n",
              "      <td>132.43</td>\n",
              "      <td>74.30</td>\n",
              "      <td>13.75</td>\n",
              "      <td>167.75</td>\n",
              "      <td>95.64</td>\n",
              "      <td>64.92</td>\n",
              "      <td>34.71</td>\n",
              "      <td>76.91</td>\n",
              "      <td>65.63</td>\n",
              "      <td>183.91</td>\n",
              "    </tr>\n",
              "    <tr>\n",
              "      <th>...</th>\n",
              "      <td>...</td>\n",
              "      <td>...</td>\n",
              "      <td>...</td>\n",
              "      <td>...</td>\n",
              "      <td>...</td>\n",
              "      <td>...</td>\n",
              "      <td>...</td>\n",
              "      <td>...</td>\n",
              "      <td>...</td>\n",
              "      <td>...</td>\n",
              "    </tr>\n",
              "    <tr>\n",
              "      <th>247</th>\n",
              "      <td>138.33</td>\n",
              "      <td>81.28</td>\n",
              "      <td>14.34</td>\n",
              "      <td>156.95</td>\n",
              "      <td>91.06</td>\n",
              "      <td>75.39</td>\n",
              "      <td>38.22</td>\n",
              "      <td>90.50</td>\n",
              "      <td>85.85</td>\n",
              "      <td>129.64</td>\n",
              "    </tr>\n",
              "    <tr>\n",
              "      <th>248</th>\n",
              "      <td>136.04</td>\n",
              "      <td>81.59</td>\n",
              "      <td>14.24</td>\n",
              "      <td>157.75</td>\n",
              "      <td>90.31</td>\n",
              "      <td>75.34</td>\n",
              "      <td>38.21</td>\n",
              "      <td>90.26</td>\n",
              "      <td>85.94</td>\n",
              "      <td>135.38</td>\n",
              "    </tr>\n",
              "    <tr>\n",
              "      <th>249</th>\n",
              "      <td>136.85</td>\n",
              "      <td>81.61</td>\n",
              "      <td>14.17</td>\n",
              "      <td>156.86</td>\n",
              "      <td>90.32</td>\n",
              "      <td>75.23</td>\n",
              "      <td>37.70</td>\n",
              "      <td>90.12</td>\n",
              "      <td>85.69</td>\n",
              "      <td>137.55</td>\n",
              "    </tr>\n",
              "    <tr>\n",
              "      <th>250</th>\n",
              "      <td>132.30</td>\n",
              "      <td>80.66</td>\n",
              "      <td>13.68</td>\n",
              "      <td>156.64</td>\n",
              "      <td>90.38</td>\n",
              "      <td>74.81</td>\n",
              "      <td>37.74</td>\n",
              "      <td>87.63</td>\n",
              "      <td>84.56</td>\n",
              "      <td>135.26</td>\n",
              "    </tr>\n",
              "    <tr>\n",
              "      <th>251</th>\n",
              "      <td>132.93</td>\n",
              "      <td>80.40</td>\n",
              "      <td>13.43</td>\n",
              "      <td>156.65</td>\n",
              "      <td>90.38</td>\n",
              "      <td>74.61</td>\n",
              "      <td>37.50</td>\n",
              "      <td>88.29</td>\n",
              "      <td>84.29</td>\n",
              "      <td>134.02</td>\n",
              "    </tr>\n",
              "  </tbody>\n",
              "</table>\n",
              "<p>252 rows × 10 columns</p>\n",
              "</div>\n",
              "      <button class=\"colab-df-convert\" onclick=\"convertToInteractive('df-8d054a21-2bab-40c7-9a98-9be75b2c8dfd')\"\n",
              "              title=\"Convert this dataframe to an interactive table.\"\n",
              "              style=\"display:none;\">\n",
              "        \n",
              "  <svg xmlns=\"http://www.w3.org/2000/svg\" height=\"24px\"viewBox=\"0 0 24 24\"\n",
              "       width=\"24px\">\n",
              "    <path d=\"M0 0h24v24H0V0z\" fill=\"none\"/>\n",
              "    <path d=\"M18.56 5.44l.94 2.06.94-2.06 2.06-.94-2.06-.94-.94-2.06-.94 2.06-2.06.94zm-11 1L8.5 8.5l.94-2.06 2.06-.94-2.06-.94L8.5 2.5l-.94 2.06-2.06.94zm10 10l.94 2.06.94-2.06 2.06-.94-2.06-.94-.94-2.06-.94 2.06-2.06.94z\"/><path d=\"M17.41 7.96l-1.37-1.37c-.4-.4-.92-.59-1.43-.59-.52 0-1.04.2-1.43.59L10.3 9.45l-7.72 7.72c-.78.78-.78 2.05 0 2.83L4 21.41c.39.39.9.59 1.41.59.51 0 1.02-.2 1.41-.59l7.78-7.78 2.81-2.81c.8-.78.8-2.07 0-2.86zM5.41 20L4 18.59l7.72-7.72 1.47 1.35L5.41 20z\"/>\n",
              "  </svg>\n",
              "      </button>\n",
              "      \n",
              "  <style>\n",
              "    .colab-df-container {\n",
              "      display:flex;\n",
              "      flex-wrap:wrap;\n",
              "      gap: 12px;\n",
              "    }\n",
              "\n",
              "    .colab-df-convert {\n",
              "      background-color: #E8F0FE;\n",
              "      border: none;\n",
              "      border-radius: 50%;\n",
              "      cursor: pointer;\n",
              "      display: none;\n",
              "      fill: #1967D2;\n",
              "      height: 32px;\n",
              "      padding: 0 0 0 0;\n",
              "      width: 32px;\n",
              "    }\n",
              "\n",
              "    .colab-df-convert:hover {\n",
              "      background-color: #E2EBFA;\n",
              "      box-shadow: 0px 1px 2px rgba(60, 64, 67, 0.3), 0px 1px 3px 1px rgba(60, 64, 67, 0.15);\n",
              "      fill: #174EA6;\n",
              "    }\n",
              "\n",
              "    [theme=dark] .colab-df-convert {\n",
              "      background-color: #3B4455;\n",
              "      fill: #D2E3FC;\n",
              "    }\n",
              "\n",
              "    [theme=dark] .colab-df-convert:hover {\n",
              "      background-color: #434B5C;\n",
              "      box-shadow: 0px 1px 3px 1px rgba(0, 0, 0, 0.15);\n",
              "      filter: drop-shadow(0px 1px 2px rgba(0, 0, 0, 0.3));\n",
              "      fill: #FFFFFF;\n",
              "    }\n",
              "  </style>\n",
              "\n",
              "      <script>\n",
              "        const buttonEl =\n",
              "          document.querySelector('#df-8d054a21-2bab-40c7-9a98-9be75b2c8dfd button.colab-df-convert');\n",
              "        buttonEl.style.display =\n",
              "          google.colab.kernel.accessAllowed ? 'block' : 'none';\n",
              "\n",
              "        async function convertToInteractive(key) {\n",
              "          const element = document.querySelector('#df-8d054a21-2bab-40c7-9a98-9be75b2c8dfd');\n",
              "          const dataTable =\n",
              "            await google.colab.kernel.invokeFunction('convertToInteractive',\n",
              "                                                     [key], {});\n",
              "          if (!dataTable) return;\n",
              "\n",
              "          const docLinkHtml = 'Like what you see? Visit the ' +\n",
              "            '<a target=\"_blank\" href=https://colab.research.google.com/notebooks/data_table.ipynb>data table notebook</a>'\n",
              "            + ' to learn more about interactive tables.';\n",
              "          element.innerHTML = '';\n",
              "          dataTable['output_type'] = 'display_data';\n",
              "          await google.colab.output.renderOutput(dataTable, element);\n",
              "          const docLink = document.createElement('div');\n",
              "          docLink.innerHTML = docLinkHtml;\n",
              "          element.appendChild(docLink);\n",
              "        }\n",
              "      </script>\n",
              "    </div>\n",
              "  </div>\n",
              "  "
            ]
          },
          "metadata": {},
          "execution_count": 64
        }
      ]
    },
    {
      "cell_type": "markdown",
      "source": [
        "**correlation**"
      ],
      "metadata": {
        "id": "DgvBPra_qa9g"
      }
    },
    {
      "cell_type": "markdown",
      "source": [
        "\n",
        "\n",
        "*  Correlation is a statistical measure that indicates to which degree two random variables are linearly dependant on each other.\n",
        "*  Correlation is a real value that lies between -1 and +1.\n",
        "\n"
      ],
      "metadata": {
        "id": "zz0FH6-eqpB8"
      }
    },
    {
      "cell_type": "code",
      "source": [
        "#compute the correlation between the different stocks\n",
        "df.corr()"
      ],
      "metadata": {
        "colab": {
          "base_uri": "https://localhost:8080/",
          "height": 363
        },
        "id": "k57QbIEF8U-I",
        "outputId": "dac919c2-196a-4259-9098-c2c415912d4f"
      },
      "execution_count": null,
      "outputs": [
        {
          "output_type": "execute_result",
          "data": {
            "text/plain": [
              "          ALXN       WMT      NWSA      COST       DPS        WM       EXC  \\\n",
              "ALXN  1.000000 -0.266310  0.064292 -0.271585 -0.082881 -0.120838  0.061824   \n",
              "WMT  -0.266310  1.000000  0.531774  0.289259  0.188327  0.513254  0.495733   \n",
              "NWSA  0.064292  0.531774  1.000000 -0.013578  0.219278 -0.075927  0.261357   \n",
              "COST -0.271585  0.289259 -0.013578  1.000000  0.633653  0.521981  0.450806   \n",
              "DPS  -0.082881  0.188327  0.219278  0.633653  1.000000  0.389828  0.592808   \n",
              "WM   -0.120838  0.513254 -0.075927  0.521981  0.389828  1.000000  0.750236   \n",
              "EXC   0.061824  0.495733  0.261357  0.450806  0.592808  0.750236  1.000000   \n",
              "CRM  -0.186857  0.737272  0.400569  0.504713  0.420981  0.730859  0.664436   \n",
              "AXP  -0.020302  0.480816 -0.015573  0.440727  0.316891  0.961990  0.766685   \n",
              "PXD  -0.001845 -0.761545 -0.414249  0.053778  0.071514 -0.440222 -0.455937   \n",
              "\n",
              "           CRM       AXP       PXD  \n",
              "ALXN -0.186857 -0.020302 -0.001845  \n",
              "WMT   0.737272  0.480816 -0.761545  \n",
              "NWSA  0.400569 -0.015573 -0.414249  \n",
              "COST  0.504713  0.440727  0.053778  \n",
              "DPS   0.420981  0.316891  0.071514  \n",
              "WM    0.730859  0.961990 -0.440222  \n",
              "EXC   0.664436  0.766685 -0.455937  \n",
              "CRM   1.000000  0.749588 -0.626035  \n",
              "AXP   0.749588  1.000000 -0.496928  \n",
              "PXD  -0.626035 -0.496928  1.000000  "
            ],
            "text/html": [
              "\n",
              "  <div id=\"df-f963e7a1-bb88-4a4d-8bb0-bcdb7b7bf486\">\n",
              "    <div class=\"colab-df-container\">\n",
              "      <div>\n",
              "<style scoped>\n",
              "    .dataframe tbody tr th:only-of-type {\n",
              "        vertical-align: middle;\n",
              "    }\n",
              "\n",
              "    .dataframe tbody tr th {\n",
              "        vertical-align: top;\n",
              "    }\n",
              "\n",
              "    .dataframe thead th {\n",
              "        text-align: right;\n",
              "    }\n",
              "</style>\n",
              "<table border=\"1\" class=\"dataframe\">\n",
              "  <thead>\n",
              "    <tr style=\"text-align: right;\">\n",
              "      <th></th>\n",
              "      <th>ALXN</th>\n",
              "      <th>WMT</th>\n",
              "      <th>NWSA</th>\n",
              "      <th>COST</th>\n",
              "      <th>DPS</th>\n",
              "      <th>WM</th>\n",
              "      <th>EXC</th>\n",
              "      <th>CRM</th>\n",
              "      <th>AXP</th>\n",
              "      <th>PXD</th>\n",
              "    </tr>\n",
              "  </thead>\n",
              "  <tbody>\n",
              "    <tr>\n",
              "      <th>ALXN</th>\n",
              "      <td>1.000000</td>\n",
              "      <td>-0.266310</td>\n",
              "      <td>0.064292</td>\n",
              "      <td>-0.271585</td>\n",
              "      <td>-0.082881</td>\n",
              "      <td>-0.120838</td>\n",
              "      <td>0.061824</td>\n",
              "      <td>-0.186857</td>\n",
              "      <td>-0.020302</td>\n",
              "      <td>-0.001845</td>\n",
              "    </tr>\n",
              "    <tr>\n",
              "      <th>WMT</th>\n",
              "      <td>-0.266310</td>\n",
              "      <td>1.000000</td>\n",
              "      <td>0.531774</td>\n",
              "      <td>0.289259</td>\n",
              "      <td>0.188327</td>\n",
              "      <td>0.513254</td>\n",
              "      <td>0.495733</td>\n",
              "      <td>0.737272</td>\n",
              "      <td>0.480816</td>\n",
              "      <td>-0.761545</td>\n",
              "    </tr>\n",
              "    <tr>\n",
              "      <th>NWSA</th>\n",
              "      <td>0.064292</td>\n",
              "      <td>0.531774</td>\n",
              "      <td>1.000000</td>\n",
              "      <td>-0.013578</td>\n",
              "      <td>0.219278</td>\n",
              "      <td>-0.075927</td>\n",
              "      <td>0.261357</td>\n",
              "      <td>0.400569</td>\n",
              "      <td>-0.015573</td>\n",
              "      <td>-0.414249</td>\n",
              "    </tr>\n",
              "    <tr>\n",
              "      <th>COST</th>\n",
              "      <td>-0.271585</td>\n",
              "      <td>0.289259</td>\n",
              "      <td>-0.013578</td>\n",
              "      <td>1.000000</td>\n",
              "      <td>0.633653</td>\n",
              "      <td>0.521981</td>\n",
              "      <td>0.450806</td>\n",
              "      <td>0.504713</td>\n",
              "      <td>0.440727</td>\n",
              "      <td>0.053778</td>\n",
              "    </tr>\n",
              "    <tr>\n",
              "      <th>DPS</th>\n",
              "      <td>-0.082881</td>\n",
              "      <td>0.188327</td>\n",
              "      <td>0.219278</td>\n",
              "      <td>0.633653</td>\n",
              "      <td>1.000000</td>\n",
              "      <td>0.389828</td>\n",
              "      <td>0.592808</td>\n",
              "      <td>0.420981</td>\n",
              "      <td>0.316891</td>\n",
              "      <td>0.071514</td>\n",
              "    </tr>\n",
              "    <tr>\n",
              "      <th>WM</th>\n",
              "      <td>-0.120838</td>\n",
              "      <td>0.513254</td>\n",
              "      <td>-0.075927</td>\n",
              "      <td>0.521981</td>\n",
              "      <td>0.389828</td>\n",
              "      <td>1.000000</td>\n",
              "      <td>0.750236</td>\n",
              "      <td>0.730859</td>\n",
              "      <td>0.961990</td>\n",
              "      <td>-0.440222</td>\n",
              "    </tr>\n",
              "    <tr>\n",
              "      <th>EXC</th>\n",
              "      <td>0.061824</td>\n",
              "      <td>0.495733</td>\n",
              "      <td>0.261357</td>\n",
              "      <td>0.450806</td>\n",
              "      <td>0.592808</td>\n",
              "      <td>0.750236</td>\n",
              "      <td>1.000000</td>\n",
              "      <td>0.664436</td>\n",
              "      <td>0.766685</td>\n",
              "      <td>-0.455937</td>\n",
              "    </tr>\n",
              "    <tr>\n",
              "      <th>CRM</th>\n",
              "      <td>-0.186857</td>\n",
              "      <td>0.737272</td>\n",
              "      <td>0.400569</td>\n",
              "      <td>0.504713</td>\n",
              "      <td>0.420981</td>\n",
              "      <td>0.730859</td>\n",
              "      <td>0.664436</td>\n",
              "      <td>1.000000</td>\n",
              "      <td>0.749588</td>\n",
              "      <td>-0.626035</td>\n",
              "    </tr>\n",
              "    <tr>\n",
              "      <th>AXP</th>\n",
              "      <td>-0.020302</td>\n",
              "      <td>0.480816</td>\n",
              "      <td>-0.015573</td>\n",
              "      <td>0.440727</td>\n",
              "      <td>0.316891</td>\n",
              "      <td>0.961990</td>\n",
              "      <td>0.766685</td>\n",
              "      <td>0.749588</td>\n",
              "      <td>1.000000</td>\n",
              "      <td>-0.496928</td>\n",
              "    </tr>\n",
              "    <tr>\n",
              "      <th>PXD</th>\n",
              "      <td>-0.001845</td>\n",
              "      <td>-0.761545</td>\n",
              "      <td>-0.414249</td>\n",
              "      <td>0.053778</td>\n",
              "      <td>0.071514</td>\n",
              "      <td>-0.440222</td>\n",
              "      <td>-0.455937</td>\n",
              "      <td>-0.626035</td>\n",
              "      <td>-0.496928</td>\n",
              "      <td>1.000000</td>\n",
              "    </tr>\n",
              "  </tbody>\n",
              "</table>\n",
              "</div>\n",
              "      <button class=\"colab-df-convert\" onclick=\"convertToInteractive('df-f963e7a1-bb88-4a4d-8bb0-bcdb7b7bf486')\"\n",
              "              title=\"Convert this dataframe to an interactive table.\"\n",
              "              style=\"display:none;\">\n",
              "        \n",
              "  <svg xmlns=\"http://www.w3.org/2000/svg\" height=\"24px\"viewBox=\"0 0 24 24\"\n",
              "       width=\"24px\">\n",
              "    <path d=\"M0 0h24v24H0V0z\" fill=\"none\"/>\n",
              "    <path d=\"M18.56 5.44l.94 2.06.94-2.06 2.06-.94-2.06-.94-.94-2.06-.94 2.06-2.06.94zm-11 1L8.5 8.5l.94-2.06 2.06-.94-2.06-.94L8.5 2.5l-.94 2.06-2.06.94zm10 10l.94 2.06.94-2.06 2.06-.94-2.06-.94-.94-2.06-.94 2.06-2.06.94z\"/><path d=\"M17.41 7.96l-1.37-1.37c-.4-.4-.92-.59-1.43-.59-.52 0-1.04.2-1.43.59L10.3 9.45l-7.72 7.72c-.78.78-.78 2.05 0 2.83L4 21.41c.39.39.9.59 1.41.59.51 0 1.02-.2 1.41-.59l7.78-7.78 2.81-2.81c.8-.78.8-2.07 0-2.86zM5.41 20L4 18.59l7.72-7.72 1.47 1.35L5.41 20z\"/>\n",
              "  </svg>\n",
              "      </button>\n",
              "      \n",
              "  <style>\n",
              "    .colab-df-container {\n",
              "      display:flex;\n",
              "      flex-wrap:wrap;\n",
              "      gap: 12px;\n",
              "    }\n",
              "\n",
              "    .colab-df-convert {\n",
              "      background-color: #E8F0FE;\n",
              "      border: none;\n",
              "      border-radius: 50%;\n",
              "      cursor: pointer;\n",
              "      display: none;\n",
              "      fill: #1967D2;\n",
              "      height: 32px;\n",
              "      padding: 0 0 0 0;\n",
              "      width: 32px;\n",
              "    }\n",
              "\n",
              "    .colab-df-convert:hover {\n",
              "      background-color: #E2EBFA;\n",
              "      box-shadow: 0px 1px 2px rgba(60, 64, 67, 0.3), 0px 1px 3px 1px rgba(60, 64, 67, 0.15);\n",
              "      fill: #174EA6;\n",
              "    }\n",
              "\n",
              "    [theme=dark] .colab-df-convert {\n",
              "      background-color: #3B4455;\n",
              "      fill: #D2E3FC;\n",
              "    }\n",
              "\n",
              "    [theme=dark] .colab-df-convert:hover {\n",
              "      background-color: #434B5C;\n",
              "      box-shadow: 0px 1px 3px 1px rgba(0, 0, 0, 0.15);\n",
              "      filter: drop-shadow(0px 1px 2px rgba(0, 0, 0, 0.3));\n",
              "      fill: #FFFFFF;\n",
              "    }\n",
              "  </style>\n",
              "\n",
              "      <script>\n",
              "        const buttonEl =\n",
              "          document.querySelector('#df-f963e7a1-bb88-4a4d-8bb0-bcdb7b7bf486 button.colab-df-convert');\n",
              "        buttonEl.style.display =\n",
              "          google.colab.kernel.accessAllowed ? 'block' : 'none';\n",
              "\n",
              "        async function convertToInteractive(key) {\n",
              "          const element = document.querySelector('#df-f963e7a1-bb88-4a4d-8bb0-bcdb7b7bf486');\n",
              "          const dataTable =\n",
              "            await google.colab.kernel.invokeFunction('convertToInteractive',\n",
              "                                                     [key], {});\n",
              "          if (!dataTable) return;\n",
              "\n",
              "          const docLinkHtml = 'Like what you see? Visit the ' +\n",
              "            '<a target=\"_blank\" href=https://colab.research.google.com/notebooks/data_table.ipynb>data table notebook</a>'\n",
              "            + ' to learn more about interactive tables.';\n",
              "          element.innerHTML = '';\n",
              "          dataTable['output_type'] = 'display_data';\n",
              "          await google.colab.output.renderOutput(dataTable, element);\n",
              "          const docLink = document.createElement('div');\n",
              "          docLink.innerHTML = docLinkHtml;\n",
              "          element.appendChild(docLink);\n",
              "        }\n",
              "      </script>\n",
              "    </div>\n",
              "  </div>\n",
              "  "
            ]
          },
          "metadata": {},
          "execution_count": 65
        }
      ]
    },
    {
      "cell_type": "code",
      "source": [
        "# plot the heatmap\n",
        "sns.heatmap(df.corr(),\n",
        "        xticklabels=df.corr().columns,\n",
        "        yticklabels=df.corr().columns)\n",
        "\n",
        "plt.show()"
      ],
      "metadata": {
        "colab": {
          "base_uri": "https://localhost:8080/",
          "height": 290
        },
        "id": "j2noZhD_GhVl",
        "outputId": "77626f6c-0f33-4d7f-a915-e95e5ed4b106"
      },
      "execution_count": null,
      "outputs": [
        {
          "output_type": "display_data",
          "data": {
            "text/plain": [
              "<Figure size 432x288 with 2 Axes>"
            ],
            "image/png": "[encoded data removed]"
          },
          "metadata": {
            "needs_background": "light"
          }
        }
      ]
    },
    {
      "cell_type": "markdown",
      "source": [
        "WM & AXP are the most correlated variables."
      ],
      "metadata": {
        "id": "Opxy67H2HSuT"
      }
    },
    {
      "cell_type": "code",
      "source": [
        "#scatter plot of WM & AXP\n",
        "\n",
        "plt.scatter(df.WM,df.AXP)\n",
        "plt.xlabel('WM')\n",
        "plt.ylabel('AXP')\n",
        "plt.title('WM VS AXP')\n",
        "plt.show()\n",
        "plt.show()"
      ],
      "metadata": {
        "id": "MbnUCYvNM-65",
        "colab": {
          "base_uri": "https://localhost:8080/",
          "height": 295
        },
        "outputId": "ce2ec5ad-b28f-49f7-9f14-f10c5d090f78"
      },
      "execution_count": null,
      "outputs": [
        {
          "output_type": "display_data",
          "data": {
            "text/plain": [
              "<Figure size 432x288 with 1 Axes>"
            ],
            "image/png": "[encoded data removed]"
          },
          "metadata": {
            "needs_background": "light"
          }
        }
      ]
    },
    {
      "cell_type": "markdown",
      "source": [
        "The visualization shows a clear linear relationship between AXP and WM. This explains the high correlation value."
      ],
      "metadata": {
        "id": "M4_o2KkuH1vS"
      }
    },
    {
      "cell_type": "markdown",
      "source": [
        "# Stocks' returns"
      ],
      "metadata": {
        "id": "d6TXLy5_VmM8"
      }
    },
    {
      "cell_type": "code",
      "source": [
        "#computation of logarithmic returns\n",
        "\n",
        "#matrix of stocks' values\n",
        "S=data.iloc[:,1:]\n",
        "log_return=np.log(S/S.shift(1))\n",
        "log_return"
      ],
      "metadata": {
        "id": "QDLFmvutHx4y",
        "colab": {
          "base_uri": "https://localhost:8080/",
          "height": 488
        },
        "outputId": "bf48dabf-097b-4f27-9347-394a4dd3873e"
      },
      "execution_count": null,
      "outputs": [
        {
          "output_type": "execute_result",
          "data": {
            "text/plain": [
              "         ALXN       WMT      NWSA      COST       DPS        WM       EXC  \\\n",
              "0         NaN       NaN       NaN       NaN       NaN       NaN       NaN   \n",
              "1    0.019518 -0.007744  0.010309 -0.001836 -0.002368 -0.006622 -0.008912   \n",
              "2   -0.017122 -0.005882  0.002195 -0.001898 -0.018626 -0.019208 -0.011618   \n",
              "3   -0.005247  0.000549  0.005831 -0.002676  0.007117  0.006750  0.010173   \n",
              "4   -0.004746  0.018611 -0.000727 -0.001251 -0.002611 -0.007519  0.003752   \n",
              "..        ...       ...       ...       ...       ...       ...       ...   \n",
              "247  0.012292  0.009891  0.015461  0.003255  0.004402 -0.001723  0.001309   \n",
              "248 -0.016693  0.003807 -0.006998  0.005084 -0.008270 -0.000663 -0.000262   \n",
              "249  0.005936  0.000245 -0.004928 -0.005658  0.000111 -0.001461 -0.013437   \n",
              "250 -0.033813 -0.011709 -0.035192 -0.001404  0.000664 -0.005599  0.001060   \n",
              "251  0.004751 -0.003229 -0.018444  0.000064  0.000000 -0.002677 -0.006380   \n",
              "\n",
              "          CRM       AXP       PXD  ...       MAA        LH      NAVI  \\\n",
              "0         NaN       NaN       NaN  ...       NaN       NaN       NaN   \n",
              "1   -0.033762  0.003817  0.014789  ... -0.050186 -0.002001  0.024168   \n",
              "2   -0.012239 -0.005041 -0.002123  ... -0.032855 -0.006316  0.006491   \n",
              "3   -0.021261  0.005802  0.008522  ...  0.010686 -0.004691  0.044295   \n",
              "4    0.007701 -0.000762  0.019824  ... -0.007606  0.003394  0.001375   \n",
              "..        ...       ...       ...  ...       ...       ...       ...   \n",
              "247  0.000553 -0.001397 -0.043029  ...  0.002503 -0.002777  0.019432   \n",
              "248 -0.002655  0.001048  0.043324  ...  0.003263 -0.004942 -0.004823   \n",
              "249 -0.001552 -0.002913  0.015902  ...  0.006971  0.002031 -0.023054   \n",
              "250 -0.028019 -0.013275 -0.016789  ... -0.005821 -0.008595 -0.032319   \n",
              "251  0.007503 -0.003198 -0.009210  ... -0.004412 -0.001216 -0.001461   \n",
              "\n",
              "          TSN       HCN       PNC       UAL       WRK       AMP       PKI  \n",
              "0         NaN       NaN       NaN       NaN       NaN       NaN       NaN  \n",
              "1   -0.003722 -0.007815  0.007384  0.019136 -0.010625  0.012991  0.003669  \n",
              "2   -0.011250 -0.013988  0.000467 -0.000417  0.019357 -0.003206  0.001829  \n",
              "3    0.001749  0.004295  0.001283  0.003951  0.013946  0.007019  0.003649  \n",
              "4    0.008701 -0.001430 -0.003737 -0.012111  0.001757 -0.000514  0.000910  \n",
              "..        ...       ...       ...       ...       ...       ...       ...  \n",
              "247  0.055314  0.001252 -0.008052 -0.007575 -0.002970 -0.003727  0.023216  \n",
              "248 -0.028504  0.000278  0.009489 -0.008812 -0.010552  0.010200 -0.027268  \n",
              "249 -0.005552 -0.009778 -0.004771 -0.010827 -0.007453 -0.005729  0.003430  \n",
              "250  0.003242 -0.009024 -0.021019 -0.027515 -0.016342 -0.028520 -0.020441  \n",
              "251  0.010428 -0.002837 -0.007314  0.009610  0.006857 -0.002995  0.015448  \n",
              "\n",
              "[252 rows x 504 columns]"
            ],
            "text/html": [
              "\n",
              "  <div id=\"df-8987e3bf-d64d-42b7-be4b-4ce1c7c872df\">\n",
              "    <div class=\"colab-df-container\">\n",
              "      <div>\n",
              "<style scoped>\n",
              "    .dataframe tbody tr th:only-of-type {\n",
              "        vertical-align: middle;\n",
              "    }\n",
              "\n",
              "    .dataframe tbody tr th {\n",
              "        vertical-align: top;\n",
              "    }\n",
              "\n",
              "    .dataframe thead th {\n",
              "        text-align: right;\n",
              "    }\n",
              "</style>\n",
              "<table border=\"1\" class=\"dataframe\">\n",
              "  <thead>\n",
              "    <tr style=\"text-align: right;\">\n",
              "      <th></th>\n",
              "      <th>ALXN</th>\n",
              "      <th>WMT</th>\n",
              "      <th>NWSA</th>\n",
              "      <th>COST</th>\n",
              "      <th>DPS</th>\n",
              "      <th>WM</th>\n",
              "      <th>EXC</th>\n",
              "      <th>CRM</th>\n",
              "      <th>AXP</th>\n",
              "      <th>PXD</th>\n",
              "      <th>...</th>\n",
              "      <th>MAA</th>\n",
              "      <th>LH</th>\n",
              "      <th>NAVI</th>\n",
              "      <th>TSN</th>\n",
              "      <th>HCN</th>\n",
              "      <th>PNC</th>\n",
              "      <th>UAL</th>\n",
              "      <th>WRK</th>\n",
              "      <th>AMP</th>\n",
              "      <th>PKI</th>\n",
              "    </tr>\n",
              "  </thead>\n",
              "  <tbody>\n",
              "    <tr>\n",
              "      <th>0</th>\n",
              "      <td>NaN</td>\n",
              "      <td>NaN</td>\n",
              "      <td>NaN</td>\n",
              "      <td>NaN</td>\n",
              "      <td>NaN</td>\n",
              "      <td>NaN</td>\n",
              "      <td>NaN</td>\n",
              "      <td>NaN</td>\n",
              "      <td>NaN</td>\n",
              "      <td>NaN</td>\n",
              "      <td>...</td>\n",
              "      <td>NaN</td>\n",
              "      <td>NaN</td>\n",
              "      <td>NaN</td>\n",
              "      <td>NaN</td>\n",
              "      <td>NaN</td>\n",
              "      <td>NaN</td>\n",
              "      <td>NaN</td>\n",
              "      <td>NaN</td>\n",
              "      <td>NaN</td>\n",
              "      <td>NaN</td>\n",
              "    </tr>\n",
              "    <tr>\n",
              "      <th>1</th>\n",
              "      <td>0.019518</td>\n",
              "      <td>-0.007744</td>\n",
              "      <td>0.010309</td>\n",
              "      <td>-0.001836</td>\n",
              "      <td>-0.002368</td>\n",
              "      <td>-0.006622</td>\n",
              "      <td>-0.008912</td>\n",
              "      <td>-0.033762</td>\n",
              "      <td>0.003817</td>\n",
              "      <td>0.014789</td>\n",
              "      <td>...</td>\n",
              "      <td>-0.050186</td>\n",
              "      <td>-0.002001</td>\n",
              "      <td>0.024168</td>\n",
              "      <td>-0.003722</td>\n",
              "      <td>-0.007815</td>\n",
              "      <td>0.007384</td>\n",
              "      <td>0.019136</td>\n",
              "      <td>-0.010625</td>\n",
              "      <td>0.012991</td>\n",
              "      <td>0.003669</td>\n",
              "    </tr>\n",
              "    <tr>\n",
              "      <th>2</th>\n",
              "      <td>-0.017122</td>\n",
              "      <td>-0.005882</td>\n",
              "      <td>0.002195</td>\n",
              "      <td>-0.001898</td>\n",
              "      <td>-0.018626</td>\n",
              "      <td>-0.019208</td>\n",
              "      <td>-0.011618</td>\n",
              "      <td>-0.012239</td>\n",
              "      <td>-0.005041</td>\n",
              "      <td>-0.002123</td>\n",
              "      <td>...</td>\n",
              "      <td>-0.032855</td>\n",
              "      <td>-0.006316</td>\n",
              "      <td>0.006491</td>\n",
              "      <td>-0.011250</td>\n",
              "      <td>-0.013988</td>\n",
              "      <td>0.000467</td>\n",
              "      <td>-0.000417</td>\n",
              "      <td>0.019357</td>\n",
              "      <td>-0.003206</td>\n",
              "      <td>0.001829</td>\n",
              "    </tr>\n",
              "    <tr>\n",
              "      <th>3</th>\n",
              "      <td>-0.005247</td>\n",
              "      <td>0.000549</td>\n",
              "      <td>0.005831</td>\n",
              "      <td>-0.002676</td>\n",
              "      <td>0.007117</td>\n",
              "      <td>0.006750</td>\n",
              "      <td>0.010173</td>\n",
              "      <td>-0.021261</td>\n",
              "      <td>0.005802</td>\n",
              "      <td>0.008522</td>\n",
              "      <td>...</td>\n",
              "      <td>0.010686</td>\n",
              "      <td>-0.004691</td>\n",
              "      <td>0.044295</td>\n",
              "      <td>0.001749</td>\n",
              "      <td>0.004295</td>\n",
              "      <td>0.001283</td>\n",
              "      <td>0.003951</td>\n",
              "      <td>0.013946</td>\n",
              "      <td>0.007019</td>\n",
              "      <td>0.003649</td>\n",
              "    </tr>\n",
              "    <tr>\n",
              "      <th>4</th>\n",
              "      <td>-0.004746</td>\n",
              "      <td>0.018611</td>\n",
              "      <td>-0.000727</td>\n",
              "      <td>-0.001251</td>\n",
              "      <td>-0.002611</td>\n",
              "      <td>-0.007519</td>\n",
              "      <td>0.003752</td>\n",
              "      <td>0.007701</td>\n",
              "      <td>-0.000762</td>\n",
              "      <td>0.019824</td>\n",
              "      <td>...</td>\n",
              "      <td>-0.007606</td>\n",
              "      <td>0.003394</td>\n",
              "      <td>0.001375</td>\n",
              "      <td>0.008701</td>\n",
              "      <td>-0.001430</td>\n",
              "      <td>-0.003737</td>\n",
              "      <td>-0.012111</td>\n",
              "      <td>0.001757</td>\n",
              "      <td>-0.000514</td>\n",
              "      <td>0.000910</td>\n",
              "    </tr>\n",
              "    <tr>\n",
              "      <th>...</th>\n",
              "      <td>...</td>\n",
              "      <td>...</td>\n",
              "      <td>...</td>\n",
              "      <td>...</td>\n",
              "      <td>...</td>\n",
              "      <td>...</td>\n",
              "      <td>...</td>\n",
              "      <td>...</td>\n",
              "      <td>...</td>\n",
              "      <td>...</td>\n",
              "      <td>...</td>\n",
              "      <td>...</td>\n",
              "      <td>...</td>\n",
              "      <td>...</td>\n",
              "      <td>...</td>\n",
              "      <td>...</td>\n",
              "      <td>...</td>\n",
              "      <td>...</td>\n",
              "      <td>...</td>\n",
              "      <td>...</td>\n",
              "      <td>...</td>\n",
              "    </tr>\n",
              "    <tr>\n",
              "      <th>247</th>\n",
              "      <td>0.012292</td>\n",
              "      <td>0.009891</td>\n",
              "      <td>0.015461</td>\n",
              "      <td>0.003255</td>\n",
              "      <td>0.004402</td>\n",
              "      <td>-0.001723</td>\n",
              "      <td>0.001309</td>\n",
              "      <td>0.000553</td>\n",
              "      <td>-0.001397</td>\n",
              "      <td>-0.043029</td>\n",
              "      <td>...</td>\n",
              "      <td>0.002503</td>\n",
              "      <td>-0.002777</td>\n",
              "      <td>0.019432</td>\n",
              "      <td>0.055314</td>\n",
              "      <td>0.001252</td>\n",
              "      <td>-0.008052</td>\n",
              "      <td>-0.007575</td>\n",
              "      <td>-0.002970</td>\n",
              "      <td>-0.003727</td>\n",
              "      <td>0.023216</td>\n",
              "    </tr>\n",
              "    <tr>\n",
              "      <th>248</th>\n",
              "      <td>-0.016693</td>\n",
              "      <td>0.003807</td>\n",
              "      <td>-0.006998</td>\n",
              "      <td>0.005084</td>\n",
              "      <td>-0.008270</td>\n",
              "      <td>-0.000663</td>\n",
              "      <td>-0.000262</td>\n",
              "      <td>-0.002655</td>\n",
              "      <td>0.001048</td>\n",
              "      <td>0.043324</td>\n",
              "      <td>...</td>\n",
              "      <td>0.003263</td>\n",
              "      <td>-0.004942</td>\n",
              "      <td>-0.004823</td>\n",
              "      <td>-0.028504</td>\n",
              "      <td>0.000278</td>\n",
              "      <td>0.009489</td>\n",
              "      <td>-0.008812</td>\n",
              "      <td>-0.010552</td>\n",
              "      <td>0.010200</td>\n",
              "      <td>-0.027268</td>\n",
              "    </tr>\n",
              "    <tr>\n",
              "      <th>249</th>\n",
              "      <td>0.005936</td>\n",
              "      <td>0.000245</td>\n",
              "      <td>-0.004928</td>\n",
              "      <td>-0.005658</td>\n",
              "      <td>0.000111</td>\n",
              "      <td>-0.001461</td>\n",
              "      <td>-0.013437</td>\n",
              "      <td>-0.001552</td>\n",
              "      <td>-0.002913</td>\n",
              "      <td>0.015902</td>\n",
              "      <td>...</td>\n",
              "      <td>0.006971</td>\n",
              "      <td>0.002031</td>\n",
              "      <td>-0.023054</td>\n",
              "      <td>-0.005552</td>\n",
              "      <td>-0.009778</td>\n",
              "      <td>-0.004771</td>\n",
              "      <td>-0.010827</td>\n",
              "      <td>-0.007453</td>\n",
              "      <td>-0.005729</td>\n",
              "      <td>0.003430</td>\n",
              "    </tr>\n",
              "    <tr>\n",
              "      <th>250</th>\n",
              "      <td>-0.033813</td>\n",
              "      <td>-0.011709</td>\n",
              "      <td>-0.035192</td>\n",
              "      <td>-0.001404</td>\n",
              "      <td>0.000664</td>\n",
              "      <td>-0.005599</td>\n",
              "      <td>0.001060</td>\n",
              "      <td>-0.028019</td>\n",
              "      <td>-0.013275</td>\n",
              "      <td>-0.016789</td>\n",
              "      <td>...</td>\n",
              "      <td>-0.005821</td>\n",
              "      <td>-0.008595</td>\n",
              "      <td>-0.032319</td>\n",
              "      <td>0.003242</td>\n",
              "      <td>-0.009024</td>\n",
              "      <td>-0.021019</td>\n",
              "      <td>-0.027515</td>\n",
              "      <td>-0.016342</td>\n",
              "      <td>-0.028520</td>\n",
              "      <td>-0.020441</td>\n",
              "    </tr>\n",
              "    <tr>\n",
              "      <th>251</th>\n",
              "      <td>0.004751</td>\n",
              "      <td>-0.003229</td>\n",
              "      <td>-0.018444</td>\n",
              "      <td>0.000064</td>\n",
              "      <td>0.000000</td>\n",
              "      <td>-0.002677</td>\n",
              "      <td>-0.006380</td>\n",
              "      <td>0.007503</td>\n",
              "      <td>-0.003198</td>\n",
              "      <td>-0.009210</td>\n",
              "      <td>...</td>\n",
              "      <td>-0.004412</td>\n",
              "      <td>-0.001216</td>\n",
              "      <td>-0.001461</td>\n",
              "      <td>0.010428</td>\n",
              "      <td>-0.002837</td>\n",
              "      <td>-0.007314</td>\n",
              "      <td>0.009610</td>\n",
              "      <td>0.006857</td>\n",
              "      <td>-0.002995</td>\n",
              "      <td>0.015448</td>\n",
              "    </tr>\n",
              "  </tbody>\n",
              "</table>\n",
              "<p>252 rows × 504 columns</p>\n",
              "</div>\n",
              "      <button class=\"colab-df-convert\" onclick=\"convertToInteractive('df-8987e3bf-d64d-42b7-be4b-4ce1c7c872df')\"\n",
              "              title=\"Convert this dataframe to an interactive table.\"\n",
              "              style=\"display:none;\">\n",
              "        \n",
              "  <svg xmlns=\"http://www.w3.org/2000/svg\" height=\"24px\"viewBox=\"0 0 24 24\"\n",
              "       width=\"24px\">\n",
              "    <path d=\"M0 0h24v24H0V0z\" fill=\"none\"/>\n",
              "    <path d=\"M18.56 5.44l.94 2.06.94-2.06 2.06-.94-2.06-.94-.94-2.06-.94 2.06-2.06.94zm-11 1L8.5 8.5l.94-2.06 2.06-.94-2.06-.94L8.5 2.5l-.94 2.06-2.06.94zm10 10l.94 2.06.94-2.06 2.06-.94-2.06-.94-.94-2.06-.94 2.06-2.06.94z\"/><path d=\"M17.41 7.96l-1.37-1.37c-.4-.4-.92-.59-1.43-.59-.52 0-1.04.2-1.43.59L10.3 9.45l-7.72 7.72c-.78.78-.78 2.05 0 2.83L4 21.41c.39.39.9.59 1.41.59.51 0 1.02-.2 1.41-.59l7.78-7.78 2.81-2.81c.8-.78.8-2.07 0-2.86zM5.41 20L4 18.59l7.72-7.72 1.47 1.35L5.41 20z\"/>\n",
              "  </svg>\n",
              "      </button>\n",
              "      \n",
              "  <style>\n",
              "    .colab-df-container {\n",
              "      display:flex;\n",
              "      flex-wrap:wrap;\n",
              "      gap: 12px;\n",
              "    }\n",
              "\n",
              "    .colab-df-convert {\n",
              "      background-color: #E8F0FE;\n",
              "      border: none;\n",
              "      border-radius: 50%;\n",
              "      cursor: pointer;\n",
              "      display: none;\n",
              "      fill: #1967D2;\n",
              "      height: 32px;\n",
              "      padding: 0 0 0 0;\n",
              "      width: 32px;\n",
              "    }\n",
              "\n",
              "    .colab-df-convert:hover {\n",
              "      background-color: #E2EBFA;\n",
              "      box-shadow: 0px 1px 2px rgba(60, 64, 67, 0.3), 0px 1px 3px 1px rgba(60, 64, 67, 0.15);\n",
              "      fill: #174EA6;\n",
              "    }\n",
              "\n",
              "    [theme=dark] .colab-df-convert {\n",
              "      background-color: #3B4455;\n",
              "      fill: #D2E3FC;\n",
              "    }\n",
              "\n",
              "    [theme=dark] .colab-df-convert:hover {\n",
              "      background-color: #434B5C;\n",
              "      box-shadow: 0px 1px 3px 1px rgba(0, 0, 0, 0.15);\n",
              "      filter: drop-shadow(0px 1px 2px rgba(0, 0, 0, 0.3));\n",
              "      fill: #FFFFFF;\n",
              "    }\n",
              "  </style>\n",
              "\n",
              "      <script>\n",
              "        const buttonEl =\n",
              "          document.querySelector('#df-8987e3bf-d64d-42b7-be4b-4ce1c7c872df button.colab-df-convert');\n",
              "        buttonEl.style.display =\n",
              "          google.colab.kernel.accessAllowed ? 'block' : 'none';\n",
              "\n",
              "        async function convertToInteractive(key) {\n",
              "          const element = document.querySelector('#df-8987e3bf-d64d-42b7-be4b-4ce1c7c872df');\n",
              "          const dataTable =\n",
              "            await google.colab.kernel.invokeFunction('convertToInteractive',\n",
              "                                                     [key], {});\n",
              "          if (!dataTable) return;\n",
              "\n",
              "          const docLinkHtml = 'Like what you see? Visit the ' +\n",
              "            '<a target=\"_blank\" href=https://colab.research.google.com/notebooks/data_table.ipynb>data table notebook</a>'\n",
              "            + ' to learn more about interactive tables.';\n",
              "          element.innerHTML = '';\n",
              "          dataTable['output_type'] = 'display_data';\n",
              "          await google.colab.output.renderOutput(dataTable, element);\n",
              "          const docLink = document.createElement('div');\n",
              "          docLink.innerHTML = docLinkHtml;\n",
              "          element.appendChild(docLink);\n",
              "        }\n",
              "      </script>\n",
              "    </div>\n",
              "  </div>\n",
              "  "
            ]
          },
          "metadata": {},
          "execution_count": 68
        }
      ]
    },
    {
      "cell_type": "markdown",
      "source": [
        "we delete the NaN row"
      ],
      "metadata": {
        "id": "gQunuNjFWv-k"
      }
    },
    {
      "cell_type": "code",
      "source": [
        "\n",
        "log_return=log_return.iloc[1:,:]\n",
        "log_return"
      ],
      "metadata": {
        "colab": {
          "base_uri": "https://localhost:8080/",
          "height": 488
        },
        "id": "nfsjNvv2Wtaj",
        "outputId": "25082892-428e-46cc-b0a6-501fc205b701"
      },
      "execution_count": null,
      "outputs": [
        {
          "output_type": "execute_result",
          "data": {
            "text/plain": [
              "         ALXN       WMT      NWSA      COST       DPS        WM       EXC  \\\n",
              "1    0.019518 -0.007744  0.010309 -0.001836 -0.002368 -0.006622 -0.008912   \n",
              "2   -0.017122 -0.005882  0.002195 -0.001898 -0.018626 -0.019208 -0.011618   \n",
              "3   -0.005247  0.000549  0.005831 -0.002676  0.007117  0.006750  0.010173   \n",
              "4   -0.004746  0.018611 -0.000727 -0.001251 -0.002611 -0.007519  0.003752   \n",
              "5   -0.002192 -0.020258 -0.000728  0.001608 -0.007241  0.000770 -0.009844   \n",
              "..        ...       ...       ...       ...       ...       ...       ...   \n",
              "247  0.012292  0.009891  0.015461  0.003255  0.004402 -0.001723  0.001309   \n",
              "248 -0.016693  0.003807 -0.006998  0.005084 -0.008270 -0.000663 -0.000262   \n",
              "249  0.005936  0.000245 -0.004928 -0.005658  0.000111 -0.001461 -0.013437   \n",
              "250 -0.033813 -0.011709 -0.035192 -0.001404  0.000664 -0.005599  0.001060   \n",
              "251  0.004751 -0.003229 -0.018444  0.000064  0.000000 -0.002677 -0.006380   \n",
              "\n",
              "          CRM       AXP       PXD  ...       MAA        LH      NAVI  \\\n",
              "1   -0.033762  0.003817  0.014789  ... -0.050186 -0.002001  0.024168   \n",
              "2   -0.012239 -0.005041 -0.002123  ... -0.032855 -0.006316  0.006491   \n",
              "3   -0.021261  0.005802  0.008522  ...  0.010686 -0.004691  0.044295   \n",
              "4    0.007701 -0.000762  0.019824  ... -0.007606  0.003394  0.001375   \n",
              "5    0.007384 -0.001525  0.009093  ...  0.002753 -0.004769 -0.028563   \n",
              "..        ...       ...       ...  ...       ...       ...       ...   \n",
              "247  0.000553 -0.001397 -0.043029  ...  0.002503 -0.002777  0.019432   \n",
              "248 -0.002655  0.001048  0.043324  ...  0.003263 -0.004942 -0.004823   \n",
              "249 -0.001552 -0.002913  0.015902  ...  0.006971  0.002031 -0.023054   \n",
              "250 -0.028019 -0.013275 -0.016789  ... -0.005821 -0.008595 -0.032319   \n",
              "251  0.007503 -0.003198 -0.009210  ... -0.004412 -0.001216 -0.001461   \n",
              "\n",
              "          TSN       HCN       PNC       UAL       WRK       AMP       PKI  \n",
              "1   -0.003722 -0.007815  0.007384  0.019136 -0.010625  0.012991  0.003669  \n",
              "2   -0.011250 -0.013988  0.000467 -0.000417  0.019357 -0.003206  0.001829  \n",
              "3    0.001749  0.004295  0.001283  0.003951  0.013946  0.007019  0.003649  \n",
              "4    0.008701 -0.001430 -0.003737 -0.012111  0.001757 -0.000514  0.000910  \n",
              "5   -0.002001 -0.008227 -0.000468 -0.010772 -0.003517 -0.001648  0.006167  \n",
              "..        ...       ...       ...       ...       ...       ...       ...  \n",
              "247  0.055314  0.001252 -0.008052 -0.007575 -0.002970 -0.003727  0.023216  \n",
              "248 -0.028504  0.000278  0.009489 -0.008812 -0.010552  0.010200 -0.027268  \n",
              "249 -0.005552 -0.009778 -0.004771 -0.010827 -0.007453 -0.005729  0.003430  \n",
              "250  0.003242 -0.009024 -0.021019 -0.027515 -0.016342 -0.028520 -0.020441  \n",
              "251  0.010428 -0.002837 -0.007314  0.009610  0.006857 -0.002995  0.015448  \n",
              "\n",
              "[251 rows x 504 columns]"
            ],
            "text/html": [
              "\n",
              "  <div id=\"df-32fd8a20-8a8e-40f0-9531-24956153173e\">\n",
              "    <div class=\"colab-df-container\">\n",
              "      <div>\n",
              "<style scoped>\n",
              "    .dataframe tbody tr th:only-of-type {\n",
              "        vertical-align: middle;\n",
              "    }\n",
              "\n",
              "    .dataframe tbody tr th {\n",
              "        vertical-align: top;\n",
              "    }\n",
              "\n",
              "    .dataframe thead th {\n",
              "        text-align: right;\n",
              "    }\n",
              "</style>\n",
              "<table border=\"1\" class=\"dataframe\">\n",
              "  <thead>\n",
              "    <tr style=\"text-align: right;\">\n",
              "      <th></th>\n",
              "      <th>ALXN</th>\n",
              "      <th>WMT</th>\n",
              "      <th>NWSA</th>\n",
              "      <th>COST</th>\n",
              "      <th>DPS</th>\n",
              "      <th>WM</th>\n",
              "      <th>EXC</th>\n",
              "      <th>CRM</th>\n",
              "      <th>AXP</th>\n",
              "      <th>PXD</th>\n",
              "      <th>...</th>\n",
              "      <th>MAA</th>\n",
              "      <th>LH</th>\n",
              "      <th>NAVI</th>\n",
              "      <th>TSN</th>\n",
              "      <th>HCN</th>\n",
              "      <th>PNC</th>\n",
              "      <th>UAL</th>\n",
              "      <th>WRK</th>\n",
              "      <th>AMP</th>\n",
              "      <th>PKI</th>\n",
              "    </tr>\n",
              "  </thead>\n",
              "  <tbody>\n",
              "    <tr>\n",
              "      <th>1</th>\n",
              "      <td>0.019518</td>\n",
              "      <td>-0.007744</td>\n",
              "      <td>0.010309</td>\n",
              "      <td>-0.001836</td>\n",
              "      <td>-0.002368</td>\n",
              "      <td>-0.006622</td>\n",
              "      <td>-0.008912</td>\n",
              "      <td>-0.033762</td>\n",
              "      <td>0.003817</td>\n",
              "      <td>0.014789</td>\n",
              "      <td>...</td>\n",
              "      <td>-0.050186</td>\n",
              "      <td>-0.002001</td>\n",
              "      <td>0.024168</td>\n",
              "      <td>-0.003722</td>\n",
              "      <td>-0.007815</td>\n",
              "      <td>0.007384</td>\n",
              "      <td>0.019136</td>\n",
              "      <td>-0.010625</td>\n",
              "      <td>0.012991</td>\n",
              "      <td>0.003669</td>\n",
              "    </tr>\n",
              "    <tr>\n",
              "      <th>2</th>\n",
              "      <td>-0.017122</td>\n",
              "      <td>-0.005882</td>\n",
              "      <td>0.002195</td>\n",
              "      <td>-0.001898</td>\n",
              "      <td>-0.018626</td>\n",
              "      <td>-0.019208</td>\n",
              "      <td>-0.011618</td>\n",
              "      <td>-0.012239</td>\n",
              "      <td>-0.005041</td>\n",
              "      <td>-0.002123</td>\n",
              "      <td>...</td>\n",
              "      <td>-0.032855</td>\n",
              "      <td>-0.006316</td>\n",
              "      <td>0.006491</td>\n",
              "      <td>-0.011250</td>\n",
              "      <td>-0.013988</td>\n",
              "      <td>0.000467</td>\n",
              "      <td>-0.000417</td>\n",
              "      <td>0.019357</td>\n",
              "      <td>-0.003206</td>\n",
              "      <td>0.001829</td>\n",
              "    </tr>\n",
              "    <tr>\n",
              "      <th>3</th>\n",
              "      <td>-0.005247</td>\n",
              "      <td>0.000549</td>\n",
              "      <td>0.005831</td>\n",
              "      <td>-0.002676</td>\n",
              "      <td>0.007117</td>\n",
              "      <td>0.006750</td>\n",
              "      <td>0.010173</td>\n",
              "      <td>-0.021261</td>\n",
              "      <td>0.005802</td>\n",
              "      <td>0.008522</td>\n",
              "      <td>...</td>\n",
              "      <td>0.010686</td>\n",
              "      <td>-0.004691</td>\n",
              "      <td>0.044295</td>\n",
              "      <td>0.001749</td>\n",
              "      <td>0.004295</td>\n",
              "      <td>0.001283</td>\n",
              "      <td>0.003951</td>\n",
              "      <td>0.013946</td>\n",
              "      <td>0.007019</td>\n",
              "      <td>0.003649</td>\n",
              "    </tr>\n",
              "    <tr>\n",
              "      <th>4</th>\n",
              "      <td>-0.004746</td>\n",
              "      <td>0.018611</td>\n",
              "      <td>-0.000727</td>\n",
              "      <td>-0.001251</td>\n",
              "      <td>-0.002611</td>\n",
              "      <td>-0.007519</td>\n",
              "      <td>0.003752</td>\n",
              "      <td>0.007701</td>\n",
              "      <td>-0.000762</td>\n",
              "      <td>0.019824</td>\n",
              "      <td>...</td>\n",
              "      <td>-0.007606</td>\n",
              "      <td>0.003394</td>\n",
              "      <td>0.001375</td>\n",
              "      <td>0.008701</td>\n",
              "      <td>-0.001430</td>\n",
              "      <td>-0.003737</td>\n",
              "      <td>-0.012111</td>\n",
              "      <td>0.001757</td>\n",
              "      <td>-0.000514</td>\n",
              "      <td>0.000910</td>\n",
              "    </tr>\n",
              "    <tr>\n",
              "      <th>5</th>\n",
              "      <td>-0.002192</td>\n",
              "      <td>-0.020258</td>\n",
              "      <td>-0.000728</td>\n",
              "      <td>0.001608</td>\n",
              "      <td>-0.007241</td>\n",
              "      <td>0.000770</td>\n",
              "      <td>-0.009844</td>\n",
              "      <td>0.007384</td>\n",
              "      <td>-0.001525</td>\n",
              "      <td>0.009093</td>\n",
              "      <td>...</td>\n",
              "      <td>0.002753</td>\n",
              "      <td>-0.004769</td>\n",
              "      <td>-0.028563</td>\n",
              "      <td>-0.002001</td>\n",
              "      <td>-0.008227</td>\n",
              "      <td>-0.000468</td>\n",
              "      <td>-0.010772</td>\n",
              "      <td>-0.003517</td>\n",
              "      <td>-0.001648</td>\n",
              "      <td>0.006167</td>\n",
              "    </tr>\n",
              "    <tr>\n",
              "      <th>...</th>\n",
              "      <td>...</td>\n",
              "      <td>...</td>\n",
              "      <td>...</td>\n",
              "      <td>...</td>\n",
              "      <td>...</td>\n",
              "      <td>...</td>\n",
              "      <td>...</td>\n",
              "      <td>...</td>\n",
              "      <td>...</td>\n",
              "      <td>...</td>\n",
              "      <td>...</td>\n",
              "      <td>...</td>\n",
              "      <td>...</td>\n",
              "      <td>...</td>\n",
              "      <td>...</td>\n",
              "      <td>...</td>\n",
              "      <td>...</td>\n",
              "      <td>...</td>\n",
              "      <td>...</td>\n",
              "      <td>...</td>\n",
              "      <td>...</td>\n",
              "    </tr>\n",
              "    <tr>\n",
              "      <th>247</th>\n",
              "      <td>0.012292</td>\n",
              "      <td>0.009891</td>\n",
              "      <td>0.015461</td>\n",
              "      <td>0.003255</td>\n",
              "      <td>0.004402</td>\n",
              "      <td>-0.001723</td>\n",
              "      <td>0.001309</td>\n",
              "      <td>0.000553</td>\n",
              "      <td>-0.001397</td>\n",
              "      <td>-0.043029</td>\n",
              "      <td>...</td>\n",
              "      <td>0.002503</td>\n",
              "      <td>-0.002777</td>\n",
              "      <td>0.019432</td>\n",
              "      <td>0.055314</td>\n",
              "      <td>0.001252</td>\n",
              "      <td>-0.008052</td>\n",
              "      <td>-0.007575</td>\n",
              "      <td>-0.002970</td>\n",
              "      <td>-0.003727</td>\n",
              "      <td>0.023216</td>\n",
              "    </tr>\n",
              "    <tr>\n",
              "      <th>248</th>\n",
              "      <td>-0.016693</td>\n",
              "      <td>0.003807</td>\n",
              "      <td>-0.006998</td>\n",
              "      <td>0.005084</td>\n",
              "      <td>-0.008270</td>\n",
              "      <td>-0.000663</td>\n",
              "      <td>-0.000262</td>\n",
              "      <td>-0.002655</td>\n",
              "      <td>0.001048</td>\n",
              "      <td>0.043324</td>\n",
              "      <td>...</td>\n",
              "      <td>0.003263</td>\n",
              "      <td>-0.004942</td>\n",
              "      <td>-0.004823</td>\n",
              "      <td>-0.028504</td>\n",
              "      <td>0.000278</td>\n",
              "      <td>0.009489</td>\n",
              "      <td>-0.008812</td>\n",
              "      <td>-0.010552</td>\n",
              "      <td>0.010200</td>\n",
              "      <td>-0.027268</td>\n",
              "    </tr>\n",
              "    <tr>\n",
              "      <th>249</th>\n",
              "      <td>0.005936</td>\n",
              "      <td>0.000245</td>\n",
              "      <td>-0.004928</td>\n",
              "      <td>-0.005658</td>\n",
              "      <td>0.000111</td>\n",
              "      <td>-0.001461</td>\n",
              "      <td>-0.013437</td>\n",
              "      <td>-0.001552</td>\n",
              "      <td>-0.002913</td>\n",
              "      <td>0.015902</td>\n",
              "      <td>...</td>\n",
              "      <td>0.006971</td>\n",
              "      <td>0.002031</td>\n",
              "      <td>-0.023054</td>\n",
              "      <td>-0.005552</td>\n",
              "      <td>-0.009778</td>\n",
              "      <td>-0.004771</td>\n",
              "      <td>-0.010827</td>\n",
              "      <td>-0.007453</td>\n",
              "      <td>-0.005729</td>\n",
              "      <td>0.003430</td>\n",
              "    </tr>\n",
              "    <tr>\n",
              "      <th>250</th>\n",
              "      <td>-0.033813</td>\n",
              "      <td>-0.011709</td>\n",
              "      <td>-0.035192</td>\n",
              "      <td>-0.001404</td>\n",
              "      <td>0.000664</td>\n",
              "      <td>-0.005599</td>\n",
              "      <td>0.001060</td>\n",
              "      <td>-0.028019</td>\n",
              "      <td>-0.013275</td>\n",
              "      <td>-0.016789</td>\n",
              "      <td>...</td>\n",
              "      <td>-0.005821</td>\n",
              "      <td>-0.008595</td>\n",
              "      <td>-0.032319</td>\n",
              "      <td>0.003242</td>\n",
              "      <td>-0.009024</td>\n",
              "      <td>-0.021019</td>\n",
              "      <td>-0.027515</td>\n",
              "      <td>-0.016342</td>\n",
              "      <td>-0.028520</td>\n",
              "      <td>-0.020441</td>\n",
              "    </tr>\n",
              "    <tr>\n",
              "      <th>251</th>\n",
              "      <td>0.004751</td>\n",
              "      <td>-0.003229</td>\n",
              "      <td>-0.018444</td>\n",
              "      <td>0.000064</td>\n",
              "      <td>0.000000</td>\n",
              "      <td>-0.002677</td>\n",
              "      <td>-0.006380</td>\n",
              "      <td>0.007503</td>\n",
              "      <td>-0.003198</td>\n",
              "      <td>-0.009210</td>\n",
              "      <td>...</td>\n",
              "      <td>-0.004412</td>\n",
              "      <td>-0.001216</td>\n",
              "      <td>-0.001461</td>\n",
              "      <td>0.010428</td>\n",
              "      <td>-0.002837</td>\n",
              "      <td>-0.007314</td>\n",
              "      <td>0.009610</td>\n",
              "      <td>0.006857</td>\n",
              "      <td>-0.002995</td>\n",
              "      <td>0.015448</td>\n",
              "    </tr>\n",
              "  </tbody>\n",
              "</table>\n",
              "<p>251 rows × 504 columns</p>\n",
              "</div>\n",
              "      <button class=\"colab-df-convert\" onclick=\"convertToInteractive('df-32fd8a20-8a8e-40f0-9531-24956153173e')\"\n",
              "              title=\"Convert this dataframe to an interactive table.\"\n",
              "              style=\"display:none;\">\n",
              "        \n",
              "  <svg xmlns=\"http://www.w3.org/2000/svg\" height=\"24px\"viewBox=\"0 0 24 24\"\n",
              "       width=\"24px\">\n",
              "    <path d=\"M0 0h24v24H0V0z\" fill=\"none\"/>\n",
              "    <path d=\"M18.56 5.44l.94 2.06.94-2.06 2.06-.94-2.06-.94-.94-2.06-.94 2.06-2.06.94zm-11 1L8.5 8.5l.94-2.06 2.06-.94-2.06-.94L8.5 2.5l-.94 2.06-2.06.94zm10 10l.94 2.06.94-2.06 2.06-.94-2.06-.94-.94-2.06-.94 2.06-2.06.94z\"/><path d=\"M17.41 7.96l-1.37-1.37c-.4-.4-.92-.59-1.43-.59-.52 0-1.04.2-1.43.59L10.3 9.45l-7.72 7.72c-.78.78-.78 2.05 0 2.83L4 21.41c.39.39.9.59 1.41.59.51 0 1.02-.2 1.41-.59l7.78-7.78 2.81-2.81c.8-.78.8-2.07 0-2.86zM5.41 20L4 18.59l7.72-7.72 1.47 1.35L5.41 20z\"/>\n",
              "  </svg>\n",
              "      </button>\n",
              "      \n",
              "  <style>\n",
              "    .colab-df-container {\n",
              "      display:flex;\n",
              "      flex-wrap:wrap;\n",
              "      gap: 12px;\n",
              "    }\n",
              "\n",
              "    .colab-df-convert {\n",
              "      background-color: #E8F0FE;\n",
              "      border: none;\n",
              "      border-radius: 50%;\n",
              "      cursor: pointer;\n",
              "      display: none;\n",
              "      fill: #1967D2;\n",
              "      height: 32px;\n",
              "      padding: 0 0 0 0;\n",
              "      width: 32px;\n",
              "    }\n",
              "\n",
              "    .colab-df-convert:hover {\n",
              "      background-color: #E2EBFA;\n",
              "      box-shadow: 0px 1px 2px rgba(60, 64, 67, 0.3), 0px 1px 3px 1px rgba(60, 64, 67, 0.15);\n",
              "      fill: #174EA6;\n",
              "    }\n",
              "\n",
              "    [theme=dark] .colab-df-convert {\n",
              "      background-color: #3B4455;\n",
              "      fill: #D2E3FC;\n",
              "    }\n",
              "\n",
              "    [theme=dark] .colab-df-convert:hover {\n",
              "      background-color: #434B5C;\n",
              "      box-shadow: 0px 1px 3px 1px rgba(0, 0, 0, 0.15);\n",
              "      filter: drop-shadow(0px 1px 2px rgba(0, 0, 0, 0.3));\n",
              "      fill: #FFFFFF;\n",
              "    }\n",
              "  </style>\n",
              "\n",
              "      <script>\n",
              "        const buttonEl =\n",
              "          document.querySelector('#df-32fd8a20-8a8e-40f0-9531-24956153173e button.colab-df-convert');\n",
              "        buttonEl.style.display =\n",
              "          google.colab.kernel.accessAllowed ? 'block' : 'none';\n",
              "\n",
              "        async function convertToInteractive(key) {\n",
              "          const element = document.querySelector('#df-32fd8a20-8a8e-40f0-9531-24956153173e');\n",
              "          const dataTable =\n",
              "            await google.colab.kernel.invokeFunction('convertToInteractive',\n",
              "                                                     [key], {});\n",
              "          if (!dataTable) return;\n",
              "\n",
              "          const docLinkHtml = 'Like what you see? Visit the ' +\n",
              "            '<a target=\"_blank\" href=https://colab.research.google.com/notebooks/data_table.ipynb>data table notebook</a>'\n",
              "            + ' to learn more about interactive tables.';\n",
              "          element.innerHTML = '';\n",
              "          dataTable['output_type'] = 'display_data';\n",
              "          await google.colab.output.renderOutput(dataTable, element);\n",
              "          const docLink = document.createElement('div');\n",
              "          docLink.innerHTML = docLinkHtml;\n",
              "          element.appendChild(docLink);\n",
              "        }\n",
              "      </script>\n",
              "    </div>\n",
              "  </div>\n",
              "  "
            ]
          },
          "metadata": {},
          "execution_count": 69
        }
      ]
    },
    {
      "cell_type": "code",
      "source": [
        "#add date column to log_return matrix\n",
        "log_return['date']=data.iloc[1:,0]"
      ],
      "metadata": {
        "colab": {
          "base_uri": "https://localhost:8080/"
        },
        "id": "bB2H3xIRX1BH",
        "outputId": "69537f0a-024c-450f-e97e-84bb37ea2bc5"
      },
      "execution_count": null,
      "outputs": [
        {
          "output_type": "stream",
          "name": "stderr",
          "text": [
            "<ipython-input-70-9bcc57809400>:2: SettingWithCopyWarning: \n",
            "A value is trying to be set on a copy of a slice from a DataFrame.\n",
            "Try using .loc[row_indexer,col_indexer] = value instead\n",
            "\n",
            "See the caveats in the documentation: https://pandas.pydata.org/pandas-docs/stable/user_guide/indexing.html#returning-a-view-versus-a-copy\n",
            "  log_return['date']=data.iloc[1:,0]\n"
          ]
        }
      ]
    },
    {
      "cell_type": "markdown",
      "source": [
        "**compute the mean log return per stock**"
      ],
      "metadata": {
        "id": "37N-swQoasJs"
      }
    },
    {
      "cell_type": "code",
      "source": [
        "mean_per_stock=log_return.mean(axis=0)\n",
        "mean_per_stock"
      ],
      "metadata": {
        "colab": {
          "base_uri": "https://localhost:8080/"
        },
        "id": "UyE_dRKVaiNU",
        "outputId": "44cb7a15-7732-4399-d7e6-abf1be106d31"
      },
      "execution_count": null,
      "outputs": [
        {
          "output_type": "stream",
          "name": "stderr",
          "text": [
            "<ipython-input-71-fd2973f408ae>:1: FutureWarning: Dropping of nuisance columns in DataFrame reductions (with 'numeric_only=None') is deprecated; in a future version this will raise TypeError.  Select only valid columns before calling the reduction.\n",
            "  mean_per_stock=log_return.mean(axis=0)\n"
          ]
        },
        {
          "output_type": "execute_result",
          "data": {
            "text/plain": [
              "ALXN   -0.000015\n",
              "WMT     0.000336\n",
              "NWSA   -0.000024\n",
              "COST   -0.000303\n",
              "DPS    -0.000291\n",
              "          ...   \n",
              "PNC     0.001633\n",
              "UAL     0.001336\n",
              "WRK     0.000891\n",
              "AMP     0.001614\n",
              "PKI     0.000642\n",
              "Length: 504, dtype: float64"
            ]
          },
          "metadata": {},
          "execution_count": 71
        }
      ]
    },
    {
      "cell_type": "markdown",
      "source": [
        "**compute the mean log return per date**"
      ],
      "metadata": {
        "id": "KNvCxF97cCH0"
      }
    },
    {
      "cell_type": "code",
      "source": [
        "mean_per_date=log_return.mean(axis=1)\n",
        "mean_per_date"
      ],
      "metadata": {
        "colab": {
          "base_uri": "https://localhost:8080/"
        },
        "id": "4OEy9KKVb2Z6",
        "outputId": "3de64eb8-a030-4521-a7de-20e415d89c0f"
      },
      "execution_count": null,
      "outputs": [
        {
          "output_type": "stream",
          "name": "stderr",
          "text": [
            "<ipython-input-72-8ee12b31540d>:1: FutureWarning: Dropping of nuisance columns in DataFrame reductions (with 'numeric_only=None') is deprecated; in a future version this will raise TypeError.  Select only valid columns before calling the reduction.\n",
            "  mean_per_date=log_return.mean(axis=1)\n"
          ]
        },
        {
          "output_type": "execute_result",
          "data": {
            "text/plain": [
              "1      0.004720\n",
              "2     -0.006534\n",
              "3      0.000846\n",
              "4      0.004719\n",
              "5      0.000187\n",
              "         ...   \n",
              "247    0.000589\n",
              "248   -0.003067\n",
              "249   -0.001733\n",
              "250   -0.014939\n",
              "251    0.000537\n",
              "Length: 251, dtype: float64"
            ]
          },
          "metadata": {},
          "execution_count": 72
        }
      ]
    },
    {
      "cell_type": "code",
      "source": [
        "#check the type of column \"date\"\n",
        "log_return['date']"
      ],
      "metadata": {
        "colab": {
          "base_uri": "https://localhost:8080/"
        },
        "id": "hlFTYvunX8yb",
        "outputId": "bf80e79e-1466-4694-8a81-cb4c9cf686e7"
      },
      "execution_count": null,
      "outputs": [
        {
          "output_type": "execute_result",
          "data": {
            "text/plain": [
              "1      2016-08-15\n",
              "2      2016-08-16\n",
              "3      2016-08-17\n",
              "4      2016-08-18\n",
              "5      2016-08-19\n",
              "          ...    \n",
              "247    2017-08-07\n",
              "248    2017-08-08\n",
              "249    2017-08-09\n",
              "250    2017-08-10\n",
              "251    2017-08-11\n",
              "Name: date, Length: 251, dtype: object"
            ]
          },
          "metadata": {},
          "execution_count": 73
        }
      ]
    },
    {
      "cell_type": "code",
      "source": [
        "#change date type to \"datetime\"\n",
        "log_return['date']=pd.to_datetime(log_return['date'])\n",
        "log_return['date']"
      ],
      "metadata": {
        "colab": {
          "base_uri": "https://localhost:8080/"
        },
        "id": "6XkxbVowZp9f",
        "outputId": "8850157a-e2be-44e7-f49b-a60dc79dc010"
      },
      "execution_count": null,
      "outputs": [
        {
          "output_type": "stream",
          "name": "stderr",
          "text": [
            "<ipython-input-74-e3b88f0195cd>:2: SettingWithCopyWarning: \n",
            "A value is trying to be set on a copy of a slice from a DataFrame.\n",
            "Try using .loc[row_indexer,col_indexer] = value instead\n",
            "\n",
            "See the caveats in the documentation: https://pandas.pydata.org/pandas-docs/stable/user_guide/indexing.html#returning-a-view-versus-a-copy\n",
            "  log_return['date']=pd.to_datetime(log_return['date'])\n"
          ]
        },
        {
          "output_type": "execute_result",
          "data": {
            "text/plain": [
              "1     2016-08-15\n",
              "2     2016-08-16\n",
              "3     2016-08-17\n",
              "4     2016-08-18\n",
              "5     2016-08-19\n",
              "         ...    \n",
              "247   2017-08-07\n",
              "248   2017-08-08\n",
              "249   2017-08-09\n",
              "250   2017-08-10\n",
              "251   2017-08-11\n",
              "Name: date, Length: 251, dtype: datetime64[ns]"
            ]
          },
          "metadata": {},
          "execution_count": 74
        }
      ]
    },
    {
      "cell_type": "code",
      "source": [
        "#print the mean log return per date\n",
        "\n",
        "mean_per_date=pd.DataFrame(mean_per_date, columns = ['mean_log_return'])\n",
        "mean_per_date['date']=log_return['date']\n",
        "mean_per_date"
      ],
      "metadata": {
        "colab": {
          "base_uri": "https://localhost:8080/",
          "height": 424
        },
        "id": "Scq2MPkfdChg",
        "outputId": "9c9654d1-e84d-43fd-c61a-2594f96c5765"
      },
      "execution_count": null,
      "outputs": [
        {
          "output_type": "execute_result",
          "data": {
            "text/plain": [
              "     mean_log_return       date\n",
              "1           0.004720 2016-08-15\n",
              "2          -0.006534 2016-08-16\n",
              "3           0.000846 2016-08-17\n",
              "4           0.004719 2016-08-18\n",
              "5           0.000187 2016-08-19\n",
              "..               ...        ...\n",
              "247         0.000589 2017-08-07\n",
              "248        -0.003067 2017-08-08\n",
              "249        -0.001733 2017-08-09\n",
              "250        -0.014939 2017-08-10\n",
              "251         0.000537 2017-08-11\n",
              "\n",
              "[251 rows x 2 columns]"
            ],
            "text/html": [
              "\n",
              "  <div id=\"df-06844a5b-e3d4-4593-9e7c-9b834a23eda7\">\n",
              "    <div class=\"colab-df-container\">\n",
              "      <div>\n",
              "<style scoped>\n",
              "    .dataframe tbody tr th:only-of-type {\n",
              "        vertical-align: middle;\n",
              "    }\n",
              "\n",
              "    .dataframe tbody tr th {\n",
              "        vertical-align: top;\n",
              "    }\n",
              "\n",
              "    .dataframe thead th {\n",
              "        text-align: right;\n",
              "    }\n",
              "</style>\n",
              "<table border=\"1\" class=\"dataframe\">\n",
              "  <thead>\n",
              "    <tr style=\"text-align: right;\">\n",
              "      <th></th>\n",
              "      <th>mean_log_return</th>\n",
              "      <th>date</th>\n",
              "    </tr>\n",
              "  </thead>\n",
              "  <tbody>\n",
              "    <tr>\n",
              "      <th>1</th>\n",
              "      <td>0.004720</td>\n",
              "      <td>2016-08-15</td>\n",
              "    </tr>\n",
              "    <tr>\n",
              "      <th>2</th>\n",
              "      <td>-0.006534</td>\n",
              "      <td>2016-08-16</td>\n",
              "    </tr>\n",
              "    <tr>\n",
              "      <th>3</th>\n",
              "      <td>0.000846</td>\n",
              "      <td>2016-08-17</td>\n",
              "    </tr>\n",
              "    <tr>\n",
              "      <th>4</th>\n",
              "      <td>0.004719</td>\n",
              "      <td>2016-08-18</td>\n",
              "    </tr>\n",
              "    <tr>\n",
              "      <th>5</th>\n",
              "      <td>0.000187</td>\n",
              "      <td>2016-08-19</td>\n",
              "    </tr>\n",
              "    <tr>\n",
              "      <th>...</th>\n",
              "      <td>...</td>\n",
              "      <td>...</td>\n",
              "    </tr>\n",
              "    <tr>\n",
              "      <th>247</th>\n",
              "      <td>0.000589</td>\n",
              "      <td>2017-08-07</td>\n",
              "    </tr>\n",
              "    <tr>\n",
              "      <th>248</th>\n",
              "      <td>-0.003067</td>\n",
              "      <td>2017-08-08</td>\n",
              "    </tr>\n",
              "    <tr>\n",
              "      <th>249</th>\n",
              "      <td>-0.001733</td>\n",
              "      <td>2017-08-09</td>\n",
              "    </tr>\n",
              "    <tr>\n",
              "      <th>250</th>\n",
              "      <td>-0.014939</td>\n",
              "      <td>2017-08-10</td>\n",
              "    </tr>\n",
              "    <tr>\n",
              "      <th>251</th>\n",
              "      <td>0.000537</td>\n",
              "      <td>2017-08-11</td>\n",
              "    </tr>\n",
              "  </tbody>\n",
              "</table>\n",
              "<p>251 rows × 2 columns</p>\n",
              "</div>\n",
              "      <button class=\"colab-df-convert\" onclick=\"convertToInteractive('df-06844a5b-e3d4-4593-9e7c-9b834a23eda7')\"\n",
              "              title=\"Convert this dataframe to an interactive table.\"\n",
              "              style=\"display:none;\">\n",
              "        \n",
              "  <svg xmlns=\"http://www.w3.org/2000/svg\" height=\"24px\"viewBox=\"0 0 24 24\"\n",
              "       width=\"24px\">\n",
              "    <path d=\"M0 0h24v24H0V0z\" fill=\"none\"/>\n",
              "    <path d=\"M18.56 5.44l.94 2.06.94-2.06 2.06-.94-2.06-.94-.94-2.06-.94 2.06-2.06.94zm-11 1L8.5 8.5l.94-2.06 2.06-.94-2.06-.94L8.5 2.5l-.94 2.06-2.06.94zm10 10l.94 2.06.94-2.06 2.06-.94-2.06-.94-.94-2.06-.94 2.06-2.06.94z\"/><path d=\"M17.41 7.96l-1.37-1.37c-.4-.4-.92-.59-1.43-.59-.52 0-1.04.2-1.43.59L10.3 9.45l-7.72 7.72c-.78.78-.78 2.05 0 2.83L4 21.41c.39.39.9.59 1.41.59.51 0 1.02-.2 1.41-.59l7.78-7.78 2.81-2.81c.8-.78.8-2.07 0-2.86zM5.41 20L4 18.59l7.72-7.72 1.47 1.35L5.41 20z\"/>\n",
              "  </svg>\n",
              "      </button>\n",
              "      \n",
              "  <style>\n",
              "    .colab-df-container {\n",
              "      display:flex;\n",
              "      flex-wrap:wrap;\n",
              "      gap: 12px;\n",
              "    }\n",
              "\n",
              "    .colab-df-convert {\n",
              "      background-color: #E8F0FE;\n",
              "      border: none;\n",
              "      border-radius: 50%;\n",
              "      cursor: pointer;\n",
              "      display: none;\n",
              "      fill: #1967D2;\n",
              "      height: 32px;\n",
              "      padding: 0 0 0 0;\n",
              "      width: 32px;\n",
              "    }\n",
              "\n",
              "    .colab-df-convert:hover {\n",
              "      background-color: #E2EBFA;\n",
              "      box-shadow: 0px 1px 2px rgba(60, 64, 67, 0.3), 0px 1px 3px 1px rgba(60, 64, 67, 0.15);\n",
              "      fill: #174EA6;\n",
              "    }\n",
              "\n",
              "    [theme=dark] .colab-df-convert {\n",
              "      background-color: #3B4455;\n",
              "      fill: #D2E3FC;\n",
              "    }\n",
              "\n",
              "    [theme=dark] .colab-df-convert:hover {\n",
              "      background-color: #434B5C;\n",
              "      box-shadow: 0px 1px 3px 1px rgba(0, 0, 0, 0.15);\n",
              "      filter: drop-shadow(0px 1px 2px rgba(0, 0, 0, 0.3));\n",
              "      fill: #FFFFFF;\n",
              "    }\n",
              "  </style>\n",
              "\n",
              "      <script>\n",
              "        const buttonEl =\n",
              "          document.querySelector('#df-06844a5b-e3d4-4593-9e7c-9b834a23eda7 button.colab-df-convert');\n",
              "        buttonEl.style.display =\n",
              "          google.colab.kernel.accessAllowed ? 'block' : 'none';\n",
              "\n",
              "        async function convertToInteractive(key) {\n",
              "          const element = document.querySelector('#df-06844a5b-e3d4-4593-9e7c-9b834a23eda7');\n",
              "          const dataTable =\n",
              "            await google.colab.kernel.invokeFunction('convertToInteractive',\n",
              "                                                     [key], {});\n",
              "          if (!dataTable) return;\n",
              "\n",
              "          const docLinkHtml = 'Like what you see? Visit the ' +\n",
              "            '<a target=\"_blank\" href=https://colab.research.google.com/notebooks/data_table.ipynb>data table notebook</a>'\n",
              "            + ' to learn more about interactive tables.';\n",
              "          element.innerHTML = '';\n",
              "          dataTable['output_type'] = 'display_data';\n",
              "          await google.colab.output.renderOutput(dataTable, element);\n",
              "          const docLink = document.createElement('div');\n",
              "          docLink.innerHTML = docLinkHtml;\n",
              "          element.appendChild(docLink);\n",
              "        }\n",
              "      </script>\n",
              "    </div>\n",
              "  </div>\n",
              "  "
            ]
          },
          "metadata": {},
          "execution_count": 75
        }
      ]
    },
    {
      "cell_type": "markdown",
      "source": [
        "**stocks with highest mean log return**"
      ],
      "metadata": {
        "id": "B8R_UNasgtoz"
      }
    },
    {
      "cell_type": "code",
      "source": [
        "#extract the top five rewarding stocks in decreasing order\n",
        "five_stocks=mean_per_stock.sort_values(ascending=False)[:5]"
      ],
      "metadata": {
        "id": "OCra0_G1dbZn"
      },
      "execution_count": null,
      "outputs": []
    },
    {
      "cell_type": "code",
      "source": [
        "\n",
        "five_stocks"
      ],
      "metadata": {
        "colab": {
          "base_uri": "https://localhost:8080/"
        },
        "id": "ttB1E4_zjWUy",
        "outputId": "f79b7214-368a-4e78-8488-c74103a815f2"
      },
      "execution_count": null,
      "outputs": [
        {
          "output_type": "execute_result",
          "data": {
            "text/plain": [
              "NVDA    0.003609\n",
              "JEC     0.002691\n",
              "NRG     0.002639\n",
              "MU      0.002507\n",
              "AMD     0.002380\n",
              "dtype: float64"
            ]
          },
          "metadata": {},
          "execution_count": 77
        }
      ]
    },
    {
      "cell_type": "markdown",
      "source": [
        "**correlation between the 5 stocks**"
      ],
      "metadata": {
        "id": "FZo4omYIi0Zm"
      }
    },
    {
      "cell_type": "code",
      "source": [
        "#extract the values of the five top rewarding stocks\n",
        "\n",
        "five_stocks=data.loc[:,five_stocks.index]"
      ],
      "metadata": {
        "id": "3oww7zcshIps"
      },
      "execution_count": null,
      "outputs": []
    },
    {
      "cell_type": "code",
      "source": [
        "five_stocks"
      ],
      "metadata": {
        "colab": {
          "base_uri": "https://localhost:8080/",
          "height": 424
        },
        "id": "_HVGkKh2jmCq",
        "outputId": "886e9017-87b1-43ca-8897-2914fb22daaa"
      },
      "execution_count": null,
      "outputs": [
        {
          "output_type": "execute_result",
          "data": {
            "text/plain": [
              "       NVDA    JEC    NRG     MU    AMD\n",
              "0     63.04  26.76  12.72  14.93   6.73\n",
              "1     62.98  27.12  12.61  15.53   6.95\n",
              "2     62.60  26.84  12.30  15.49   6.78\n",
              "3     61.15  26.64  12.38  15.52   6.68\n",
              "4     62.10  26.98  12.57  15.77   7.04\n",
              "..      ...    ...    ...    ...    ...\n",
              "247  172.35  52.31  24.50  28.59  13.43\n",
              "248  170.30  54.12  24.25  28.84  13.11\n",
              "249  172.11  54.22  24.33  28.58  12.83\n",
              "250  164.74  52.68  24.39  27.49  12.12\n",
              "251  155.96  52.58  24.67  28.01  12.23\n",
              "\n",
              "[252 rows x 5 columns]"
            ],
            "text/html": [
              "\n",
              "  <div id=\"df-004cf784-2b5d-4f19-9da0-9b56328538ea\">\n",
              "    <div class=\"colab-df-container\">\n",
              "      <div>\n",
              "<style scoped>\n",
              "    .dataframe tbody tr th:only-of-type {\n",
              "        vertical-align: middle;\n",
              "    }\n",
              "\n",
              "    .dataframe tbody tr th {\n",
              "        vertical-align: top;\n",
              "    }\n",
              "\n",
              "    .dataframe thead th {\n",
              "        text-align: right;\n",
              "    }\n",
              "</style>\n",
              "<table border=\"1\" class=\"dataframe\">\n",
              "  <thead>\n",
              "    <tr style=\"text-align: right;\">\n",
              "      <th></th>\n",
              "      <th>NVDA</th>\n",
              "      <th>JEC</th>\n",
              "      <th>NRG</th>\n",
              "      <th>MU</th>\n",
              "      <th>AMD</th>\n",
              "    </tr>\n",
              "  </thead>\n",
              "  <tbody>\n",
              "    <tr>\n",
              "      <th>0</th>\n",
              "      <td>63.04</td>\n",
              "      <td>26.76</td>\n",
              "      <td>12.72</td>\n",
              "      <td>14.93</td>\n",
              "      <td>6.73</td>\n",
              "    </tr>\n",
              "    <tr>\n",
              "      <th>1</th>\n",
              "      <td>62.98</td>\n",
              "      <td>27.12</td>\n",
              "      <td>12.61</td>\n",
              "      <td>15.53</td>\n",
              "      <td>6.95</td>\n",
              "    </tr>\n",
              "    <tr>\n",
              "      <th>2</th>\n",
              "      <td>62.60</td>\n",
              "      <td>26.84</td>\n",
              "      <td>12.30</td>\n",
              "      <td>15.49</td>\n",
              "      <td>6.78</td>\n",
              "    </tr>\n",
              "    <tr>\n",
              "      <th>3</th>\n",
              "      <td>61.15</td>\n",
              "      <td>26.64</td>\n",
              "      <td>12.38</td>\n",
              "      <td>15.52</td>\n",
              "      <td>6.68</td>\n",
              "    </tr>\n",
              "    <tr>\n",
              "      <th>4</th>\n",
              "      <td>62.10</td>\n",
              "      <td>26.98</td>\n",
              "      <td>12.57</td>\n",
              "      <td>15.77</td>\n",
              "      <td>7.04</td>\n",
              "    </tr>\n",
              "    <tr>\n",
              "      <th>...</th>\n",
              "      <td>...</td>\n",
              "      <td>...</td>\n",
              "      <td>...</td>\n",
              "      <td>...</td>\n",
              "      <td>...</td>\n",
              "    </tr>\n",
              "    <tr>\n",
              "      <th>247</th>\n",
              "      <td>172.35</td>\n",
              "      <td>52.31</td>\n",
              "      <td>24.50</td>\n",
              "      <td>28.59</td>\n",
              "      <td>13.43</td>\n",
              "    </tr>\n",
              "    <tr>\n",
              "      <th>248</th>\n",
              "      <td>170.30</td>\n",
              "      <td>54.12</td>\n",
              "      <td>24.25</td>\n",
              "      <td>28.84</td>\n",
              "      <td>13.11</td>\n",
              "    </tr>\n",
              "    <tr>\n",
              "      <th>249</th>\n",
              "      <td>172.11</td>\n",
              "      <td>54.22</td>\n",
              "      <td>24.33</td>\n",
              "      <td>28.58</td>\n",
              "      <td>12.83</td>\n",
              "    </tr>\n",
              "    <tr>\n",
              "      <th>250</th>\n",
              "      <td>164.74</td>\n",
              "      <td>52.68</td>\n",
              "      <td>24.39</td>\n",
              "      <td>27.49</td>\n",
              "      <td>12.12</td>\n",
              "    </tr>\n",
              "    <tr>\n",
              "      <th>251</th>\n",
              "      <td>155.96</td>\n",
              "      <td>52.58</td>\n",
              "      <td>24.67</td>\n",
              "      <td>28.01</td>\n",
              "      <td>12.23</td>\n",
              "    </tr>\n",
              "  </tbody>\n",
              "</table>\n",
              "<p>252 rows × 5 columns</p>\n",
              "</div>\n",
              "      <button class=\"colab-df-convert\" onclick=\"convertToInteractive('df-004cf784-2b5d-4f19-9da0-9b56328538ea')\"\n",
              "              title=\"Convert this dataframe to an interactive table.\"\n",
              "              style=\"display:none;\">\n",
              "        \n",
              "  <svg xmlns=\"http://www.w3.org/2000/svg\" height=\"24px\"viewBox=\"0 0 24 24\"\n",
              "       width=\"24px\">\n",
              "    <path d=\"M0 0h24v24H0V0z\" fill=\"none\"/>\n",
              "    <path d=\"M18.56 5.44l.94 2.06.94-2.06 2.06-.94-2.06-.94-.94-2.06-.94 2.06-2.06.94zm-11 1L8.5 8.5l.94-2.06 2.06-.94-2.06-.94L8.5 2.5l-.94 2.06-2.06.94zm10 10l.94 2.06.94-2.06 2.06-.94-2.06-.94-.94-2.06-.94 2.06-2.06.94z\"/><path d=\"M17.41 7.96l-1.37-1.37c-.4-.4-.92-.59-1.43-.59-.52 0-1.04.2-1.43.59L10.3 9.45l-7.72 7.72c-.78.78-.78 2.05 0 2.83L4 21.41c.39.39.9.59 1.41.59.51 0 1.02-.2 1.41-.59l7.78-7.78 2.81-2.81c.8-.78.8-2.07 0-2.86zM5.41 20L4 18.59l7.72-7.72 1.47 1.35L5.41 20z\"/>\n",
              "  </svg>\n",
              "      </button>\n",
              "      \n",
              "  <style>\n",
              "    .colab-df-container {\n",
              "      display:flex;\n",
              "      flex-wrap:wrap;\n",
              "      gap: 12px;\n",
              "    }\n",
              "\n",
              "    .colab-df-convert {\n",
              "      background-color: #E8F0FE;\n",
              "      border: none;\n",
              "      border-radius: 50%;\n",
              "      cursor: pointer;\n",
              "      display: none;\n",
              "      fill: #1967D2;\n",
              "      height: 32px;\n",
              "      padding: 0 0 0 0;\n",
              "      width: 32px;\n",
              "    }\n",
              "\n",
              "    .colab-df-convert:hover {\n",
              "      background-color: #E2EBFA;\n",
              "      box-shadow: 0px 1px 2px rgba(60, 64, 67, 0.3), 0px 1px 3px 1px rgba(60, 64, 67, 0.15);\n",
              "      fill: #174EA6;\n",
              "    }\n",
              "\n",
              "    [theme=dark] .colab-df-convert {\n",
              "      background-color: #3B4455;\n",
              "      fill: #D2E3FC;\n",
              "    }\n",
              "\n",
              "    [theme=dark] .colab-df-convert:hover {\n",
              "      background-color: #434B5C;\n",
              "      box-shadow: 0px 1px 3px 1px rgba(0, 0, 0, 0.15);\n",
              "      filter: drop-shadow(0px 1px 2px rgba(0, 0, 0, 0.3));\n",
              "      fill: #FFFFFF;\n",
              "    }\n",
              "  </style>\n",
              "\n",
              "      <script>\n",
              "        const buttonEl =\n",
              "          document.querySelector('#df-004cf784-2b5d-4f19-9da0-9b56328538ea button.colab-df-convert');\n",
              "        buttonEl.style.display =\n",
              "          google.colab.kernel.accessAllowed ? 'block' : 'none';\n",
              "\n",
              "        async function convertToInteractive(key) {\n",
              "          const element = document.querySelector('#df-004cf784-2b5d-4f19-9da0-9b56328538ea');\n",
              "          const dataTable =\n",
              "            await google.colab.kernel.invokeFunction('convertToInteractive',\n",
              "                                                     [key], {});\n",
              "          if (!dataTable) return;\n",
              "\n",
              "          const docLinkHtml = 'Like what you see? Visit the ' +\n",
              "            '<a target=\"_blank\" href=https://colab.research.google.com/notebooks/data_table.ipynb>data table notebook</a>'\n",
              "            + ' to learn more about interactive tables.';\n",
              "          element.innerHTML = '';\n",
              "          dataTable['output_type'] = 'display_data';\n",
              "          await google.colab.output.renderOutput(dataTable, element);\n",
              "          const docLink = document.createElement('div');\n",
              "          docLink.innerHTML = docLinkHtml;\n",
              "          element.appendChild(docLink);\n",
              "        }\n",
              "      </script>\n",
              "    </div>\n",
              "  </div>\n",
              "  "
            ]
          },
          "metadata": {},
          "execution_count": 79
        }
      ]
    },
    {
      "cell_type": "markdown",
      "source": [
        "compute the correlation matrix relative to these five stocks"
      ],
      "metadata": {
        "id": "Q7hF_yPKkD1u"
      }
    },
    {
      "cell_type": "code",
      "source": [
        "five_stocks.corr()"
      ],
      "metadata": {
        "colab": {
          "base_uri": "https://localhost:8080/",
          "height": 206
        },
        "id": "vCPN3JfNjnCe",
        "outputId": "359a4d9f-76c6-4e65-9965-a14df4ff62e7"
      },
      "execution_count": null,
      "outputs": [
        {
          "output_type": "execute_result",
          "data": {
            "text/plain": [
              "          NVDA       JEC       NRG        MU       AMD\n",
              "NVDA  1.000000  0.705379  0.803360  0.898480  0.755901\n",
              "JEC   0.705379  1.000000  0.759976  0.873039  0.809633\n",
              "NRG   0.803360  0.759976  1.000000  0.796213  0.802157\n",
              "MU    0.898480  0.873039  0.796213  1.000000  0.839561\n",
              "AMD   0.755901  0.809633  0.802157  0.839561  1.000000"
            ],
            "text/html": [
              "\n",
              "  <div id=\"df-32523858-321f-4595-be7b-a81affc9dc6b\">\n",
              "    <div class=\"colab-df-container\">\n",
              "      <div>\n",
              "<style scoped>\n",
              "    .dataframe tbody tr th:only-of-type {\n",
              "        vertical-align: middle;\n",
              "    }\n",
              "\n",
              "    .dataframe tbody tr th {\n",
              "        vertical-align: top;\n",
              "    }\n",
              "\n",
              "    .dataframe thead th {\n",
              "        text-align: right;\n",
              "    }\n",
              "</style>\n",
              "<table border=\"1\" class=\"dataframe\">\n",
              "  <thead>\n",
              "    <tr style=\"text-align: right;\">\n",
              "      <th></th>\n",
              "      <th>NVDA</th>\n",
              "      <th>JEC</th>\n",
              "      <th>NRG</th>\n",
              "      <th>MU</th>\n",
              "      <th>AMD</th>\n",
              "    </tr>\n",
              "  </thead>\n",
              "  <tbody>\n",
              "    <tr>\n",
              "      <th>NVDA</th>\n",
              "      <td>1.000000</td>\n",
              "      <td>0.705379</td>\n",
              "      <td>0.803360</td>\n",
              "      <td>0.898480</td>\n",
              "      <td>0.755901</td>\n",
              "    </tr>\n",
              "    <tr>\n",
              "      <th>JEC</th>\n",
              "      <td>0.705379</td>\n",
              "      <td>1.000000</td>\n",
              "      <td>0.759976</td>\n",
              "      <td>0.873039</td>\n",
              "      <td>0.809633</td>\n",
              "    </tr>\n",
              "    <tr>\n",
              "      <th>NRG</th>\n",
              "      <td>0.803360</td>\n",
              "      <td>0.759976</td>\n",
              "      <td>1.000000</td>\n",
              "      <td>0.796213</td>\n",
              "      <td>0.802157</td>\n",
              "    </tr>\n",
              "    <tr>\n",
              "      <th>MU</th>\n",
              "      <td>0.898480</td>\n",
              "      <td>0.873039</td>\n",
              "      <td>0.796213</td>\n",
              "      <td>1.000000</td>\n",
              "      <td>0.839561</td>\n",
              "    </tr>\n",
              "    <tr>\n",
              "      <th>AMD</th>\n",
              "      <td>0.755901</td>\n",
              "      <td>0.809633</td>\n",
              "      <td>0.802157</td>\n",
              "      <td>0.839561</td>\n",
              "      <td>1.000000</td>\n",
              "    </tr>\n",
              "  </tbody>\n",
              "</table>\n",
              "</div>\n",
              "      <button class=\"colab-df-convert\" onclick=\"convertToInteractive('df-32523858-321f-4595-be7b-a81affc9dc6b')\"\n",
              "              title=\"Convert this dataframe to an interactive table.\"\n",
              "              style=\"display:none;\">\n",
              "        \n",
              "  <svg xmlns=\"http://www.w3.org/2000/svg\" height=\"24px\"viewBox=\"0 0 24 24\"\n",
              "       width=\"24px\">\n",
              "    <path d=\"M0 0h24v24H0V0z\" fill=\"none\"/>\n",
              "    <path d=\"M18.56 5.44l.94 2.06.94-2.06 2.06-.94-2.06-.94-.94-2.06-.94 2.06-2.06.94zm-11 1L8.5 8.5l.94-2.06 2.06-.94-2.06-.94L8.5 2.5l-.94 2.06-2.06.94zm10 10l.94 2.06.94-2.06 2.06-.94-2.06-.94-.94-2.06-.94 2.06-2.06.94z\"/><path d=\"M17.41 7.96l-1.37-1.37c-.4-.4-.92-.59-1.43-.59-.52 0-1.04.2-1.43.59L10.3 9.45l-7.72 7.72c-.78.78-.78 2.05 0 2.83L4 21.41c.39.39.9.59 1.41.59.51 0 1.02-.2 1.41-.59l7.78-7.78 2.81-2.81c.8-.78.8-2.07 0-2.86zM5.41 20L4 18.59l7.72-7.72 1.47 1.35L5.41 20z\"/>\n",
              "  </svg>\n",
              "      </button>\n",
              "      \n",
              "  <style>\n",
              "    .colab-df-container {\n",
              "      display:flex;\n",
              "      flex-wrap:wrap;\n",
              "      gap: 12px;\n",
              "    }\n",
              "\n",
              "    .colab-df-convert {\n",
              "      background-color: #E8F0FE;\n",
              "      border: none;\n",
              "      border-radius: 50%;\n",
              "      cursor: pointer;\n",
              "      display: none;\n",
              "      fill: #1967D2;\n",
              "      height: 32px;\n",
              "      padding: 0 0 0 0;\n",
              "      width: 32px;\n",
              "    }\n",
              "\n",
              "    .colab-df-convert:hover {\n",
              "      background-color: #E2EBFA;\n",
              "      box-shadow: 0px 1px 2px rgba(60, 64, 67, 0.3), 0px 1px 3px 1px rgba(60, 64, 67, 0.15);\n",
              "      fill: #174EA6;\n",
              "    }\n",
              "\n",
              "    [theme=dark] .colab-df-convert {\n",
              "      background-color: #3B4455;\n",
              "      fill: #D2E3FC;\n",
              "    }\n",
              "\n",
              "    [theme=dark] .colab-df-convert:hover {\n",
              "      background-color: #434B5C;\n",
              "      box-shadow: 0px 1px 3px 1px rgba(0, 0, 0, 0.15);\n",
              "      filter: drop-shadow(0px 1px 2px rgba(0, 0, 0, 0.3));\n",
              "      fill: #FFFFFF;\n",
              "    }\n",
              "  </style>\n",
              "\n",
              "      <script>\n",
              "        const buttonEl =\n",
              "          document.querySelector('#df-32523858-321f-4595-be7b-a81affc9dc6b button.colab-df-convert');\n",
              "        buttonEl.style.display =\n",
              "          google.colab.kernel.accessAllowed ? 'block' : 'none';\n",
              "\n",
              "        async function convertToInteractive(key) {\n",
              "          const element = document.querySelector('#df-32523858-321f-4595-be7b-a81affc9dc6b');\n",
              "          const dataTable =\n",
              "            await google.colab.kernel.invokeFunction('convertToInteractive',\n",
              "                                                     [key], {});\n",
              "          if (!dataTable) return;\n",
              "\n",
              "          const docLinkHtml = 'Like what you see? Visit the ' +\n",
              "            '<a target=\"_blank\" href=https://colab.research.google.com/notebooks/data_table.ipynb>data table notebook</a>'\n",
              "            + ' to learn more about interactive tables.';\n",
              "          element.innerHTML = '';\n",
              "          dataTable['output_type'] = 'display_data';\n",
              "          await google.colab.output.renderOutput(dataTable, element);\n",
              "          const docLink = document.createElement('div');\n",
              "          docLink.innerHTML = docLinkHtml;\n",
              "          element.appendChild(docLink);\n",
              "        }\n",
              "      </script>\n",
              "    </div>\n",
              "  </div>\n",
              "  "
            ]
          },
          "metadata": {},
          "execution_count": 80
        }
      ]
    },
    {
      "cell_type": "markdown",
      "source": [
        "a high correlation is observed between the different stocks"
      ],
      "metadata": {
        "id": "Oj3mThoZkLIL"
      }
    },
    {
      "cell_type": "code",
      "source": [
        "sns.pairplot(five_stocks)"
      ],
      "metadata": {
        "colab": {
          "base_uri": "https://localhost:8080/",
          "height": 920
        },
        "id": "ThalECN8kJBQ",
        "outputId": "e2e80a39-bb9c-4248-bfdb-5e0b11819eb3"
      },
      "execution_count": null,
      "outputs": [
        {
          "output_type": "execute_result",
          "data": {
            "text/plain": [
              "<seaborn.axisgrid.PairGrid at 0x7fd1ef8bea00>"
            ]
          },
          "metadata": {},
          "execution_count": 81
        },
        {
          "output_type": "display_data",
          "data": {
            "text/plain": [
              "<Figure size 900x900 with 30 Axes>"
            ],
            "image/png": "[encoded data removed]"
          },
          "metadata": {
            "needs_background": "light"
          }
        }
      ]
    },
    {
      "cell_type": "code",
      "source": [],
      "metadata": {
        "id": "QOZIOTRwlnFN"
      },
      "execution_count": null,
      "outputs": []
    },
    {
      "cell_type": "code",
      "source": [],
      "metadata": {
        "id": "Qp08Plgzl4db"
      },
      "execution_count": null,
      "outputs": []
    }
  ]
}